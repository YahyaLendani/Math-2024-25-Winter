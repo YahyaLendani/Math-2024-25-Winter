{
 "cells": [
  {
   "cell_type": "code",
   "id": "initial_id",
   "metadata": {
    "collapsed": true,
    "ExecuteTime": {
     "end_time": "2025-01-02T05:46:07.669793Z",
     "start_time": "2025-01-02T05:46:07.137312Z"
    }
   },
   "source": [
    "import sympy as sp\n",
    "\n",
    "# Define the variable\n",
    "x = sp.Symbol('x')\n",
    "\n",
    "# Part 1: Find Taylor series expansions\n",
    "# 1a. f(x) = cos(x) around x = 0 up to the 4th degree\n",
    "f1 = sp.cos(x)\n",
    "taylor_f1 = sp.series(f1, x, 0, 5)\n",
    "\n",
    "# 1b. h(x) = 1 / (1 - x) around x = 0 up to the 4th degree\n",
    "f2 = 1 / (1 - x)\n",
    "taylor_f2 = sp.series(f2, x, 0, 5)\n",
    "\n",
    "# 1c. g(x) = sin(x) around x = π up to the 4th degree\n",
    "f3 = sp.sin(x)\n",
    "taylor_f3 = sp.series(f3, x, sp.pi, 5)\n",
    "\n",
    "# Part 2: Find the tangent line to f(x) = e^(sin(x)) at x0 = π\n",
    "x0 = sp.pi\n",
    "f4 = sp.exp(sp.sin(x))\n",
    "f4_prime = sp.diff(f4, x)\n",
    "tangent_line = f4_prime.subs(x, x0) * (x - x0) + f4.subs(x, x0)\n",
    "\n",
    "# Print results\n",
    "print(\"Part 1a: Taylor series for cos(x) around x = 0:\")\n",
    "print(taylor_f1)\n",
    "\n",
    "print(\"\\nPart 1b: Taylor series for 1 / (1 - x) around x = 0:\")\n",
    "print(taylor_f2)\n",
    "\n",
    "print(\"\\nPart 1c: Taylor series for sin(x) around x = π:\")\n",
    "print(taylor_f3)\n",
    "\n",
    "print(\"\\nPart 2: Tangent line to e^(sin(x)) at x = π:\")\n",
    "print(tangent_line)\n"
   ],
   "outputs": [
    {
     "name": "stdout",
     "output_type": "stream",
     "text": [
      "Part 1a: Taylor series for cos(x) around x = 0:\n",
      "1 - x**2/2 + x**4/24 + O(x**5)\n",
      "\n",
      "Part 1b: Taylor series for 1 / (1 - x) around x = 0:\n",
      "1 + x + x**2 + x**3 + x**4 + O(x**5)\n",
      "\n",
      "Part 1c: Taylor series for sin(x) around x = π:\n",
      "pi + (x - pi)**3/6 - x + O((x - pi)**5, (x, pi))\n",
      "\n",
      "Part 2: Tangent line to e^(sin(x)) at x = π:\n",
      "-x + 1 + pi\n"
     ]
    }
   ],
   "execution_count": 1
  }
 ],
 "metadata": {
  "kernelspec": {
   "display_name": "Python 3",
   "language": "python",
   "name": "python3"
  },
  "language_info": {
   "codemirror_mode": {
    "name": "ipython",
    "version": 2
   },
   "file_extension": ".py",
   "mimetype": "text/x-python",
   "name": "python",
   "nbconvert_exporter": "python",
   "pygments_lexer": "ipython2",
   "version": "2.7.6"
  }
 },
 "nbformat": 4,
 "nbformat_minor": 5
}
