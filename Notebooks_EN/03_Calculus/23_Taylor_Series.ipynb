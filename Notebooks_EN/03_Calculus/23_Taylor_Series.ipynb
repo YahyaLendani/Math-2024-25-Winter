{
 "cells": [
  {
   "cell_type": "code",
   "execution_count": null,
   "id": "initial_id",
   "metadata": {
    "collapsed": true
   },
   "outputs": [],
   "source": [
    ""
   ]
  },
  {
   "metadata": {},
   "cell_type": "markdown",
   "source": [
    "### Taylor Series\n",
    "\n",
    "\n",
    "### **1. $ f(x) = \\cos(x) $, centered at $ x = 0 $, up to the 4th degree**\n",
    "\n",
    "### Step 1: Formula for Taylor Series\n",
    "- The Taylor series for $ f(x) $ around $ x = a $ is:\n",
    "$$\n",
    "f(x) = \\sum_{n=0}^\\infty \\frac{f^{(n)}(a)}{n!} (x - a)^n\n",
    "$$\n",
    "For $ f(x) = \\cos(x) $, we compute the derivatives and evaluate them at $ a = 0 $.\n",
    "\n",
    "\n",
    "\n",
    "### Step 2: Compute derivatives of $ \\cos(x) $\n",
    "1. $f(x) = \\cos(x) $\n",
    "2. $ f'(x) = -\\sin(x) $\n",
    "3. $ f''(x) = -\\cos(x) $\n",
    "4. $ f'''(x) = \\sin(x) $\n",
    "5. $ f^{(4)}(x) = \\cos(x) $\n",
    "\n",
    "\n",
    "\n",
    "### Step 3: Evaluate derivatives at $ x = 0 $\n",
    "- $ f(0) = \\cos(0) = 1 $\n",
    "- $ f'(0) = -\\sin(0) = 0 $\n",
    "- $ f''(0) = -\\cos(0) = -1 $\n",
    "- $ f'''(0) = \\sin(0) = 0 $\n",
    "- $ f^{(4)}(0) = \\cos(0) = 1 $\n",
    "\n",
    "\n",
    "\n",
    "### Step 4: Construct the Taylor series\n",
    "- Substitute the derivatives into the Taylor series formula:\n",
    "$$\n",
    "f(x) = 1 - \\frac{x^2}{2!} + \\frac{x^4}{4!}\n",
    "$$\n",
    "Simplify:\n",
    "$$\n",
    "f(x) = 1 - \\frac{x^2}{2} + \\frac{x^4}{24}\n",
    "$$\n",
    "\n",
    "\n",
    "\n",
    "### Final Answer:\n",
    "The Taylor series for $ f(x) = \\cos(x) $ around $ x = 0 $ up to the 4th degree is:\n",
    "$$\n",
    "f(x) = 1 - \\frac{x^2}{2} + \\frac{x^4}{24}\n",
    "$$\n",
    "\n",
    "---"
   ],
   "id": "7b5f88864892a41f"
  },
  {
   "metadata": {
    "ExecuteTime": {
     "end_time": "2025-01-16T22:45:55.225621Z",
     "start_time": "2025-01-16T22:45:54.572538Z"
    }
   },
   "cell_type": "code",
   "source": [
    "import sympy as sp\n",
    "\n",
    "# Define the variable and function\n",
    "x = sp.symbols('x')\n",
    "f = sp.cos(x)\n",
    "\n",
    "# Find the Taylor series expansion up to the 4th degree\n",
    "taylor_f = sp.series(f, x, 0, 5)  # Expansion around x = 0, up to degree 4\n",
    "\n",
    "# Display the result\n",
    "print(\"Taylor series for f(x) = cos(x) around x = 0 up to 4th degree:\")\n",
    "print(taylor_f)\n"
   ],
   "id": "1fe3b32648a66bb7",
   "outputs": [
    {
     "name": "stdout",
     "output_type": "stream",
     "text": [
      "Taylor series for f(x) = cos(x) around x = 0 up to 4th degree:\n",
      "1 - x**2/2 + x**4/24 + O(x**5)\n"
     ]
    }
   ],
   "execution_count": 1
  },
  {
   "metadata": {},
   "cell_type": "markdown",
   "source": [
    "\n",
    "## **2. $ h(x) = \\frac{1}{1 - x} $, centered at $ x = 0 $, up to the 4th degree**\n",
    "\n",
    "### Step 1: Formula for Taylor Series\n",
    "The function $ h(x) = \\frac{1}{1 - x} $ has a standard Taylor series expansion for $ |x| < 1 $:\n",
    "$$\n",
    "h(x) = \\sum_{n=0}^\\infty x^n\n",
    "$$\n",
    "\n",
    "\n",
    "\n",
    "### Step 2: Expand up to the 4th degree\n",
    "The first four terms are:\n",
    "$$\n",
    "h(x) = 1 + x + x^2 + x^3 + x^4\n",
    "$$\n",
    "\n",
    "\n",
    "### Final Answer:\n",
    "The Taylor series for $ h(x) = \\frac{1}{1 - x} $ around $ x = 0 $ up to the 4th degree is:\n",
    "$$\n",
    "h(x) = 1 + x + x^2 + x^3 + x^4\n",
    "$$"
   ],
   "id": "b0769984bc4e44aa"
  },
  {
   "metadata": {
    "ExecuteTime": {
     "end_time": "2025-01-16T22:46:05.917071Z",
     "start_time": "2025-01-16T22:46:05.893426Z"
    }
   },
   "cell_type": "code",
   "source": [
    "# Define the function\n",
    "h = 1 / (1 - x)\n",
    "\n",
    "# Find the Taylor series expansion up to the 4th degree\n",
    "taylor_h = sp.series(h, x, 0, 5)  # Expansion around x = 0, up to degree 4\n",
    "\n",
    "# Display the result\n",
    "print(\"\\nTaylor series for h(x) = 1 / (1 - x) around x = 0 up to 4th degree:\")\n",
    "print(taylor_h)\n"
   ],
   "id": "be52a644d826ad27",
   "outputs": [
    {
     "name": "stdout",
     "output_type": "stream",
     "text": [
      "\n",
      "Taylor series for h(x) = 1 / (1 - x) around x = 0 up to 4th degree:\n",
      "1 + x + x**2 + x**3 + x**4 + O(x**5)\n"
     ]
    }
   ],
   "execution_count": 2
  },
  {
   "metadata": {},
   "cell_type": "markdown",
   "source": [
    "\n",
    "\n",
    "## **3. $ g(x) = \\sin(x) $, centered at $ x = \\pi $, up to the 4th degree**\n",
    "\n",
    "### Step 1: Formula for Taylor Series\n",
    "- The Taylor series for $ g(x) $ around $ x = \\pi $ is:\n",
    "$$\n",
    "g(x) = \\sum_{n=0}^\\infty \\frac{g^{(n)}(\\pi)}{n!} (x - \\pi)^n\n",
    "$$\n",
    "For $ g(x) = \\sin(x) $, compute the derivatives and evaluate them at$ x = \\pi $.\n",
    "\n",
    "\n",
    "\n",
    "### Step 2: Compute derivatives of $ \\sin(x) $\n",
    "1. $ g(x) = \\sin(x) $\n",
    "2. $ g'(x) = \\cos(x) $\n",
    "3. $ g''(x) = -\\sin(x) $\n",
    "4. $ g'''(x) = -\\cos(x) $\n",
    "5. $ g^{(4)}(x) = \\sin(x) $\n",
    "\n",
    "\n",
    "\n",
    "### Step 3: Evaluate derivatives at $ x = \\pi $\n",
    "- $ g(\\pi) = \\sin(\\pi) = 0 $\n",
    "- $ g'(\\pi) = \\cos(\\pi) = -1 $\n",
    "- $ g''(\\pi) = -\\sin(\\pi) = 0 $\n",
    "- $ g'''(\\pi) = -\\cos(\\pi) = 1 $\n",
    "- $ g^{(4)}(\\pi) = \\sin(\\pi) = 0 $\n",
    "\n",
    "\n",
    "\n",
    "### Step 4: Construct the Taylor series\n",
    "- Substitute the derivatives into the Taylor series formula:\n",
    "$$\n",
    "g(x) = 0 - 1(x - \\pi) + \\frac{0}{2!}(x - \\pi)^2 + \\frac{1}{3!}(x - \\pi)^3 + \\frac{0}{4!}(x - \\pi)^4\n",
    "$$\n",
    "Simplify:\n",
    "$$\n",
    "g(x) = -(x - \\pi) + \\frac{(x - \\pi)^3}{6}\n",
    "$$\n",
    "\n",
    "\n",
    "### Final Answer:\n",
    "The Taylor series for $ g(x) = \\sin(x) $ around $ x = \\pi $ up to the 4th degree is:\n",
    "$$\n",
    "g(x) = -(x - \\pi) + \\frac{(x - \\pi)^3}{6}\n",
    "$$\n",
    "\n",
    "\n"
   ],
   "id": "563f634f7c67e3b"
  },
  {
   "metadata": {},
   "cell_type": "markdown",
   "source": "",
   "id": "26d784276aca3b4b"
  },
  {
   "metadata": {
    "ExecuteTime": {
     "end_time": "2025-01-16T22:46:19.021917Z",
     "start_time": "2025-01-16T22:46:18.973139Z"
    }
   },
   "cell_type": "code",
   "source": [
    "    # Define the function\n",
    "g = sp.sin(x)\n",
    "\n",
    "# Find the Taylor series expansion around x = pi, up to the 4th degree\n",
    "taylor_g = sp.series(g, x, sp.pi, 5)  # Expansion around x = pi, up to degree 4\n",
    "\n",
    "# Display the result\n",
    "print(\"\\nTaylor series for g(x) = sin(x) around x = pi up to 4th degree:\")\n",
    "print(taylor_g)\n"
   ],
   "id": "7e506796a732b7aa",
   "outputs": [
    {
     "name": "stdout",
     "output_type": "stream",
     "text": [
      "\n",
      "Taylor series for g(x) = sin(x) around x = pi up to 4th degree:\n",
      "pi + (x - pi)**3/6 - x + O((x - pi)**5, (x, pi))\n"
     ]
    }
   ],
   "execution_count": 3
  },
  {
   "metadata": {},
   "cell_type": "markdown",
   "source": [
    "### Solution for Tangent Line to $ f(x) = e^{\\sin(x)} $ at $ x_0 = \\pi $\n",
    "\n",
    "\n",
    "### **1. Define the function**\n",
    "- The given function is:\n",
    "$\n",
    "f(x) = e^{\\sin(x)}\n",
    "$\n",
    "\n",
    "\n",
    "\n",
    "### **2. Compute the derivative $ f'(x) $**\n",
    "- Using the chain rule, the derivative of $ f(x) $ is:\n",
    "$$\n",
    "f'(x) = \\frac{d}{dx} \\left( e^{\\sin(x)} \\right) = e^{\\sin(x)} \\cdot \\cos(x)\n",
    "$$\n",
    "\n",
    "\n",
    "\n",
    "### **3. Evaluate $ f(x_0) $ at $ x_0 = \\pi $**\n",
    "Substitute $ x_0 = \\pi $ into $ f(x) $:\n",
    "$$\n",
    "f(\\pi) = e^{\\sin(\\pi)} = e^0 = 1\n",
    "$$\n",
    "\n",
    "\n",
    "\n",
    "### **4. Evaluate $ f'(x_0) $ at $ x_0 = \\pi $**\n",
    "- Substitute $ x_0 = \\pi $ into $ f'(x) $:\n",
    "$$\n",
    "f'(\\pi) = e^{\\sin(\\pi)} \\cdot \\cos(\\pi) = e^0 \\cdot (-1) = -1\n",
    "$$\n",
    "\n",
    "\n",
    "\n",
    "### **5. Write the equation of the tangent line**\n",
    "- Using the formula for the tangent line:\n",
    "$$\n",
    "y = f'(x_0)(x - x_0) + f(x_0)\n",
    "$$\n",
    "Substitute $ f'(x_0) = -1 $, $ f(x_0) = 1 $, and $ x_0 = \\pi $:\n",
    "$$\n",
    "y = -1 \\cdot (x - \\pi) + 1\n",
    "$$\n",
    "Simplify:\n",
    "$$\n",
    "y = -x + \\pi + 1\n",
    "$$\n",
    "\n",
    "Thus, the tangent line is:\n",
    "$$\n",
    "y = -x + \\pi + 1\n",
    "$$\n",
    "\n",
    "\n",
    "\n",
    "### **Final Answer**\n",
    "1. **Tangent Line at $ x_0 = \\pi $:**\n",
    "   $$\n",
    "   y = -x + \\pi + 1\n",
    "   $$\n",
    "\n"
   ],
   "id": "4f51c89892103beb"
  },
  {
   "metadata": {
    "ExecuteTime": {
     "end_time": "2025-01-16T22:57:07.933820Z",
     "start_time": "2025-01-16T22:57:07.918197Z"
    }
   },
   "cell_type": "code",
   "source": [
    "import sympy as sp\n",
    "\n",
    "# Define the variable and the function\n",
    "x = sp.symbols('x')\n",
    "f = sp.exp(sp.sin(x))\n",
    "\n",
    "# Point of tangency\n",
    "x0 = sp.pi\n",
    "\n",
    "# Compute the derivative of f(x)\n",
    "f_prime = sp.diff(f, x)\n",
    "\n",
    "# Evaluate f(x) and f'(x) at x0\n",
    "f_x0 = f.subs(x, x0)  # f(x0)\n",
    "f_prime_x0 = f_prime.subs(x, x0)  # f'(x0)\n",
    "\n",
    "# Define the tangent line equation\n",
    "tangent_line = f_prime_x0 * (x - x0) + f_x0\n",
    "\n",
    "# Display the results\n",
    "print(\"Function: f(x) = e^(sin(x))\")\n",
    "print(\"Derivative: f'(x) =\", f_prime)\n",
    "print(\"f(pi):\", f_x0)\n",
    "print(\"f'(pi):\", f_prime_x0)\n",
    "print(\"Tangent line equation: y =\", tangent_line)\n"
   ],
   "id": "75b9df63320b0181",
   "outputs": [
    {
     "name": "stdout",
     "output_type": "stream",
     "text": [
      "Function: f(x) = e^(sin(x))\n",
      "Derivative: f'(x) = exp(sin(x))*cos(x)\n",
      "f(pi): 1\n",
      "f'(pi): -1\n",
      "Tangent line equation: y = -x + 1 + pi\n"
     ]
    }
   ],
   "execution_count": 4
  },
  {
   "metadata": {},
   "cell_type": "markdown",
   "source": [
    "### GeoGebra\n",
    "1.1: https://www.geogebra.org/calculator/szqbpr8m\n",
    "\n",
    "1.2: https://www.geogebra.org/calculator/rdhbvtnc\n",
    "\n",
    "1.3: https://www.geogebra.org/calculato/f4qgqv4v\n"
   ],
   "id": "5c569f74bafc00d8"
  }
 ],
 "metadata": {
  "kernelspec": {
   "display_name": "Python 3",
   "language": "python",
   "name": "python3"
  },
  "language_info": {
   "codemirror_mode": {
    "name": "ipython",
    "version": 2
   },
   "file_extension": ".py",
   "mimetype": "text/x-python",
   "name": "python",
   "nbconvert_exporter": "python",
   "pygments_lexer": "ipython2",
   "version": "2.7.6"
  }
 },
 "nbformat": 4,
 "nbformat_minor": 5
}
