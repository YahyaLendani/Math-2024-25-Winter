{
 "cells": [
  {
   "cell_type": "code",
   "id": "initial_id",
   "metadata": {
    "collapsed": true,
    "ExecuteTime": {
     "end_time": "2025-01-01T23:31:12.879519Z",
     "start_time": "2025-01-01T23:31:12.124768Z"
    }
   },
   "source": [
    "import sympy as sp\n",
    "\n",
    "# Define the variable\n",
    "n = sp.Symbol('n', real=True, positive=True)\n",
    "\n",
    "# Part 1: Calculate the limits\n",
    "# 1a. lim (n^2 + 3n) / (2n^2 - 2n) as n -> infinity\n",
    "expr1 = (n**2 + 3*n) / (2*n**2 - 2*n)\n",
    "limit1 = sp.limit(expr1, n, sp.oo)\n",
    "\n",
    "# 1b. lim ((2n + 3)^3 / (n^3 - 1)) as n -> infinity\n",
    "expr2 = ((2*n + 3)**3) / (n**3 - 1)\n",
    "limit2 = sp.limit(expr2, n, sp.oo)\n",
    "\n",
    "# Part 2: Prove using the squeeze theorem\n",
    "# lim (sin(n) / n) as n -> infinity\n",
    "expr3 = sp.sin(n) / n\n",
    "limit3 = sp.limit(expr3, n, sp.oo)\n",
    "\n",
    "# Part 3: Find the limit of the sequence (1 + 1/n)^n as n -> infinity\n",
    "expr4 = (1 + 1/n)**n\n",
    "limit4 = sp.limit(expr4, n, sp.oo)\n",
    "\n",
    "# Print the results\n",
    "print(\"Part 1a: Limit of (n^2 + 3n) / (2n^2 - 2n) =\", limit1)\n",
    "print(\"Part 1b: Limit of ((2n + 3)^3) / (n^3 - 1) =\", limit2)\n",
    "print(\"Part 2: Limit of sin(n) / n =\", limit3)\n",
    "print(\"Part 3: Limit of (1 + 1/n)^n =\", limit4)\n"
   ],
   "outputs": [
    {
     "name": "stdout",
     "output_type": "stream",
     "text": [
      "Part 1a: Limit of (n^2 + 3n) / (2n^2 - 2n) = 1/2\n",
      "Part 1b: Limit of ((2n + 3)^3) / (n^3 - 1) = 8\n",
      "Part 2: Limit of sin(n) / n = 0\n",
      "Part 3: Limit of (1 + 1/n)^n = E\n"
     ]
    }
   ],
   "execution_count": 1
  }
 ],
 "metadata": {
  "kernelspec": {
   "display_name": "Python 3",
   "language": "python",
   "name": "python3"
  },
  "language_info": {
   "codemirror_mode": {
    "name": "ipython",
    "version": 2
   },
   "file_extension": ".py",
   "mimetype": "text/x-python",
   "name": "python",
   "nbconvert_exporter": "python",
   "pygments_lexer": "ipython2",
   "version": "2.7.6"
  }
 },
 "nbformat": 4,
 "nbformat_minor": 5
}
