{
 "cells": [
  {
   "cell_type": "markdown",
   "id": "1JGoqgQ2fXJe",
   "metadata": {
    "id": "1JGoqgQ2fXJe"
   },
   "source": [
    "# Calculus\n",
    "\n",
    "## Functions\n",
    "\n",
    "1. Draw in a single Geogebra notebook the following functions:\n",
    "   - $f(x) = x^2$\n",
    "   - $g(x) = \\sqrt{x}$\n",
    "   - $h(x) = \\frac{1}{x}$\n",
    "   - $j(x) = \\sin(x)$\n",
    "\n",
    "Find value of all the above functions at $x = 2$.\n",
    "\n",
    "\n",
    "2. Let $f(x) = 3x - 1$ and $g(x) = \\sqrt{x}$. Find:\n",
    "   - $f(g(x))$\n",
    "   - $g(f(x))$\n",
    "   - $f(f(x))$\n",
    "   - $g(g(x))$\n",
    "\n",
    "and visualize functions in a single Geogebra notebook.\n",
    "\n",
    "3. Let $f(x) = e^x$ and $g(x) = \\ln(x)$. Check: $f(g(x))$ and $g(f(x))$. What do you notice?\n",
    "\n",
    "4. We have function $f=\\{(1,7), (2,9), (3,11)\\}$. Give inverse function $f^{-1}$.\n",
    "\n",
    "5. We have function $f=\\{(1,7), (2,7), (3,11)\\}$. Give inverse function $f^{-1}$.\n",
    "\n",
    "6. We have function $f(x)= x-1$. Give inverse function $f^{-1}$. Show both functions on the same Geogebra notebook.\n"
   ]
  },
  {
   "cell_type": "markdown",
   "id": "uaZI__1TQFu3",
   "metadata": {
    "id": "uaZI__1TQFu3"
   },
   "source": [
    "# Functions and Values at x=2\n",
    "\n",
    "In this notebook, we analyze the following functions and find their values at \\(x=2\\):  \n",
    "\n",
    "1. \\(f(x) = x^2\\)  \n",
    "2. \\(g(x) = \\sqrt{x}\\)  \n",
    "3. \\(h(x) = \\frac{1}{x}\\)  \n",
    "4. \\(j(x) = \\sin(x)\\)  \n",
    "\n",
    "## Step 1: Define the Functions\n",
    "We will plot all the functions on a single GeoGebra graph for visualization.  \n",
    "\n",
    "## Step 2: Find Values of the Functions at \\(x=2\\)\n",
    "Below are the calculated values:  \n",
    "- \\(f(2) = 2^2 = 4\\)  \n",
    "- \\(g(2) = \\sqrt{2} \\approx 1.414\\)  \n",
    "- \\(h(2) = \\frac{1}{2} = 0.5\\)  \n",
    "- \\(j(2) = \\sin(2) \\approx 0.909\\)  \n",
    "\n",
    "### GeoGebra Visualization\n",
    "All the functions are plotted on a single graph using GeoGebra. Make sure to:  \n",
    "1. Define each function.  \n",
    "2. Use the **Point Tool** to mark the values at \\(x=2\\) for each function.  \n"
   ]
  },
  {
   "metadata": {},
   "cell_type": "markdown",
   "source": "GeoGebra : https://www.geogebra.org/calculator/dy6xv5rt",
   "id": "780f326694167a1c"
  },
  {
   "metadata": {},
   "cell_type": "markdown",
   "source": [
    "# Composite Functions and Visualization\n",
    "\n",
    "In this notebook, we study and visualize the following functions and their compositions:\n",
    "\n",
    "### Given Functions:\n",
    "1. \\( f(x) = 3x - 1 \\)  \n",
    "2. \\( g(x) = \\sqrt{x} \\)\n",
    "\n",
    "### Compositions:\n",
    "1. \\( f(g(x)) = 3\\sqrt{x} - 1 \\)  \n",
    "2. \\( g(f(x)) = \\sqrt{3x - 1} \\)  \n",
    "3. \\( f(f(x)) = 9x - 4 \\)  \n",
    "4. \\( g(g(x)) = \\sqrt[4]{x} \\)\n",
    "\n",
    "---\n",
    "\n",
    "## Step 1: Define the Functions\n",
    "We define the above functions and compute their values.\n",
    "\n",
    "---\n",
    "\n",
    "## Step 2: Find Values at Specific Points\n",
    "We can calculate the values of these functions at specific \\(x\\) values (e.g., \\(x=2\\)) if needed.\n",
    "\n",
    "- \\( f(2) = 3(2) - 1 = 5 \\)  \n",
    "- \\( g(2) = \\sqrt{2} \\approx 1.414 \\)  \n",
    "- \\( f(g(2)) = 3(\\sqrt{2}) - 1 \\approx 3.242 \\)  \n",
    "- \\( g(f(2)) = \\sqrt{3(2) - 1} = \\sqrt{5} \\approx 2.236 \\)  \n",
    "- \\( f(f(2)) = 9(2) - 4 = 14 \\)  \n",
    "- \\( g(g(2)) = \\sqrt[4]{2} \\approx 1.189 \\)\n",
    "\n",
    "---\n",
    "\n",
    "## Step 3: Visualization\n",
    "We plot all these functions on a single graph using Python.\n",
    "\n",
    "\n",
    " **Highlight Values at \\(x=2\\):** Mark the values of each function at \\(x=2\\) to observe the results.\n",
    "\n",
    "---\n",
    "\n"
   ],
   "id": "7a8e8271701f3106"
  },
  {
   "metadata": {},
   "cell_type": "code",
   "outputs": [],
   "execution_count": null,
   "source": [
    "import numpy as np\n",
    "import matplotlib.pyplot as plt\n",
    "\n",
    "# Define x ranges\n",
    "x1 = np.linspace(0, 5, 500)  # For g(x) and g(f(x))\n",
    "x2 = np.linspace(-1, 5, 500)  # For f(x) and f(f(x))\n",
    "\n",
    "# Define functions\n",
    "f = lambda x: 3*x - 1\n",
    "g = lambda x: np.sqrt(x)\n",
    "f_g = lambda x: 3*np.sqrt(x) - 1\n",
    "g_f = lambda x: np.sqrt(3*x - 1)\n",
    "f_f = lambda x: 9*x - 4\n",
    "g_g = lambda x: np.sqrt(np.sqrt(x))\n",
    "\n",
    "# Plot the functions\n",
    "plt.figure(figsize=(12, 8))\n",
    "\n",
    "# Plot each function\n",
    "plt.plot(x2, f(x2), label=r\"$f(x) = 3x - 1$\", color=\"blue\")\n",
    "plt.plot(x1, g(x1), label=r\"$g(x) = \\sqrt{x}$\", color=\"green\")\n",
    "plt.plot(x1, f_g(x1), label=r\"$f(g(x)) = 3\\sqrt{x} - 1$\", color=\"red\")\n",
    "plt.plot(x1[x1 > 1/3], g_f(x1[x1 > 1/3]), label=r\"$g(f(x)) = \\sqrt{3x - 1}$\", color=\"purple\")\n",
    "plt.plot(x2, f_f(x2), label=r\"$f(f(x)) = 9x - 4$\", color=\"orange\")\n",
    "plt.plot(x1, g_g(x1), label=r\"$g(g(x)) = \\sqrt[4]{x}$\", color=\"brown\")\n",
    "\n",
    "# Add labels, legend, and grid\n",
    "plt.axhline(0, color='black', linewidth=0.5, linestyle=\"--\")\n",
    "plt.axvline(0, color='black', linewidth=0.5, linestyle=\"--\")\n",
    "plt.title(\"Composite Functions\", fontsize=16)\n",
    "plt.xlabel(\"x\", fontsize=14)\n",
    "plt.ylabel(\"y\", fontsize=14)\n",
    "plt.legend(fontsize=12)\n",
    "plt.grid(alpha=0.3)\n",
    "\n",
    "# Show the plot\n",
    "plt.show()\n"
   ],
   "id": "a9dffb0bb9cb763"
  },
  {
   "metadata": {},
   "cell_type": "markdown",
   "source": "GeoGebra : https://www.geogebra.org/calculator/ugkbmewr",
   "id": "299bec025ec19027"
  },
  {
   "cell_type": "markdown",
   "id": "tz0vfDcSWkRn",
   "metadata": {
    "id": "tz0vfDcSWkRn"
   },
   "source": [
    "# Composite Functions: f(g(x)) and g(f(x))\n",
    "\n",
    "In this notebook, we explore the composite functions of \\( f(x) = e^x \\) and \\( g(x) = \\ln(x) \\), and analyze the results.\n",
    "\n",
    "### Given Functions:\n",
    "1. \\( f(x) = e^x \\)\n",
    "2. \\( g(x) = \\ln(x) \\)\n",
    "\n",
    "### Step 1: Calculate the Compositions\n",
    "\n",
    "#### 1. \\( f(g(x)) \\):\n",
    "\\[\n",
    "f(g(x)) = f(\\ln(x)) = e^{\\ln(x)} = x\n",
    "\\]\n",
    "So, \\( f(g(x)) = x \\), where the domain is \\( x > 0 \\).\n",
    "\n",
    "#### 2. \\( g(f(x)) \\):\n",
    "\\[\n",
    "g(f(x)) = g(e^x) = \\ln(e^x) = x\n",
    "\\]\n",
    "Thus, \\( g(f(x)) = x \\), and the domain is \\( x \\in \\mathbb{R} \\).\n",
    "\n",
    "### Step 2: Key Observation\n",
    "Both compositions, \\( f(g(x)) \\) and \\( g(f(x)) \\), result in \\( x \\). This is due to the fact that \\( f(x) = e^x \\) and \\( g(x) = \\ln(x) \\) are inverse functions of each other.\n",
    "\n",
    "Thus:\n",
    "\\[\n",
    "f(g(x)) = x \\quad \\text{and} \\quad g(f(x)) = x\n",
    "\\]\n",
    "\n"
   ]
  },
  {
   "metadata": {
    "ExecuteTime": {
     "end_time": "2025-01-06T02:04:25.811734Z",
     "start_time": "2025-01-06T02:04:25.579456Z"
    }
   },
   "cell_type": "code",
   "source": [
    "import numpy as np\n",
    "import matplotlib.pyplot as plt\n",
    "\n",
    "# Define x ranges\n",
    "x1 = np.linspace(0.1, 10, 500)  # For g(x) and f(g(x))\n",
    "x2 = np.linspace(-2, 2, 500)  # For f(x) and g(f(x))\n",
    "\n",
    "# Define functions\n",
    "f = lambda x: np.exp(x)\n",
    "g = lambda x: np.log(x)\n",
    "f_g = lambda x: x  # f(g(x)) = x\n",
    "g_f = lambda x: x  # g(f(x)) = x\n",
    "\n",
    "# Plot the functions\n",
    "plt.figure(figsize=(10, 6))\n",
    "\n",
    "# Plot f(x) and g(x)\n",
    "plt.plot(x2, f(x2), label=r\"$f(x) = e^x$\", color=\"blue\")\n",
    "plt.plot(x1, g(x1), label=r\"$g(x) = \\ln(x)$\", color=\"green\")\n",
    "\n",
    "# Plot f(g(x)) and g(f(x))\n",
    "plt.plot(x1, f_g(x1), label=r\"$f(g(x)) = x$\", color=\"red\", linestyle=\"--\")\n",
    "plt.plot(x2, g_f(x2), label=r\"$g(f(x)) = x$\", color=\"orange\", linestyle=\"--\")\n",
    "\n",
    "# Add labels, legend, and grid\n",
    "plt.axhline(0, color=\"black\", linewidth=0.5, linestyle=\"--\")\n",
    "plt.axvline(0, color=\"black\", linewidth=0.5, linestyle=\"--\")\n",
    "plt.title(\"Composite Functions: f(g(x)) ve g(f(x))\", fontsize=16)\n",
    "plt.xlabel(\"x\", fontsize=14)\n",
    "plt.ylabel(\"y\", fontsize=14)\n",
    "plt.legend(fontsize=12)\n",
    "plt.grid(alpha=0.3)\n",
    "\n",
    "# Show the plot\n",
    "plt.show()\n"
   ],
   "id": "e3fce4ea0dce25db",
   "outputs": [
    {
     "data": {
      "text/plain": [
       "<Figure size 1000x600 with 1 Axes>"
      ],
      "image/png": "[encoded data removed]"
     },
     "metadata": {},
     "output_type": "display_data"
    }
   ],
   "execution_count": 2
  },
  {
   "metadata": {},
   "cell_type": "markdown",
   "source": "GeoGebra : https://www.geogebra.org/calculator/uycqjsnj",
   "id": "b054c025a1b553dc"
  },
  {
   "cell_type": "markdown",
   "id": "gDtnDUpfZ79f",
   "metadata": {
    "id": "gDtnDUpfZ79f"
   },
   "source": [
    "# Inverse Function\n",
    "\n",
    "We are given the function \\( f = \\{(1, 7), (2, 9), (3, 11)\\} \\). Our task is to find its inverse function \\( f^{-1} \\).\n",
    "\n",
    "### Step 1: Inverse Function Definition\n",
    "\n",
    "The inverse of a function is obtained by swapping the \\( x \\)-values with the \\( y \\)-values in the ordered pairs. So for each pair \\( (x, y) \\) in the function \\( f \\), we will reverse it to become \\( (y, x) \\).\n",
    "\n",
    "### Step 2: Find the Inverse\n",
    "\n",
    "Given \\( f = \\{(1, 7), (2, 9), (3, 11)\\} \\), we will reverse each pair:\n",
    "\n",
    "- \\( (1, 7) \\) becomes \\( (7, 1) \\)\n",
    "- \\( (2, 9) \\) becomes \\( (9, 2) \\)\n",
    "- \\( (3, 11) \\) becomes \\( (11, 3) \\)\n",
    "\n",
    "Thus, the inverse function \\( f^{-1} \\) is:\n",
    "\n",
    "\\[\n",
    "f^{-1} = \\{(7, 1), (9, 2), (11, 3)\\}\n",
    "\\]\n",
    "\n",
    "### Conclusion:\n",
    "\n",
    "The inverse function \\( f^{-1} \\) consists of the ordered pairs where the \\( x \\)-values and \\( y \\)-values have been swapped from the original function.\n"
   ]
  },
  {
   "metadata": {},
   "cell_type": "markdown",
   "source": "GeoGebra : https://www.geogebra.org/calculator/xa6gnrxb",
   "id": "ceff2667d266f5a9"
  },
  {
   "cell_type": "markdown",
   "id": "5054H4L2eVLh",
   "metadata": {
    "id": "5054H4L2eVLh"
   },
   "source": [
    "# Inverse Function\n",
    "\n",
    "We are given the function \\( f = \\{(1, 7), (2, 7), (3, 11)\\} \\). Our task is to find its inverse function \\( f^{-1} \\).\n",
    "\n",
    "### Step 1: Inverse Function Definition\n",
    "\n",
    "The inverse of a function can be obtained by swapping the \\( x \\)-values with the \\( y \\)-values in the ordered pairs. However, for a function to have an inverse, each \\( y \\)-value must correspond to exactly one \\( x \\)-value.\n",
    "\n",
    "### Step 2: Check for the Inverse\n",
    "\n",
    "Given the function \\( f = \\{(1, 7), (2, 7), (3, 11)\\} \\), we notice that both \\( x = 1 \\) and \\( x = 2 \\) give the same \\( y = 7 \\).\n",
    "\n",
    "This violates the condition for a function to have an inverse, as \\( y = 7 \\) is mapped to multiple \\( x \\)-values (1 and 2).\n",
    "\n",
    "### Conclusion:\n",
    "\n",
    "Since the function does not pass the \"one-to-one\" condition (each \\( y \\)-value must correspond to a unique \\( x \\)-value), **the function does not have an inverse**.\n",
    "\n",
    "Thus, the inverse function \\( f^{-1} \\) **does not exist**.\n"
   ]
  },
  {
   "metadata": {},
   "cell_type": "markdown",
   "source": "GeoGebra : https://www.geogebra.org/calculator/rjwkryxh\n",
   "id": "e7d7ef9d6d46c010"
  },
  {
   "cell_type": "markdown",
   "id": "nUdwrxrFfgsh",
   "metadata": {
    "id": "nUdwrxrFfgsh"
   },
   "source": [
    "# Inverse Function\n",
    "\n",
    "We are given the function \\( f(x) = x - 1 \\). Our task is to find its inverse function \\( f^{-1}(x) \\).\n",
    "\n",
    "### Step 1: Find the Inverse Function\n",
    "\n",
    "To find the inverse of a function, we swap the \\( x \\)-values and \\( y \\)-values in the ordered pairs. But in this case, we will work with the function algebraically.\n",
    "\n",
    "The given function is:\n",
    "\\[\n",
    "f(x) = x - 1\n",
    "\\]\n",
    "\n",
    "To find the inverse, follow these steps:\n",
    "\n",
    "1. Write \\( f(x) \\) as \\( y = x - 1 \\).\n",
    "2. Swap \\( x \\) and \\( y \\), and solve for \\( y \\).\n",
    "   \\[\n",
    "   y = x - 1 \\implies x = y + 1\n",
    "   \\]\n",
    "3. Therefore, the inverse function is:\n",
    "   \\[\n",
    "   f^{-1}(x) = x + 1\n",
    "   \\]\n",
    "\n",
    "### Step 2: Conclusion\n",
    "\n",
    "Thus, the inverse function of \\( f(x) = x - 1 \\) is \\( f^{-1}(x) = x + 1 \\).\n"
   ]
  },
  {
   "metadata": {},
   "cell_type": "markdown",
   "source": "GeoGebra : https://www.geogebra.org/calculator/eygtedgn",
   "id": "5e02b2a6a81d5515"
  }
 ],
 "metadata": {
  "colab": {
   "include_colab_link": true,
   "provenance": []
  },
  "kernelspec": {
   "display_name": "Python 3 (ipykernel)",
   "language": "python",
   "name": "python3"
  },
  "language_info": {
   "codemirror_mode": {
    "name": "ipython",
    "version": 3
   },
   "file_extension": ".py",
   "mimetype": "text/x-python",
   "name": "python",
   "nbconvert_exporter": "python",
   "pygments_lexer": "ipython3",
   "version": "3.12.7"
  }
 },
 "nbformat": 4,
 "nbformat_minor": 5
}
