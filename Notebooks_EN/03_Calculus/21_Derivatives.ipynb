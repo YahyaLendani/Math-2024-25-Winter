{
 "cells": [
  {
   "cell_type": "code",
   "id": "b92ee7b7d847917b",
   "metadata": {
    "ExecuteTime": {
     "end_time": "2025-01-01T23:53:17.269380Z",
     "start_time": "2025-01-01T23:53:17.244579Z"
    }
   },
   "source": [
    "import sympy as sp\n",
    "\n",
    "# Define the variable\n",
    "x = sp.Symbol('x')\n",
    "\n",
    "# Define the functions\n",
    "functions = [\n",
    "    -3 * x + 3,\n",
    "    sp.pi * x + sp.sin(1),\n",
    "    4 + sp.sin(2),\n",
    "    2 * x**3 - 3 * x**2 + 8 * x - 9,\n",
    "    6 * x**(1/3),\n",
    "    sp.sqrt(x),\n",
    "    sp.cos(x) + sp.sin(x),\n",
    "    2 * sp.sin(x) * sp.cos(x),\n",
    "    x * sp.sin(x),\n",
    "    (x + 1) * (x + 1),\n",
    "    x / (x + 1),\n",
    "    (x + 1) * sp.exp(x),\n",
    "    sp.sin(x**2),\n",
    "    sp.exp(-2 * x),\n",
    "    1 / sp.sin(x + 1),\n",
    "    sp.sqrt(2 * x + 1),\n",
    "]\n",
    "\n",
    "# Compute derivatives\n",
    "derivatives = [sp.diff(func, x) for func in functions]\n",
    "\n",
    "# Print the functions and their derivatives\n",
    "for i, (func, deriv) in enumerate(zip(functions, derivatives), start=1):\n",
    "    print(f\"Function {i}: {func}\")\n",
    "    print(f\"Derivative {i}: {deriv}\")\n",
    "    print(\"-\" * 40)"
   ],
   "outputs": [
    {
     "name": "stdout",
     "output_type": "stream",
     "text": [
      "Function 1: 3 - 3*x\n",
      "Derivative 1: -3\n",
      "----------------------------------------\n",
      "Function 2: pi*x + sin(1)\n",
      "Derivative 2: pi\n",
      "----------------------------------------\n",
      "Function 3: sin(2) + 4\n",
      "Derivative 3: 0\n",
      "----------------------------------------\n",
      "Function 4: 2*x**3 - 3*x**2 + 8*x - 9\n",
      "Derivative 4: 6*x**2 - 6*x + 8\n",
      "----------------------------------------\n",
      "Function 5: 6*x**0.333333333333333\n",
      "Derivative 5: 2.0/x**0.666666666666667\n",
      "----------------------------------------\n",
      "Function 6: sqrt(x)\n",
      "Derivative 6: 1/(2*sqrt(x))\n",
      "----------------------------------------\n",
      "Function 7: sin(x) + cos(x)\n",
      "Derivative 7: -sin(x) + cos(x)\n",
      "----------------------------------------\n",
      "Function 8: 2*sin(x)*cos(x)\n",
      "Derivative 8: -2*sin(x)**2 + 2*cos(x)**2\n",
      "----------------------------------------\n",
      "Function 9: x*sin(x)\n",
      "Derivative 9: x*cos(x) + sin(x)\n",
      "----------------------------------------\n",
      "Function 10: (x + 1)**2\n",
      "Derivative 10: 2*x + 2\n",
      "----------------------------------------\n",
      "Function 11: x/(x + 1)\n",
      "Derivative 11: -x/(x + 1)**2 + 1/(x + 1)\n",
      "----------------------------------------\n",
      "Function 12: (x + 1)*exp(x)\n",
      "Derivative 12: (x + 1)*exp(x) + exp(x)\n",
      "----------------------------------------\n",
      "Function 13: sin(x**2)\n",
      "Derivative 13: 2*x*cos(x**2)\n",
      "----------------------------------------\n",
      "Function 14: exp(-2*x)\n",
      "Derivative 14: -2*exp(-2*x)\n",
      "----------------------------------------\n",
      "Function 15: 1/sin(x + 1)\n",
      "Derivative 15: -cos(x + 1)/sin(x + 1)**2\n",
      "----------------------------------------\n",
      "Function 16: sqrt(2*x + 1)\n",
      "Derivative 16: 1/sqrt(2*x + 1)\n",
      "----------------------------------------\n"
     ]
    }
   ],
   "execution_count": 2
  },
  {
   "metadata": {
    "collapsed": true,
    "ExecuteTime": {
     "end_time": "2025-01-01T23:37:51.172575Z",
     "start_time": "2025-01-01T23:37:50.538067Z"
    }
   },
   "cell_type": "code",
   "source": [
    "import sympy as sp\n",
    "\n",
    "# Define the variables\n",
    "x = sp.Symbol('x')\n",
    "t = sp.Symbol('t')\n",
    "\n",
    "# Part 2: Prove d/dx(ln(sin(x))) = cot(x)\n",
    "expr2 = sp.ln(sp.sin(x))\n",
    "derivative2 = sp.diff(expr2, x)\n",
    "print(\"Part 2: Derivative of ln(sin(x)) =\", derivative2)\n",
    "\n",
    "# Part 3: Verify that f''(x) = -f(x) for f(x) = cos(x)\n",
    "f = sp.cos(x)\n",
    "second_derivative3 = sp.diff(f, x, 2)\n",
    "print(\"Part 3: Second derivative of f(x) = cos(x) =\", second_derivative3)\n",
    "\n",
    "# Part 4: Find improper limits using L'Hospital's Rule\n",
    "# 4a. lim (sin(x) / x) as x -> 0\n",
    "limit4a = sp.limit(sp.sin(x) / x, x, 0)\n",
    "print(\"Part 4a: lim (sin(x) / x) as x -> 0 =\", limit4a)\n",
    "\n",
    "# 4b. lim (ln(x) / x) as x -> infinity\n",
    "limit4b = sp.limit(sp.ln(x) / x, x, sp.oo)\n",
    "print(\"Part 4b: lim (ln(x) / x) as x -> infinity =\", limit4b)\n",
    "\n",
    "# 4c. lim (exp(x) / x) as x -> infinity\n",
    "limit4c = sp.limit(sp.exp(x) / x, x, sp.oo)\n",
    "print(\"Part 4c: lim (exp(x) / x) as x -> infinity =\", limit4c)\n",
    "\n",
    "# Part 5: Find velocity V(t) and acceleration a(t) for x(t) = 3t^2 - 6t + 1\n",
    "x_t = 3 * t**2 - 6 * t + 1\n",
    "velocity = sp.diff(x_t, t)\n",
    "acceleration = sp.diff(velocity, t)\n",
    "print(\"Part 5: Velocity V(t) =\", velocity)\n",
    "print(\"Part 5: Acceleration a(t) =\", acceleration)\n",
    "\n",
    "# Compute velocity and acceleration at t = 2\n",
    "velocity_at_2 = velocity.subs(t, 2)\n",
    "acceleration_at_2 = acceleration.subs(t, 2)\n",
    "print(\"Part 5: Velocity at t=2 =\", velocity_at_2)\n",
    "print(\"Part 5: Acceleration at t=2 =\", acceleration_at_2)\n"
   ],
   "id": "initial_id",
   "outputs": [
    {
     "name": "stdout",
     "output_type": "stream",
     "text": [
      "Part 2: Derivative of ln(sin(x)) = cos(x)/sin(x)\n",
      "Part 3: Second derivative of f(x) = cos(x) = -cos(x)\n",
      "Part 4a: lim (sin(x) / x) as x -> 0 = 1\n",
      "Part 4b: lim (ln(x) / x) as x -> infinity = 0\n",
      "Part 4c: lim (exp(x) / x) as x -> infinity = oo\n",
      "Part 5: Velocity V(t) = 6*t - 6\n",
      "Part 5: Acceleration a(t) = 6\n",
      "Part 5: Velocity at t=2 = 6\n",
      "Part 5: Acceleration at t=2 = 6\n"
     ]
    }
   ],
   "execution_count": 1
  }
 ],
 "metadata": {
  "kernelspec": {
   "display_name": "Python 3",
   "language": "python",
   "name": "python3"
  },
  "language_info": {
   "codemirror_mode": {
    "name": "ipython",
    "version": 2
   },
   "file_extension": ".py",
   "mimetype": "text/x-python",
   "name": "python",
   "nbconvert_exporter": "python",
   "pygments_lexer": "ipython2",
   "version": "2.7.6"
  }
 },
 "nbformat": 4,
 "nbformat_minor": 5
}
