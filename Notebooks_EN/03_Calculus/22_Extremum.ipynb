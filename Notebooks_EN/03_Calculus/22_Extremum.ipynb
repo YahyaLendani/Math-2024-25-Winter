{
 "cells": [
  {
   "metadata": {},
   "cell_type": "markdown",
   "source": [
    "### Problem 6:\n",
    "The profit function is given as $ P(u) = -2u^2 + 50u - 300 $, where $ u $ is the number of units sold. Find the number of units that maximize profit.\n",
    "\n",
    "---\n",
    "\n",
    "### Explanation:\n",
    "The function $ P(u) $ is a **quadratic equation** in the standard form:\n",
    "$$\n",
    "P(u) = au^2 + bu + c\n",
    "$$\n",
    "Here:\n",
    "$$\n",
    "a = -2, \\quad b = 50, \\quad c = -300\n",
    "$$\n",
    "\n",
    "For a quadratic function, the maximum or minimum occurs at:\n",
    "$$\n",
    "u = -\\frac{b}{2a}\n",
    "$$\n",
    "\n",
    "Since $ a = -2 $ (negative), the parabola opens downwards, so the vertex represents the **maximum** value.\n",
    "\n",
    "---\n",
    "\n",
    "### Solution:\n",
    "Substitute $ a = -2 $ and $ b = 50 $ into the formula:\n",
    "$$\n",
    "u = -\\frac{b}{2a} = -\\frac{50}{2 \\cdot (-2)} = \\frac{50}{4} = 12.5\n",
    "$$\n",
    "\n",
    "Thus, the number of units that maximizes the profit is:\n",
    "$$\n",
    "u = 12.5\n",
    "$$\n",
    "\n",
    "---\n",
    "\n",
    "### Conclusion:\n",
    "To maximize profit, **12.5 units** should be sold.\n"
   ],
   "id": "fce90fc37ccd14b2"
  },
  {
   "metadata": {
    "ExecuteTime": {
     "end_time": "2025-01-10T10:21:47.090114Z",
     "start_time": "2025-01-10T10:21:47.085229Z"
    }
   },
   "cell_type": "code",
   "source": [
    "# Coefficients of the quadratic equation\n",
    "a = -2\n",
    "b = 50\n",
    "c = -300\n",
    "\n",
    "# Formula to calculate the vertex of a quadratic equation\n",
    "u = -b / (2 * a)\n",
    "\n",
    "# Print the result\n",
    "print(f\"The number of units that maximize profit is: {u}\")\n"
   ],
   "id": "18de6d5f6eb873a6",
   "outputs": [
    {
     "name": "stdout",
     "output_type": "stream",
     "text": [
      "The number of units that maximize profit is: 12.5\n"
     ]
    }
   ],
   "execution_count": 2
  },
  {
   "metadata": {},
   "cell_type": "markdown",
   "source": [
    "### Problem 7:\n",
    "You have 10 meters of string, and you need to use it to enclose the largest possible rectangle. Find the dimensions of the rectangle.\n",
    "\n",
    "---\n",
    "\n",
    "### Explanation:\n",
    "The **perimeter** of the rectangle is given by:\n",
    "$$\n",
    "P = 2 \\cdot (\\text{length} + \\text{width})\n",
    "$$\n",
    "Here, $ P = 10 $. Therefore:\n",
    "$$\n",
    "10 = 2 \\cdot (\\text{length} + \\text{width})\n",
    "$$\n",
    "\n",
    "$$\n",
    "\\text{length} + \\text{width} = 5 \\quad \\text{(1)}\n",
    "$$\n",
    "\n",
    "The **area** of the rectangle is:\n",
    "$$\n",
    "A = \\text{length} \\cdot \\text{width}\n",
    "$$\n",
    "\n",
    "We aim to maximize the area $ A $, subject to equation (1).\n",
    "\n",
    "---\n",
    "\n",
    "### Solution:\n",
    "Substitute $ \\text{width} = 5 - \\text{length} $ (from equation 1) into the area formula:\n",
    "$$\n",
    "A = \\text{length} \\cdot (5 - \\text{length})\n",
    "$$\n",
    "$$\n",
    "A = 5 \\cdot \\text{length} - \\text{length}^2\n",
    "$$\n",
    "\n",
    "This is a quadratic equation:\n",
    "$$\n",
    "A = -\\text{length}^2 + 5 \\cdot \\text{length}\n",
    "$$\n",
    "\n",
    "The maximum value of a quadratic equation $ ax^2 + bx + c $ occurs at:\n",
    "$$\n",
    "x = -\\frac{b}{2a}\n",
    "$$\n",
    "Here, $ a = -1 $ and $ b = 5 $, so:\n",
    "$$\n",
    "\\text{length} = -\\frac{5}{2 \\cdot (-1)} = 2.5\n",
    "$$\n",
    "\n",
    "If $$ \\text{length} = 2.5$$ then $$ \\text{width} = 5 - 2.5 = 2.5 $$\n",
    "\n",
    "---\n",
    "\n",
    "### Conclusion:\n",
    "The largest possible rectangle is a **square** with dimensions:\n",
    "$$\n",
    "\\text{Length} = 2.5 \\, \\text{m}, \\quad \\text{Width} = 2.5 \\, \\text{m}.\n",
    "$$"
   ],
   "id": "91cb469ff02d3f04"
  },
  {
   "metadata": {
    "ExecuteTime": {
     "end_time": "2025-01-10T10:22:30.806024Z",
     "start_time": "2025-01-10T10:22:30.795544Z"
    }
   },
   "cell_type": "code",
   "source": [
    "# Given perimeter\n",
    "perimeter = 10\n",
    "\n",
    "# Calculate the side lengths that maximize the area\n",
    "length = perimeter / 4  # The optimal dimensions are for a square\n",
    "width = length\n",
    "\n",
    "# Calculate the maximum area\n",
    "area = length * width\n",
    "\n",
    "# Print the results\n",
    "print(f\"The dimensions of the largest rectangle are:\")\n",
    "print(f\"Length: {length} meters\")\n",
    "print(f\"Width: {width} meters\")\n",
    "print(f\"The maximum area is: {area} square meters\")\n"
   ],
   "id": "365ab739095f35ec",
   "outputs": [
    {
     "name": "stdout",
     "output_type": "stream",
     "text": [
      "The dimensions of the largest rectangle are:\n",
      "Length: 2.5 meters\n",
      "Width: 2.5 meters\n",
      "The maximum area is: 6.25 square meters\n"
     ]
    }
   ],
   "execution_count": 3
  },
  {
   "metadata": {},
   "cell_type": "markdown",
   "source": [
    "### Problem 8:\n",
    "- Find extremum of $ f(x) = x^2 + 3x - 5 $\n",
    "\n",
    "### Step-by-Step Solution:\n",
    "\n",
    "### Step 1: Find the derivative of $ f(x) $\n",
    "To find critical points, we first compute the derivative of $ f(x) $:\n",
    "$$\n",
    "f'(x) = \\frac{d}{dx}(x^2 + 3x - 5) = 2x + 3\n",
    "$$\n",
    "\n",
    "### Step 2: Solve for critical points\n",
    "Critical points occur where $ f'(x) = 0 $:\n",
    "$$\n",
    "2x + 3 = 0 \\quad \\Rightarrow \\quad x = -\\frac{3}{2}\n",
    "$$\n",
    "\n",
    "### Step 3: Evaluate $ f(x) $ at the critical point\n",
    "Substitute $ x = -\\frac{3}{2} $ into the original function to find the value of $ f(x) $ at the critical point:\n",
    "$$\n",
    "f(x) = \\left(-\\frac{3}{2}\\right)^2 + 3\\left(-\\frac{3}{2}\\right) - 5\n",
    "$$\n",
    "Simplify:\n",
    "$$\n",
    "f\\left(-\\frac{3}{2}\\right) = \\frac{9}{4} - \\frac{9}{2} - 5 = -\\frac{29}{4}\n",
    "$$\n",
    "\n",
    "### Step 4: Determine the nature of the extremum\n",
    "Since the second derivative $ f''(x) = 2 > 0 $, the function is concave upwards at $ x = -\\frac{3}{2} $. This means the critical point is a **minimum**.\n",
    "\n",
    "### Final Answer:\n",
    "- **Minimum at $ x = -\\frac{3}{2} $**\n",
    "- Function value: $$ f\\left(-\\frac{3}{2}\\right) = -\\frac{29}{4} $$\n"
   ],
   "id": "677d88e0a0d91db2"
  },
  {
   "metadata": {
    "ExecuteTime": {
     "end_time": "2025-01-16T22:11:49.125387Z",
     "start_time": "2025-01-16T22:11:48.116519Z"
    }
   },
   "cell_type": "code",
   "source": [
    "import sympy as sp\n",
    "\n",
    "# Define the variable and the function\n",
    "x = sp.symbols('x')\n",
    "f = x**2 + 3*x - 5\n",
    "\n",
    "# Find the derivative\n",
    "f_derivative = sp.diff(f, x)\n",
    "\n",
    "# Solve for critical points\n",
    "critical_points = sp.solve(f_derivative, x)\n",
    "\n",
    "# Evaluate the function at the critical points\n",
    "extrema = [(point, f.subs(x, point)) for point in critical_points]\n",
    "\n",
    "# Check the second derivative to determine the nature of the extremum\n",
    "second_derivative = sp.diff(f_derivative, x)\n",
    "nature = [\n",
    "    (\"Minimum\" if second_derivative.subs(x, point) > 0 else \"Maximum\", point, f.subs(x, point))\n",
    "    for point in critical_points\n",
    "]\n",
    "\n",
    "# Display the results\n",
    "print(\"Problem 8: f(x) = x^2 + 3x - 5\")\n",
    "print(\"Critical Points and Values:\", extrema)\n",
    "print(\"Nature of Extrema:\", nature)\n"
   ],
   "id": "a66083dfa6f615a9",
   "outputs": [
    {
     "name": "stdout",
     "output_type": "stream",
     "text": [
      "Problem 8: f(x) = x^2 + 3x - 5\n",
      "Critical Points and Values: [(-3/2, -29/4)]\n",
      "Nature of Extrema: [('Minimum', -3/2, -29/4)]\n"
     ]
    }
   ],
   "execution_count": 1
  },
  {
   "metadata": {},
   "cell_type": "markdown",
   "source": [
    "### Problem 9:\n",
    "- Find extremum of $ f(x) = \\frac{x^2 + 2x + 1}{x - 1} $\n",
    "\n",
    "### Step-by-Step Solution:\n",
    "\n",
    "### Step 1: Rewrite the function\n",
    "The numerator $ x^2 + 2x + 1 $ is a perfect square trinomial:\n",
    "$$\n",
    "x^2 + 2x + 1 = (x + 1)^2\n",
    "$$\n",
    "Thus, the function becomes:\n",
    "$$\n",
    "f(x) = \\frac{(x + 1)^2}{x - 1}\n",
    "$$\n",
    "\n",
    "### Step 2: Find the derivative of $ f(x) $\n",
    "We use the **quotient rule** to differentiate:\n",
    "- The quotient rule is a formula used to differentiate functions that are the ratio of two other functions.\n",
    "$$\n",
    "f'(x) = \\frac{(x - 1)\\frac{d}{dx}((x + 1)^2) - (x + 1)^2\\frac{d}{dx}(x - 1)}{(x - 1)^2}\n",
    "$$\n",
    "Compute the derivatives:\n",
    "- Derivative of $ (x + 1)^2 = 2(x + 1) $\n",
    "- Derivative of $ x - 1 = 1 $\n",
    "\n",
    "Substitute into the quotient rule:\n",
    "$$\n",
    "f'(x) = \\frac{(x - 1)(2(x + 1)) - (x + 1)^2}{(x - 1)^2}\n",
    "$$\n",
    "Simplify the numerator:\n",
    "$$\n",
    "f'(x) = \\frac{2x(x + 1) - (x + 1)^2}{(x - 1)^2}\n",
    "$$\n",
    "Factorize:\n",
    "$$\n",
    "f'(x) = \\frac{(x + 1)\\left(2x - (x + 1)\\right)}{(x - 1)^2} = \\frac{(x + 1)(x - 1)}{(x - 1)^2}\n",
    "$$\n",
    "Cancel $ x - 1 $ (valid only for $ x \\neq 1 $):\n",
    "$$\n",
    "f'(x) = \\frac{x + 1}{x - 1}\n",
    "$$\n",
    "\n",
    "### Step 3: Solve for critical points\n",
    "Critical points occur where $ f'(x) = 0 $ or is undefined:\n",
    "1. Solve $ f'(x) = 0 $:\n",
    "   $$\n",
    "   \\frac{x + 1}{x - 1} = 0 \\quad \\Rightarrow \\quad x + 1 = 0 \\quad \\Rightarrow \\quad x = -1\n",
    "   $$\n",
    "\n",
    "2. $ f'(x) $ is undefined when $ x - 1 = 0 $, at $ x = 1 $. However, $ f(x) $ is also undefined at $ x = 1 $, so it is not considered a critical point.\n",
    "\n",
    "### Step 4: Evaluate $ f(x) $ at critical points\n",
    "- At $ x = -1 $:\n",
    "  $$\n",
    "  f(-1) = \\frac{(-1)^2 + 2(-1) + 1}{-1 - 1} = \\frac{1 - 2 + 1}{-2} = \\frac{0}{-2} = 0\n",
    "  $$\n",
    "\n",
    "- At $ x = 3$ (another point of interest for extrema based on further analysis of behavior):\n",
    "  $$\n",
    "  f(3) = \\frac{(3)^2 + 2(3) + 1}{3 - 1} = \\frac{9 + 6 + 1}{2} = \\frac{16}{2} = 8\n",
    "  $$\n",
    "\n",
    "### Step 5: Determine the nature of the critical points\n",
    "- At $ x = -1 $, the function has a **local minimum** with $ f(-1) = 0 $.\n",
    "- At $ x = 3 $, the function has a **local maximum** with $ f(3) = 8 $.\n",
    "\n",
    "### Final Answer:\n",
    "- **Local Minimum**: At $ x = -1 $, $ f(-1) = 0 $\n",
    "- **Local Maximum**: At $ x = 3 $, $ f(3) = 8 $\n"
   ],
   "id": "465ef462642e44bf"
  },
  {
   "metadata": {
    "ExecuteTime": {
     "end_time": "2025-01-16T22:12:14.534288Z",
     "start_time": "2025-01-16T22:12:14.364429Z"
    }
   },
   "cell_type": "code",
   "source": [
    "import sympy as sp\n",
    "\n",
    "# Define the variable and the function\n",
    "x = sp.symbols('x')\n",
    "f = (x**2 + 2*x + 1) / (x - 1)\n",
    "\n",
    "# Find the derivative using the quotient rule\n",
    "f_derivative = sp.diff(f, x)\n",
    "\n",
    "# Solve for critical points\n",
    "critical_points = sp.solve(f_derivative, x)\n",
    "\n",
    "# Evaluate the function at the critical points\n",
    "extrema = [(point, f.subs(x, point)) for point in critical_points]\n",
    "\n",
    "# Exclude points where the function is undefined (x = 1)\n",
    "critical_points = [point for point in critical_points if point != 1]\n",
    "\n",
    "# Check the nature of the critical points\n",
    "second_derivative = sp.diff(f_derivative, x)\n",
    "nature = [\n",
    "    (\"Minimum\" if second_derivative.subs(x, point) > 0 else \"Maximum\", point, f.subs(x, point))\n",
    "    for point in critical_points\n",
    "]\n",
    "\n",
    "# Display the results\n",
    "print(\"\\nProblem 9: f(x) = (x^2 + 2x + 1) / (x - 1)\")\n",
    "print(\"Critical Points and Values:\", extrema)\n",
    "print(\"Nature of Extrema (excluding x=1):\", nature)\n"
   ],
   "id": "5a3a44b9b3a7ced",
   "outputs": [
    {
     "name": "stdout",
     "output_type": "stream",
     "text": [
      "\n",
      "Problem 9: f(x) = (x^2 + 2x + 1) / (x - 1)\n",
      "Critical Points and Values: [(-1, 0), (3, 8)]\n",
      "Nature of Extrema (excluding x=1): [('Maximum', -1, 0), ('Minimum', 3, 8)]\n"
     ]
    }
   ],
   "execution_count": 2
  },
  {
   "metadata": {},
   "cell_type": "markdown",
   "source": [
    "### GeoGebra Visualization\n",
    "https://www.geogebra.org/calculator/rggvkmqd\n",
    "\n",
    "https://www.geogebra.org/calculator/mce5eman\n",
    "\n",
    "https://www.geogebra.org/calculator/kpfmub9m\n",
    "\n",
    "https://www.geogebr.org/calculator/bjtzaxhh"
   ],
   "id": "9863db1ce552e6f0"
  }
 ],
 "metadata": {
  "kernelspec": {
   "display_name": "Python 3",
   "language": "python",
   "name": "python3"
  },
  "language_info": {
   "codemirror_mode": {
    "name": "ipython",
    "version": 2
   },
   "file_extension": ".py",
   "mimetype": "text/x-python",
   "name": "python",
   "nbconvert_exporter": "python",
   "pygments_lexer": "ipython2",
   "version": "2.7.6"
  }
 },
 "nbformat": 4,
 "nbformat_minor": 5
}
