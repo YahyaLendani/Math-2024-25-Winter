{
 "cells": [
  {
   "cell_type": "code",
   "id": "initial_id",
   "metadata": {
    "collapsed": true,
    "ExecuteTime": {
     "end_time": "2025-01-02T05:44:37.106249Z",
     "start_time": "2025-01-02T05:44:36.496909Z"
    }
   },
   "source": [
    "import sympy as sp\n",
    "\n",
    "# Part 6: Maximize profit\n",
    "u = sp.Symbol('u')\n",
    "P = -2 * u**2 + 50 * u - 300\n",
    "u_max = sp.solve(sp.diff(P, u), u)\n",
    "P_max = P.subs(u, u_max[0])\n",
    "\n",
    "# Part 7: Maximize rectangle area with a fixed perimeter\n",
    "L = sp.Symbol('L', positive=True)\n",
    "W = sp.Symbol('W', positive=True)\n",
    "perimeter = 2 * (L + W) - 10  # Perimeter constraint\n",
    "area = L * W\n",
    "\n",
    "# Solve for W in terms of L\n",
    "W_expr = sp.solve(perimeter, W)[0]\n",
    "area_sub = area.subs(W, W_expr)\n",
    "L_max = sp.solve(sp.diff(area_sub, L), L)\n",
    "W_max = W_expr.subs(L, L_max[0])\n",
    "A_max = area.subs({L: L_max[0], W: W_max})\n",
    "\n",
    "# Part 8: Extremum of f(x) = x^2 + 3x - 5\n",
    "x = sp.Symbol('x')\n",
    "f1 = x**2 + 3 * x - 5\n",
    "critical_points_f1 = sp.solve(sp.diff(f1, x), x)\n",
    "extremum_f1 = [(point, f1.subs(x, point)) for point in critical_points_f1]\n",
    "\n",
    "# Part 9: Extremum of f(x) = (x^2 + 2x + 1) / (x - 1)\n",
    "f2 = (x**2 + 2 * x + 1) / (x - 1)\n",
    "critical_points_f2 = sp.solve(sp.diff(f2, x), x)\n",
    "extremum_f2 = [(point, f2.subs(x, point)) for point in critical_points_f2]\n",
    "\n",
    "# Print results\n",
    "print(\"Part 6 (Maximize Profit):\")\n",
    "print(f\"u_max: {u_max[0]}\")\n",
    "print(f\"P_max: {P_max}\\n\")\n",
    "\n",
    "print(\"Part 7 (Maximize Rectangle Area):\")\n",
    "print(f\"L_max: {L_max[0]}\")\n",
    "print(f\"W_max: {W_max}\")\n",
    "print(f\"A_max: {A_max}\\n\")\n",
    "\n",
    "print(\"Part 8 (Extremum of f(x) = x^2 + 3x - 5):\")\n",
    "for point, value in extremum_f1:\n",
    "    print(f\"x = {point}, f(x) = {value}\")\n",
    "print()\n",
    "\n",
    "print(\"Part 9 (Extremum of f(x) = (x^2 + 2x + 1) / (x - 1)):\")\n",
    "for point, value in extremum_f2:\n",
    "    print(f\"x = {point}, f(x) = {value}\")\n"
   ],
   "outputs": [
    {
     "name": "stdout",
     "output_type": "stream",
     "text": [
      "Part 6 (Maximize Profit):\n",
      "u_max: 25/2\n",
      "P_max: 25/2\n",
      "\n",
      "Part 7 (Maximize Rectangle Area):\n",
      "L_max: 5/2\n",
      "W_max: 5/2\n",
      "A_max: 25/4\n",
      "\n",
      "Part 8 (Extremum of f(x) = x^2 + 3x - 5):\n",
      "x = -3/2, f(x) = -29/4\n",
      "\n",
      "Part 9 (Extremum of f(x) = (x^2 + 2x + 1) / (x - 1)):\n",
      "x = -1, f(x) = 0\n",
      "x = 3, f(x) = 8\n"
     ]
    }
   ],
   "execution_count": 1
  }
 ],
 "metadata": {
  "kernelspec": {
   "display_name": "Python 3",
   "language": "python",
   "name": "python3"
  },
  "language_info": {
   "codemirror_mode": {
    "name": "ipython",
    "version": 2
   },
   "file_extension": ".py",
   "mimetype": "text/x-python",
   "name": "python",
   "nbconvert_exporter": "python",
   "pygments_lexer": "ipython2",
   "version": "2.7.6"
  }
 },
 "nbformat": 4,
 "nbformat_minor": 5
}
