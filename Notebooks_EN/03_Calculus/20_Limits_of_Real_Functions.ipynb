{
 "cells": [
  {
   "cell_type": "code",
   "id": "initial_id",
   "metadata": {
    "collapsed": true,
    "ExecuteTime": {
     "end_time": "2025-01-01T23:33:49.474592Z",
     "start_time": "2025-01-01T23:33:48.905612Z"
    }
   },
   "source": [
    "import sympy as sp\n",
    "\n",
    "# Define the variable\n",
    "x = sp.Symbol('x', real=True)\n",
    "\n",
    "# Part 1: Compute the limit of (x^3 + 2x^2) / (x^4 - 3x^3) as x -> infinity\n",
    "expr1 = (x**3 + 2*x**2) / (x**4 - 3*x**3)\n",
    "limit1 = sp.limit(expr1, x, sp.oo)\n",
    "\n",
    "# Part 2: Compute the limit of sin(3x) / (2x + 1) as x -> 0\n",
    "expr2 = sp.sin(3*x) / (2*x + 1)\n",
    "limit2 = sp.limit(expr2, x, 0)\n",
    "\n",
    "# Part 3: Find asymptotes for the given functions\n",
    "# Function f(x) = (x^2 - 1) / (x^2 + 1)\n",
    "f = (x**2 - 1) / (x**2 + 1)\n",
    "vertical_asymptotes_f = sp.solveset(sp.denom(f), x, sp.S.Reals)\n",
    "horizontal_asymptote_f = sp.limit(f, x, sp.oo)\n",
    "\n",
    "# Function g(x) = sin(x) / (x^2 + 1)\n",
    "g = sp.sin(x) / (x**2 + 1)\n",
    "vertical_asymptotes_g = sp.solveset(sp.denom(g), x, sp.S.Reals)\n",
    "horizontal_asymptote_g = sp.limit(g, x, sp.oo)\n",
    "\n",
    "# Print the results\n",
    "print(\"Part 1: Limit of (x^3 + 2x^2) / (x^4 - 3x^3) =\", limit1)\n",
    "print(\"Part 2: Limit of sin(3x) / (2x + 1) =\", limit2)\n",
    "print(\"Part 3a: Vertical Asymptotes of f(x) =\", vertical_asymptotes_f)\n",
    "print(\"Part 3a: Horizontal Asymptote of f(x) =\", horizontal_asymptote_f)\n",
    "print(\"Part 3b: Vertical Asymptotes of g(x) =\", vertical_asymptotes_g)\n",
    "print(\"Part 3b: Horizontal Asymptote of g(x) =\", horizontal_asymptote_g)\n"
   ],
   "outputs": [
    {
     "name": "stdout",
     "output_type": "stream",
     "text": [
      "Part 1: Limit of (x^3 + 2x^2) / (x^4 - 3x^3) = 0\n",
      "Part 2: Limit of sin(3x) / (2x + 1) = 0\n",
      "Part 3a: Vertical Asymptotes of f(x) = EmptySet\n",
      "Part 3a: Horizontal Asymptote of f(x) = 1\n",
      "Part 3b: Vertical Asymptotes of g(x) = EmptySet\n",
      "Part 3b: Horizontal Asymptote of g(x) = 0\n"
     ]
    }
   ],
   "execution_count": 1
  },
  {
   "metadata": {},
   "cell_type": "code",
   "outputs": [],
   "execution_count": null,
   "source": "",
   "id": "65ec500cc2e0b3d"
  }
 ],
 "metadata": {
  "kernelspec": {
   "display_name": "Python 3",
   "language": "python",
   "name": "python3"
  },
  "language_info": {
   "codemirror_mode": {
    "name": "ipython",
    "version": 2
   },
   "file_extension": ".py",
   "mimetype": "text/x-python",
   "name": "python",
   "nbconvert_exporter": "python",
   "pygments_lexer": "ipython2",
   "version": "2.7.6"
  }
 },
 "nbformat": 4,
 "nbformat_minor": 5
}
