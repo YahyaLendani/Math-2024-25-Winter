{
 "cells": [
  {
   "cell_type": "code",
   "id": "initial_id",
   "metadata": {
    "collapsed": true,
    "ExecuteTime": {
     "end_time": "2024-12-18T21:44:27.163811Z",
     "start_time": "2024-12-18T21:44:26.590193Z"
    }
   },
   "source": [
    "import sympy as sp\n",
    "\n",
    "# Define symbols\n",
    "x, y, z, d = sp.symbols('x y z d')\n",
    "\n",
    "# 1. Plane passes through points A(1, 2, 3), B(3, 4, 5), and C(2, 1, 4)\n",
    "A = [1, 2, 3]\n",
    "B = [3, 4, 5]\n",
    "C = [2, 1, 4]\n",
    "AB = [B[i] - A[i] for i in range(3)]\n",
    "AC = [C[i] - A[i] for i in range(3)]\n",
    "normal_vector = sp.Matrix([AB]).cross(sp.Matrix([AC]))\n",
    "plane_eq1 = normal_vector[0]*(x - A[0]) + normal_vector[1]*(y - A[1]) + normal_vector[2]*(z - A[2])\n",
    "print(\"1. Plane Equation (through A, B, C):\", sp.simplify(plane_eq1), \"= 0\")\n",
    "\n",
    "# 2. Plane passes through A(1, 2, 3) and parallel to 2x + 3y + 4z = 5\n",
    "normal_vector2 = [2, 3, 4]\n",
    "plane_eq2 = normal_vector2[0]*(x - A[0]) + normal_vector2[1]*(y - A[1]) + normal_vector2[2]*(z - A[2])\n",
    "print(\"2. Plane Equation (parallel to given plane):\", sp.simplify(plane_eq2), \"= 0\")\n",
    "\n",
    "# 3. Plane passes through A(1, 2, 3) and perpendicular to n = [2, 3, 4]\n",
    "normal_vector3 = [2, 3, 4]\n",
    "plane_eq3 = normal_vector3[0]*(x - A[0]) + normal_vector3[1]*(y - A[1]) + normal_vector3[2]*(z - A[2])\n",
    "print(\"3. Plane Equation (perpendicular to n):\", sp.simplify(plane_eq3), \"= 0\")\n",
    "\n",
    "# 4. Intersection of planes 2x + 3y + 4z = 5 and 3x + 4y + 2z = 6\n",
    "plane1 = 2*x + 3*y + 4*z - 5\n",
    "plane2 = 3*x + 4*y + 2*z - 6\n",
    "line_intersection = sp.solve([plane1, plane2], (y, z))\n",
    "print(\"4. Line of Intersection of Planes:\", line_intersection)\n",
    "\n",
    "# 5. Plane through A(1, 2, 3) parallel to vectors v1 = [1, 0, 1] and v2 = [0, 1, -1]\n",
    "v1 = sp.Matrix([1, 0, 1])\n",
    "v2 = sp.Matrix([0, 1, -1])\n",
    "normal_vector5 = v1.cross(v2)\n",
    "plane_eq5 = normal_vector5[0]*(x - A[0]) + normal_vector5[1]*(y - A[1]) + normal_vector5[2]*(z - A[2])\n",
    "print(\"5. Plane Equation (parallel to v1 and v2):\", sp.simplify(plane_eq5), \"= 0\")\n",
    "\n",
    "# 6. Example of planes parallel and perpendicular to 2x + 3y + 4z = 5\n",
    "plane_parallel = 2*x + 3*y + 4*z - 7\n",
    "plane_perpendicular = 3*x - 2*y + z - 5\n",
    "print(\"6. Plane Parallel:\", plane_parallel, \"= 0\")\n",
    "print(\"   Plane Perpendicular:\", plane_perpendicular, \"= 0\")\n",
    "\n",
    "# 7. Distance from point A(1, 2, 3) to plane 2x + 3y + 4z = 5\n",
    "plane_normal = sp.Matrix([2, 3, 4])\n",
    "D = abs(plane_normal.dot(sp.Matrix(A)) - 5) / sp.sqrt(sum([i**2 for i in plane_normal]))\n",
    "print(\"7. Distance from Point A to Plane:\", D)\n",
    "\n",
    "# 8. Plane intersects coordinate axes at A(2, 0, 0), B(0, 3, 0), C(0, 0, 4)\n",
    "A_axes = [2, 0, 0]\n",
    "B_axes = [0, 3, 0]\n",
    "C_axes = [0, 0, 4]\n",
    "normal_axes = sp.Matrix([A_axes]).cross(sp.Matrix(B_axes))\n",
    "plane_eq8 = normal_axes[0]*(x - A_axes[0]) + normal_axes[1]*(y - A_axes[1]) + normal_axes[2]*(z - A_axes[2])\n",
    "print(\"8. Plane Equation (coordinate axes):\", sp.simplify(plane_eq8), \"= 0\")\n",
    "\n",
    "# 9. Angle between planes x + y + z = 1 and x = 0\n",
    "normal1 = sp.Matrix([1, 1, 1])\n",
    "normal2 = sp.Matrix([1, 0, 0])\n",
    "cos_theta = normal1.dot(normal2) / (sp.sqrt(sum(i**2 for i in normal1)) * sp.sqrt(sum(i**2 for i in normal2)))\n",
    "angle = sp.acos(cos_theta)\n",
    "print(\"9. Angle between planes:\", sp.N(angle, 3), \"radians\")\n",
    "\n",
    "# 10. Vector perpendicular to plane x + y + z = 1\n",
    "perpendicular_vector = [1, 1, 1]\n",
    "print(\"10. Perpendicular Vector to Plane:\", perpendicular_vector)\n"
   ],
   "outputs": [
    {
     "name": "stdout",
     "output_type": "stream",
     "text": [
      "1. Plane Equation (through A, B, C): 4*x - 4*z + 8 = 0\n",
      "2. Plane Equation (parallel to given plane): 2*x + 3*y + 4*z - 20 = 0\n",
      "3. Plane Equation (perpendicular to n): 2*x + 3*y + 4*z - 20 = 0\n",
      "4. Line of Intersection of Planes: {y: 7/5 - 4*x/5, z: x/10 + 1/5}\n",
      "5. Plane Equation (parallel to v1 and v2): -x + y + z - 4 = 0\n",
      "6. Plane Parallel: 2*x + 3*y + 4*z - 7 = 0\n",
      "   Plane Perpendicular: 3*x - 2*y + z - 5 = 0\n",
      "7. Distance from Point A to Plane: 15*sqrt(29)/29\n",
      "8. Plane Equation (coordinate axes): 6*z = 0\n",
      "9. Angle between planes: 0.955 radians\n",
      "10. Perpendicular Vector to Plane: [1, 1, 1]\n"
     ]
    }
   ],
   "execution_count": 1
  }
 ],
 "metadata": {
  "kernelspec": {
   "display_name": "Python 3",
   "language": "python",
   "name": "python3"
  },
  "language_info": {
   "codemirror_mode": {
    "name": "ipython",
    "version": 2
   },
   "file_extension": ".py",
   "mimetype": "text/x-python",
   "name": "python",
   "nbconvert_exporter": "python",
   "pygments_lexer": "ipython2",
   "version": "2.7.6"
  }
 },
 "nbformat": 4,
 "nbformat_minor": 5
}
