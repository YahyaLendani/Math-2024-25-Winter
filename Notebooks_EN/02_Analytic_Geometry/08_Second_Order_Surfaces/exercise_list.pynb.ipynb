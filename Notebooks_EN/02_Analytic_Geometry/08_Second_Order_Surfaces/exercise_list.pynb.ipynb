{
 "cells": [
  {
   "cell_type": "code",
   "id": "initial_id",
   "metadata": {
    "collapsed": true,
    "ExecuteTime": {
     "end_time": "2024-12-18T21:48:04.302916Z",
     "start_time": "2024-12-18T21:48:03.058403Z"
    }
   },
   "source": [
    "import sympy as sp\n",
    "\n",
    "# Define symbols\n",
    "x, y, z = sp.symbols('x y z')\n",
    "\n",
    "# 1. Equation of a sphere with center P = (1, 2, 3) and radius r = 3\n",
    "center = (1, 2, 3)\n",
    "radius = 3\n",
    "sphere_eq1 = (x - center[0])**2 + (y - center[1])**2 + (z - center[2])**2 - radius**2\n",
    "print(\"1. Equation of the Sphere:\", sp.simplify(sphere_eq1), \"= 0\")\n",
    "\n",
    "# 2. Check if spheres x^2 + y^2 + z^2 = 1 and x^2 + y^2 + z^2 = 2 have common points\n",
    "sphere1 = x**2 + y**2 + z**2 - 1\n",
    "sphere2 = x**2 + y**2 + z**2 - 2\n",
    "common_points = sp.solve([sphere1, sphere2], (x, y, z))\n",
    "print(\"2. Common Points of Spheres:\", common_points if common_points else \"No common points\")\n",
    "\n",
    "# 3. Intersection of spheres x^2 + y^2 + z^2 = 1 and (x - 1)^2 + y^2 + z^2 = 1\n",
    "sphere1 = x**2 + y**2 + z**2 - 1\n",
    "sphere2 = (x - 1)**2 + y**2 + z**2 - 1\n",
    "intersection_curve = sp.solve([sphere1, sphere2], (x, y, z))\n",
    "print(\"3. Curve of Intersection of Spheres:\", intersection_curve)\n",
    "\n",
    "# 4. Tangent plane to the paraboloid z = (x - 1)^2 + y^2 + 1 at P = (1, 0, 1)\n",
    "paraboloid_eq = z - ((x - 1)**2 + y**2 + 1)\n",
    "P = (1, 0, 1)\n",
    "# Gradient of the paraboloid\n",
    "grad = [sp.diff(paraboloid_eq, var) for var in (x, y, z)]\n",
    "tangent_plane = grad[0] * (x - P[0]) + grad[1] * (y - P[1]) + grad[2] * (z - P[2])\n",
    "print(\"4. Tangent Plane Equation:\", sp.simplify(tangent_plane), \"= 0\")"
   ],
   "outputs": [
    {
     "name": "stdout",
     "output_type": "stream",
     "text": [
      "1. Equation of the Sphere: (x - 1)**2 + (y - 2)**2 + (z - 3)**2 - 9 = 0\n"
     ]
    },
    {
     "ename": "NotImplementedError",
     "evalue": "no valid subset found",
     "output_type": "error",
     "traceback": [
      "\u001B[1;31m---------------------------------------------------------------------------\u001B[0m",
      "\u001B[1;31mNotImplementedError\u001B[0m                       Traceback (most recent call last)",
      "Cell \u001B[1;32mIn[1], line 15\u001B[0m\n\u001B[0;32m     13\u001B[0m sphere1 \u001B[38;5;241m=\u001B[39m x\u001B[38;5;241m*\u001B[39m\u001B[38;5;241m*\u001B[39m\u001B[38;5;241m2\u001B[39m \u001B[38;5;241m+\u001B[39m y\u001B[38;5;241m*\u001B[39m\u001B[38;5;241m*\u001B[39m\u001B[38;5;241m2\u001B[39m \u001B[38;5;241m+\u001B[39m z\u001B[38;5;241m*\u001B[39m\u001B[38;5;241m*\u001B[39m\u001B[38;5;241m2\u001B[39m \u001B[38;5;241m-\u001B[39m \u001B[38;5;241m1\u001B[39m\n\u001B[0;32m     14\u001B[0m sphere2 \u001B[38;5;241m=\u001B[39m x\u001B[38;5;241m*\u001B[39m\u001B[38;5;241m*\u001B[39m\u001B[38;5;241m2\u001B[39m \u001B[38;5;241m+\u001B[39m y\u001B[38;5;241m*\u001B[39m\u001B[38;5;241m*\u001B[39m\u001B[38;5;241m2\u001B[39m \u001B[38;5;241m+\u001B[39m z\u001B[38;5;241m*\u001B[39m\u001B[38;5;241m*\u001B[39m\u001B[38;5;241m2\u001B[39m \u001B[38;5;241m-\u001B[39m \u001B[38;5;241m2\u001B[39m\n\u001B[1;32m---> 15\u001B[0m common_points \u001B[38;5;241m=\u001B[39m \u001B[43msp\u001B[49m\u001B[38;5;241;43m.\u001B[39;49m\u001B[43msolve\u001B[49m\u001B[43m(\u001B[49m\u001B[43m[\u001B[49m\u001B[43msphere1\u001B[49m\u001B[43m,\u001B[49m\u001B[43m \u001B[49m\u001B[43msphere2\u001B[49m\u001B[43m]\u001B[49m\u001B[43m,\u001B[49m\u001B[43m \u001B[49m\u001B[43m(\u001B[49m\u001B[43mx\u001B[49m\u001B[43m,\u001B[49m\u001B[43m \u001B[49m\u001B[43my\u001B[49m\u001B[43m,\u001B[49m\u001B[43m \u001B[49m\u001B[43mz\u001B[49m\u001B[43m)\u001B[49m\u001B[43m)\u001B[49m\n\u001B[0;32m     16\u001B[0m \u001B[38;5;28mprint\u001B[39m(\u001B[38;5;124m\"\u001B[39m\u001B[38;5;124m2. Common Points of Spheres:\u001B[39m\u001B[38;5;124m\"\u001B[39m, common_points \u001B[38;5;28;01mif\u001B[39;00m common_points \u001B[38;5;28;01melse\u001B[39;00m \u001B[38;5;124m\"\u001B[39m\u001B[38;5;124mNo common points\u001B[39m\u001B[38;5;124m\"\u001B[39m)\n\u001B[0;32m     18\u001B[0m \u001B[38;5;66;03m# 3. Intersection of spheres x^2 + y^2 + z^2 = 1 and (x - 1)^2 + y^2 + z^2 = 1\u001B[39;00m\n",
      "File \u001B[1;32m~\\Documents\\GitHub\\Math-2024-25-Winter\\venv\\Lib\\site-packages\\sympy\\solvers\\solvers.py:1172\u001B[0m, in \u001B[0;36msolve\u001B[1;34m(f, *symbols, **flags)\u001B[0m\n\u001B[0;32m   1170\u001B[0m         solution \u001B[38;5;241m=\u001B[39m _solve(f[\u001B[38;5;241m0\u001B[39m], \u001B[38;5;241m*\u001B[39msymbols, \u001B[38;5;241m*\u001B[39m\u001B[38;5;241m*\u001B[39mflags)\n\u001B[0;32m   1171\u001B[0m \u001B[38;5;28;01melse\u001B[39;00m:\n\u001B[1;32m-> 1172\u001B[0m     linear, solution \u001B[38;5;241m=\u001B[39m \u001B[43m_solve_system\u001B[49m\u001B[43m(\u001B[49m\u001B[43mf\u001B[49m\u001B[43m,\u001B[49m\u001B[43m \u001B[49m\u001B[43msymbols\u001B[49m\u001B[43m,\u001B[49m\u001B[43m \u001B[49m\u001B[38;5;241;43m*\u001B[39;49m\u001B[38;5;241;43m*\u001B[39;49m\u001B[43mflags\u001B[49m\u001B[43m)\u001B[49m\n\u001B[0;32m   1173\u001B[0m \u001B[38;5;28;01massert\u001B[39;00m \u001B[38;5;28mtype\u001B[39m(solution) \u001B[38;5;129;01mis\u001B[39;00m \u001B[38;5;28mlist\u001B[39m\n\u001B[0;32m   1174\u001B[0m \u001B[38;5;28;01massert\u001B[39;00m \u001B[38;5;129;01mnot\u001B[39;00m solution \u001B[38;5;129;01mor\u001B[39;00m \u001B[38;5;28mtype\u001B[39m(solution[\u001B[38;5;241m0\u001B[39m]) \u001B[38;5;129;01mis\u001B[39;00m \u001B[38;5;28mdict\u001B[39m, solution\n",
      "File \u001B[1;32m~\\Documents\\GitHub\\Math-2024-25-Winter\\venv\\Lib\\site-packages\\sympy\\solvers\\solvers.py:1896\u001B[0m, in \u001B[0;36m_solve_system\u001B[1;34m(exprs, symbols, **flags)\u001B[0m\n\u001B[0;32m   1894\u001B[0m         solved_syms \u001B[38;5;241m=\u001B[39m \u001B[38;5;28mlist\u001B[39m(got_s)\n\u001B[0;32m   1895\u001B[0m     \u001B[38;5;28;01melse\u001B[39;00m:\n\u001B[1;32m-> 1896\u001B[0m         \u001B[38;5;28;01mraise\u001B[39;00m \u001B[38;5;167;01mNotImplementedError\u001B[39;00m(\u001B[38;5;124m'\u001B[39m\u001B[38;5;124mno valid subset found\u001B[39m\u001B[38;5;124m'\u001B[39m)\n\u001B[0;32m   1897\u001B[0m \u001B[38;5;28;01melse\u001B[39;00m:\n\u001B[0;32m   1898\u001B[0m     \u001B[38;5;28;01mtry\u001B[39;00m:\n",
      "\u001B[1;31mNotImplementedError\u001B[0m: no valid subset found"
     ]
    }
   ],
   "execution_count": 1
  }
 ],
 "metadata": {
  "kernelspec": {
   "display_name": "Python 3",
   "language": "python",
   "name": "python3"
  },
  "language_info": {
   "codemirror_mode": {
    "name": "ipython",
    "version": 2
   },
   "file_extension": ".py",
   "mimetype": "text/x-python",
   "name": "python",
   "nbconvert_exporter": "python",
   "pygments_lexer": "ipython2",
   "version": "2.7.6"
  }
 },
 "nbformat": 4,
 "nbformat_minor": 5
}
