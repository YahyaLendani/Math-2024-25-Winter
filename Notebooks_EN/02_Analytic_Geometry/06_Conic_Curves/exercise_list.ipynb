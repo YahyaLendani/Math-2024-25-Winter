{
 "cells": [
  {
   "cell_type": "code",
   "id": "initial_id",
   "metadata": {
    "collapsed": true,
    "ExecuteTime": {
     "end_time": "2024-12-18T21:41:15.383760Z",
     "start_time": "2024-12-18T21:41:15.189451Z"
    }
   },
   "source": [
    "import sympy as sp\n",
    "import math\n",
    "\n",
    "# 1. Circle Equation: Center (1, 2), Radius 3\n",
    "x, y = sp.symbols('x y')\n",
    "center = (1, 2)\n",
    "radius = 3\n",
    "circle_eq = (x - center[0])**2 + (y - center[1])**2 - radius**2\n",
    "print(\"1. Circle Equation:\", sp.simplify(circle_eq), \"= 0\")\n",
    "\n",
    "# 2. Parabola Equation: Passes through x = 2, x = 4 (Ox axis), y(3) = 1\n",
    "a, b, c = sp.symbols('a b c')\n",
    "parabola_eq = a*x**2 + b*x + c\n",
    "# Conditions\n",
    "conditions = [\n",
    "    parabola_eq.subs(x, 2),\n",
    "    parabola_eq.subs(x, 4),\n",
    "    parabola_eq.subs(x, 3) - 1\n",
    "]\n",
    "sol_parabola = sp.solve(conditions, (a, b, c))\n",
    "parabola_final = parabola_eq.subs(sol_parabola)\n",
    "print(\"2. Parabola Equation:\", parabola_final)\n",
    "\n",
    "# 3. Center of Ellipse: x^2 + 4y^2 - 4x - 16y + 16 = 0\n",
    "ellipse_eq = x**2 + 4*y**2 - 4*x - 16*y + 16\n",
    "ellipse_center = sp.Eq(sp.expand(ellipse_eq), 0)\n",
    "center_x = -sp.diff(ellipse_eq, x) / 2\n",
    "center_y = -sp.diff(ellipse_eq, y) / 2\n",
    "print(\"3. Center of Ellipse:\", sp.simplify(center_x), sp.simplify(center_y))\n",
    "\n",
    "# 4. Slope of Tangent Line to Circle x^2 + y^2 = 1\n",
    "m = sp.symbols('m')\n",
    "tangent_line = y - m*x - 5  # y = mx - 5\n",
    "circle = x**2 + y**2 - 1\n",
    "intersection = sp.solve([tangent_line, circle], (x, y))\n",
    "slope_tangent = sp.solve(intersection, m)\n",
    "print(\"4. Slope of Tangent Line:\", slope_tangent)\n",
    "\n",
    "# 5. Intersection of Hyperbola x^2 - y^2 = 1 and Ellipse's Line x^2 + 4y^2 = 6\n",
    "ellipse_eq2 = x**2 + 4*y**2 - 6\n",
    "hyperbola_eq = x**2 - y**2 - 1\n",
    "intersection_points = sp.solve([ellipse_eq2, hyperbola_eq], (x, y))\n",
    "print(\"5. Intersection Points:\", intersection_points)\n",
    "\n",
    "# 6. Distance Between Hyperbola Branches: x^2 - y^2 = 1\n",
    "y_val = sp.sqrt(x**2 - 1)\n",
    "distance = 2 * y_val.subs(x, 0)\n",
    "print(\"6. Distance Between Hyperbola Branches:\", distance)"
   ],
   "outputs": [
    {
     "name": "stdout",
     "output_type": "stream",
     "text": [
      "1. Circle Equation: (x - 1)**2 + (y - 2)**2 - 9 = 0\n",
      "2. Parabola Equation: -x**2 + 6*x - 8\n",
      "3. Center of Ellipse: 2 - x 8 - 4*y\n"
     ]
    },
    {
     "ename": "AttributeError",
     "evalue": "'Tuple' object has no attribute 'as_independent'",
     "output_type": "error",
     "traceback": [
      "\u001B[1;31m---------------------------------------------------------------------------\u001B[0m",
      "\u001B[1;31mAttributeError\u001B[0m                            Traceback (most recent call last)",
      "Cell \u001B[1;32mIn[2], line 36\u001B[0m\n\u001B[0;32m     34\u001B[0m circle \u001B[38;5;241m=\u001B[39m x\u001B[38;5;241m*\u001B[39m\u001B[38;5;241m*\u001B[39m\u001B[38;5;241m2\u001B[39m \u001B[38;5;241m+\u001B[39m y\u001B[38;5;241m*\u001B[39m\u001B[38;5;241m*\u001B[39m\u001B[38;5;241m2\u001B[39m \u001B[38;5;241m-\u001B[39m \u001B[38;5;241m1\u001B[39m\n\u001B[0;32m     35\u001B[0m intersection \u001B[38;5;241m=\u001B[39m sp\u001B[38;5;241m.\u001B[39msolve([tangent_line, circle], (x, y))\n\u001B[1;32m---> 36\u001B[0m slope_tangent \u001B[38;5;241m=\u001B[39m \u001B[43msp\u001B[49m\u001B[38;5;241;43m.\u001B[39;49m\u001B[43msolve\u001B[49m\u001B[43m(\u001B[49m\u001B[43mintersection\u001B[49m\u001B[43m,\u001B[49m\u001B[43m \u001B[49m\u001B[43mm\u001B[49m\u001B[43m)\u001B[49m\n\u001B[0;32m     37\u001B[0m \u001B[38;5;28mprint\u001B[39m(\u001B[38;5;124m\"\u001B[39m\u001B[38;5;124m4. Slope of Tangent Line:\u001B[39m\u001B[38;5;124m\"\u001B[39m, slope_tangent)\n\u001B[0;32m     39\u001B[0m \u001B[38;5;66;03m# 5. Intersection of Hyperbola x^2 - y^2 = 1 and Ellipse's Line x^2 + 4y^2 = 6\u001B[39;00m\n",
      "File \u001B[1;32m~\\Documents\\GitHub\\Math-2024-25-Winter\\venv\\Lib\\site-packages\\sympy\\solvers\\solvers.py:1172\u001B[0m, in \u001B[0;36msolve\u001B[1;34m(f, *symbols, **flags)\u001B[0m\n\u001B[0;32m   1170\u001B[0m         solution \u001B[38;5;241m=\u001B[39m _solve(f[\u001B[38;5;241m0\u001B[39m], \u001B[38;5;241m*\u001B[39msymbols, \u001B[38;5;241m*\u001B[39m\u001B[38;5;241m*\u001B[39mflags)\n\u001B[0;32m   1171\u001B[0m \u001B[38;5;28;01melse\u001B[39;00m:\n\u001B[1;32m-> 1172\u001B[0m     linear, solution \u001B[38;5;241m=\u001B[39m \u001B[43m_solve_system\u001B[49m\u001B[43m(\u001B[49m\u001B[43mf\u001B[49m\u001B[43m,\u001B[49m\u001B[43m \u001B[49m\u001B[43msymbols\u001B[49m\u001B[43m,\u001B[49m\u001B[43m \u001B[49m\u001B[38;5;241;43m*\u001B[39;49m\u001B[38;5;241;43m*\u001B[39;49m\u001B[43mflags\u001B[49m\u001B[43m)\u001B[49m\n\u001B[0;32m   1173\u001B[0m \u001B[38;5;28;01massert\u001B[39;00m \u001B[38;5;28mtype\u001B[39m(solution) \u001B[38;5;129;01mis\u001B[39;00m \u001B[38;5;28mlist\u001B[39m\n\u001B[0;32m   1174\u001B[0m \u001B[38;5;28;01massert\u001B[39;00m \u001B[38;5;129;01mnot\u001B[39;00m solution \u001B[38;5;129;01mor\u001B[39;00m \u001B[38;5;28mtype\u001B[39m(solution[\u001B[38;5;241m0\u001B[39m]) \u001B[38;5;129;01mis\u001B[39;00m \u001B[38;5;28mdict\u001B[39m, solution\n",
      "File \u001B[1;32m~\\Documents\\GitHub\\Math-2024-25-Winter\\venv\\Lib\\site-packages\\sympy\\solvers\\solvers.py:1825\u001B[0m, in \u001B[0;36m_solve_system\u001B[1;34m(exprs, symbols, **flags)\u001B[0m\n\u001B[0;32m   1823\u001B[0m \u001B[38;5;28;01mfor\u001B[39;00m j, g \u001B[38;5;129;01min\u001B[39;00m \u001B[38;5;28menumerate\u001B[39m(exprs):\n\u001B[0;32m   1824\u001B[0m     dens\u001B[38;5;241m.\u001B[39mupdate(_simple_dens(g, symbols))\n\u001B[1;32m-> 1825\u001B[0m     i, d \u001B[38;5;241m=\u001B[39m \u001B[43m_invert\u001B[49m\u001B[43m(\u001B[49m\u001B[43mg\u001B[49m\u001B[43m,\u001B[49m\u001B[43m \u001B[49m\u001B[38;5;241;43m*\u001B[39;49m\u001B[43msymbols\u001B[49m\u001B[43m)\u001B[49m\n\u001B[0;32m   1826\u001B[0m     \u001B[38;5;28;01mif\u001B[39;00m d \u001B[38;5;129;01min\u001B[39;00m symbols:\n\u001B[0;32m   1827\u001B[0m         \u001B[38;5;28;01mif\u001B[39;00m linear:\n",
      "File \u001B[1;32m~\\Documents\\GitHub\\Math-2024-25-Winter\\venv\\Lib\\site-packages\\sympy\\solvers\\solvers.py:3178\u001B[0m, in \u001B[0;36m_invert\u001B[1;34m(eq, *symbols, **kwargs)\u001B[0m\n\u001B[0;32m   3176\u001B[0m was \u001B[38;5;241m=\u001B[39m lhs\n\u001B[0;32m   3177\u001B[0m \u001B[38;5;28;01mwhile\u001B[39;00m \u001B[38;5;28;01mTrue\u001B[39;00m:\n\u001B[1;32m-> 3178\u001B[0m     indep, dep \u001B[38;5;241m=\u001B[39m \u001B[43mlhs\u001B[49m\u001B[38;5;241;43m.\u001B[39;49m\u001B[43mas_independent\u001B[49m(\u001B[38;5;241m*\u001B[39msymbols)\n\u001B[0;32m   3180\u001B[0m     \u001B[38;5;66;03m# dep + indep == rhs\u001B[39;00m\n\u001B[0;32m   3181\u001B[0m     \u001B[38;5;28;01mif\u001B[39;00m lhs\u001B[38;5;241m.\u001B[39mis_Add:\n\u001B[0;32m   3182\u001B[0m         \u001B[38;5;66;03m# this indicates we have done it all\u001B[39;00m\n",
      "\u001B[1;31mAttributeError\u001B[0m: 'Tuple' object has no attribute 'as_independent'"
     ]
    }
   ],
   "execution_count": 2
  }
 ],
 "metadata": {
  "kernelspec": {
   "display_name": "Python 3",
   "language": "python",
   "name": "python3"
  },
  "language_info": {
   "codemirror_mode": {
    "name": "ipython",
    "version": 2
   },
   "file_extension": ".py",
   "mimetype": "text/x-python",
   "name": "python",
   "nbconvert_exporter": "python",
   "pygments_lexer": "ipython2",
   "version": "2.7.6"
  }
 },
 "nbformat": 4,
 "nbformat_minor": 5
}
