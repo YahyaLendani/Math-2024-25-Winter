{
 "cells": [
  {
   "cell_type": "markdown",
   "metadata": {},
   "source": [
    "# School Method for Solving Systems of Linear Equations"
   ]
  },
  {
   "cell_type": "code",
   "execution_count": 1,
   "metadata": {},
   "outputs": [],
   "source": [
    "import sympy as sp\n",
    "from sympy import symbols, Eq, expand, solve\n",
    "\n",
    "class EnhancedEq(Eq):\n",
    "    def __add__(self, other):\n",
    "        return EnhancedEq(self.lhs + other.lhs, self.rhs + other.rhs)\n",
    "\n",
    "    def __sub__(self, other):\n",
    "        return EnhancedEq(self.lhs - other.lhs, self.rhs - other.rhs)\n",
    "\n",
    "    def __mul__(self, scalar):\n",
    "        return EnhancedEq(scalar * self.lhs, scalar * self.rhs)\n",
    "\n",
    "    def __rmul__(self, scalar):\n",
    "        return self.__mul__(scalar)\n",
    "\n",
    "    def simplify(self):\n",
    "        return EnhancedEq(expand(self.lhs), expand(self.rhs))\n",
    "\n",
    "    def substitute(self, *args, **kwargs):\n",
    "        return EnhancedEq(self.lhs.subs(*args, **kwargs), self.rhs.subs(*args, **kwargs))\n",
    "\n",
    "    def solve_for(self, symbol):\n",
    "        return solve(self, symbol)\n",
    "\n",
    "# Example usage:\n",
    "x, y = symbols('x y')\n",
    "\n",
    "# Define equations\n",
    "eq1 = EnhancedEq(2*x + y, 5)\n",
    "eq2 = EnhancedEq(x - y, 1)"
   ]
  },
  {
   "cell_type": "code",
   "execution_count": 2,
   "metadata": {},
   "outputs": [
    {
     "name": "stdout",
     "output_type": "stream",
     "text": [
      "First equation:\n"
     ]
    },
    {
     "data": {
      "text/latex": [
       "$\\displaystyle 2 x + y = 5$"
      ],
      "text/plain": [
       "Eq(2*x + y, 5)"
      ]
     },
     "execution_count": 2,
     "metadata": {},
     "output_type": "execute_result"
    }
   ],
   "source": [
    "print(\"First equation:\")\n",
    "eq1"
   ]
  },
  {
   "cell_type": "code",
   "execution_count": 3,
   "metadata": {},
   "outputs": [
    {
     "name": "stdout",
     "output_type": "stream",
     "text": [
      "Second equation:\n"
     ]
    },
    {
     "data": {
      "text/latex": [
       "$\\displaystyle x - y = 1$"
      ],
      "text/plain": [
       "Eq(x - y, 1)"
      ]
     },
     "execution_count": 3,
     "metadata": {},
     "output_type": "execute_result"
    }
   ],
   "source": [
    "print(\"Second equation:\")\n",
    "eq2"
   ]
  },
  {
   "cell_type": "code",
   "execution_count": 4,
   "metadata": {},
   "outputs": [
    {
     "data": {
      "text/latex": [
       "$\\displaystyle 3 x = 6$"
      ],
      "text/plain": [
       "Eq(3*x, 6)"
      ]
     },
     "execution_count": 4,
     "metadata": {},
     "output_type": "execute_result"
    }
   ],
   "source": [
    "# Add the equations\n",
    "eq3 = eq1 + eq2\n",
    "eq3"
   ]
  },
  {
   "cell_type": "code",
   "execution_count": 5,
   "metadata": {},
   "outputs": [
    {
     "data": {
      "text/latex": [
       "$\\displaystyle 2$"
      ],
      "text/plain": [
       "2"
      ]
     },
     "execution_count": 5,
     "metadata": {},
     "output_type": "execute_result"
    }
   ],
   "source": [
    "# We have an equation with one unknown, so we can solve it\n",
    "sol_x = eq3.solve_for(x)[0]\n",
    "sol_x"
   ]
  },
  {
   "cell_type": "code",
   "execution_count": 6,
   "metadata": {},
   "outputs": [
    {
     "data": {
      "text/latex": [
       "$\\displaystyle 2 - y = 1$"
      ],
      "text/plain": [
       "Eq(2 - y, 1)"
      ]
     },
     "execution_count": 6,
     "metadata": {},
     "output_type": "execute_result"
    }
   ],
   "source": [
    "# Substitute the solution into equation 2\n",
    "eq2 = eq2.substitute(x, sol_x)\n",
    "eq2"
   ]
  },
  {
   "cell_type": "code",
   "execution_count": 7,
   "metadata": {},
   "outputs": [
    {
     "data": {
      "text/latex": [
       "$\\displaystyle 1$"
      ],
      "text/plain": [
       "1"
      ]
     },
     "execution_count": 7,
     "metadata": {},
     "output_type": "execute_result"
    }
   ],
   "source": [
    "# We get an equation with one unknown, so we can solve it\n",
    "eq2.solve_for(y)[0]"
   ]
  },
  {
   "cell_type": "code",
   "execution_count": 8,
   "metadata": {},
   "outputs": [
    {
     "data": {
      "text/plain": [
       "{x: 2, y: 1}"
      ]
     },
     "execution_count": 8,
     "metadata": {},
     "output_type": "execute_result"
    }
   ],
   "source": [
    "# Thus x=2, y=1\n",
    "# Verify with sympy\n",
    "sp.solve([eq1, eq2])"
   ]
  },
  {
   "cell_type": "markdown",
   "metadata": {},
   "source": [
    "---\n",
    "\n",
    "### Exercises for Students\n",
    "\n",
    "Solve the following systems of equations similarly to the example above:\n",
    "\n",
    "* $3x-2y=5, \\quad 2x+3y=7$,\n",
    "* $2x-3y=10, \\quad 4x+5y=20$,\n",
    "* $2x - y + z = 3, \\quad x + 2y - z = 1, \\quad 3x - y + 2z = 11$.\n",
    "* $2x-3y+4z+2t=2, \\quad 3x+2y-5z+3t=3, \\quad 4x-3y+2z-5t=4, \\quad 5x+4y-3z+2t=5$."
   ]
  },
  {
   "metadata": {
    "ExecuteTime": {
     "end_time": "2024-11-14T22:35:46.434052Z",
     "start_time": "2024-11-14T22:35:46.220060Z"
    }
   },
   "cell_type": "code",
   "source": [
    "import numpy as np\n",
    "\n",
    "# Coefficients of the equations\n",
    "A1 = np.array([[3, -2], [2, 3]])\n",
    "# Constants on the right-hand side\n",
    "B1 = np.array([5, 7])\n",
    "\n",
    "# Solve for x and y\n",
    "solution1 = np.linalg.solve(A1, B1)\n",
    "print(\"Solution for Problem 1 (x, y):\", solution1)\n"
   ],
   "outputs": [
    {
     "name": "stdout",
     "output_type": "stream",
     "text": [
      "Solution for Problem 1 (x, y): [2.23076923 0.84615385]\n"
     ]
    }
   ],
   "execution_count": 2
  },
  {
   "metadata": {
    "ExecuteTime": {
     "end_time": "2024-11-14T22:35:52.743186Z",
     "start_time": "2024-11-14T22:35:52.737687Z"
    }
   },
   "cell_type": "code",
   "source": [
    "# Coefficients of the equations\n",
    "A2 = np.array([[2, -3], [4, 5]])\n",
    "# Constants on the right-hand side\n",
    "B2 = np.array([10, 20])\n",
    "\n",
    "# Solve for x and y\n",
    "solution2 = np.linalg.solve(A2, B2)\n",
    "print(\"Solution for Problem 2 (x, y):\", solution2)\n"
   ],
   "outputs": [
    {
     "name": "stdout",
     "output_type": "stream",
     "text": [
      "Solution for Problem 2 (x, y): [ 5. -0.]\n"
     ]
    }
   ],
   "execution_count": 4
  },
  {
   "metadata": {
    "ExecuteTime": {
     "end_time": "2024-11-14T22:35:50.519531Z",
     "start_time": "2024-11-14T22:35:50.513833Z"
    }
   },
   "cell_type": "code",
   "source": [
    "# Coefficients of the equations\n",
    "A3 = np.array([[2, -1, 1], [1, 2, -1], [3, -1, 2]])\n",
    "# Constants on the right-hand side\n",
    "B3 = np.array([3, 1, 11])\n",
    "\n",
    "# Solve for x, y, z\n",
    "solution3 = np.linalg.solve(A3, B3)\n",
    "print(\"Solution for Problem 3 (x, y, z):\", solution3)"
   ],
   "outputs": [
    {
     "name": "stdout",
     "output_type": "stream",
     "text": [
      "Solution for Problem 3 (x, y, z): [-0.25  4.75  8.25]\n"
     ]
    }
   ],
   "execution_count": 3
  },
  {
   "metadata": {
    "ExecuteTime": {
     "end_time": "2024-11-14T22:35:56.918891Z",
     "start_time": "2024-11-14T22:35:56.912581Z"
    }
   },
   "cell_type": "code",
   "source": [
    "# Coefficients of the equations\n",
    "A4 = np.array([\n",
    "    [2, -3, 4, 2],\n",
    "    [3, 2, -5, 3],\n",
    "    [4, -3, 2, -5],\n",
    "    [5, 4, -3, -1]\n",
    "])\n",
    "# Constants on the right-hand side\n",
    "B4 = np.array([2, 3, 4, 5])\n",
    "\n",
    "# Solve for x, y, z, t\n",
    "solution4 = np.linalg.solve(A4, B4)\n",
    "print(\"Solution for Problem 4 (x, y, z, t):\", solution4)\n"
   ],
   "outputs": [
    {
     "name": "stdout",
     "output_type": "stream",
     "text": [
      "Solution for Problem 4 (x, y, z, t): [ 1.00000000e+00  8.68870193e-17  9.17140759e-17 -3.21803775e-17]\n"
     ]
    }
   ],
   "execution_count": 5
  }
 ],
 "metadata": {
  "kernelspec": {
   "display_name": "Python 3",
   "language": "python",
   "name": "python3"
  },
  "language_info": {
   "codemirror_mode": {
    "name": "ipython",
    "version": 3
   },
   "file_extension": ".py",
   "mimetype": "text/x-python",
   "name": "python",
   "nbconvert_exporter": "python",
   "pygments_lexer": "ipython3",
   "version": "3.11.9"
  }
 },
 "nbformat": 4,
 "nbformat_minor": 4
}
