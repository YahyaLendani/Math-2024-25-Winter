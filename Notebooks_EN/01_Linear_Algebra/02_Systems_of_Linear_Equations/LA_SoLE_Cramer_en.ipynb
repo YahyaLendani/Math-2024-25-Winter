{
 "cells": [
  {
   "cell_type": "markdown",
   "metadata": {
    "id": "anD7c1WkPt-X"
   },
   "source": [
    "# Cramer's Rule - Examples for 2x2, 3x3, and 4x4 Systems\n",
    "\n",
    "Cramer's rule is used only when the number of equations is equal to the number of unknowns. In other words, the coefficient matrix must be a square matrix.\n",
    "\n",
    "**These formulas are used only** when the **determinant** of the coefficient matrix is **non-zero**. Otherwise, the system of equations is either inconsistent or indeterminate.\n",
    "\n",
    "## 2x2 System of Equations\n",
    "\n",
    "Consider a system of two equations with two unknowns:\n",
    "\n",
    "$$\n",
    "\\begin{cases}\n",
    "a_{11}x_1 + a_{12}x_2 = b_1 \\\\\n",
    "a_{21}x_1 + a_{22}x_2 = b_2\n",
    "\\end{cases}\n",
    "$$\n",
    "\n",
    "Cramer's rule for the unknowns $ x_1 $ and $ x_2 $ is as follows:\n",
    "\n",
    "$$\n",
    "x_1 = \\frac{\\det(A_1)}{\\det(A)} \\quad \\text{and} \\quad x_2 = \\frac{\\det(A_2)}{\\det(A)}\n",
    "$$\n",
    "\n",
    "Where:\n",
    "\n",
    "$$\n",
    "\\det(A) =\n",
    "\\begin{vmatrix}\n",
    "a_{11} & a_{12} \\\\\n",
    "a_{21} & a_{22}\n",
    "\\end{vmatrix}\n",
    "= a_{11}a_{22} - a_{12}a_{21}\n",
    "$$\n",
    "\n",
    "$$\n",
    "\\det(A_1) =\n",
    "\\begin{vmatrix}\n",
    "b_1 & a_{12} \\\\\n",
    "b_2 & a_{22}\n",
    "\\end{vmatrix}\n",
    "= b_1a_{22} - a_{12}b_2\n",
    "$$\n",
    "\n",
    "$$\n",
    "\\det(A_2) =\n",
    "\\begin{vmatrix}\n",
    "a_{11} & b_1 \\\\\n",
    "a_{21} & b_2\n",
    "\\end{vmatrix}\n",
    "= a_{11}b_2 - b_1a_{21}\n",
    "$$\n",
    "\n",
    "## 3x3 System of Equations\n",
    "\n",
    "Consider a system of three equations with three unknowns:\n",
    "\n",
    "$$\n",
    "\\begin{cases}\n",
    "a_{11}x_1 + a_{12}x_2 + a_{13}x_3 = b_1 \\\\\n",
    "a_{21}x_1 + a_{22}x_2 + a_{23}x_3 = b_2 \\\\\n",
    "a_{31}x_1 + a_{32}x_2 + a_{33}x_3 = b_3\n",
    "\\end{cases}\n",
    "$$\n",
    "\n",
    "Cramer's rule for $ x_1 $, $ x_2 $, and $ x_3 $:\n",
    "\n",
    "$$\n",
    "x_1 = \\frac{\\det(A_1)}{\\det(A)} \\quad x_2 = \\frac{\\det(A_2)}{\\det(A)} \\quad x_3 = \\frac{\\det(A_3)}{\\det(A)}\n",
    "$$\n",
    "\n",
    "Where:\n",
    "\n",
    "$$\n",
    "\\det(A) =\n",
    "\\begin{vmatrix}\n",
    "a_{11} & a_{12} & a_{13} \\\\\n",
    "a_{21} & a_{22} & a_{23} \\\\\n",
    "a_{31} & a_{32} & a_{33}\n",
    "\\end{vmatrix}\n",
    "$$\n",
    "\n",
    "$$\n",
    "\\det(A_1) =\n",
    "\\begin{vmatrix}\n",
    "b_1 & a_{12} & a_{13} \\\\\n",
    "b_2 & a_{22} & a_{23} \\\\\n",
    "b_3 & a_{32} & a_{33}\n",
    "\\end{vmatrix}\n",
    "$$\n",
    "\n",
    "$$\n",
    "\\det(A_2) =\n",
    "\\begin{vmatrix}\n",
    "a_{11} & b_1 & a_{13} \\\\\n",
    "a_{21} & b_2 & a_{23} \\\\\n",
    "a_{31} & b_3 & a_{33}\n",
    "\\end{vmatrix}\n",
    "$$\n",
    "\n",
    "$$\n",
    "\\det(A_3) =\n",
    "\\begin{vmatrix}\n",
    "a_{11} & a_{12} & b_1 \\\\\n",
    "a_{21} & a_{22} & b_2 \\\\\n",
    "a_{31} & a_{32} & b_3\n",
    "\\end{vmatrix}\n",
    "$$\n",
    "\n",
    "## 4x4 System of Equations\n",
    "\n",
    "Consider a system of four equations with four unknowns:\n",
    "\n",
    "$$\n",
    "\\begin{cases}\n",
    "a_{11}x_1 + a_{12}x_2 + a_{13}x_3 + a_{14}x_4 = b_1 \\\\\n",
    "a_{21}x_1 + a_{22}x_2 + a_{23}x_3 + a_{24}x_4 = b_2 \\\\\n",
    "a_{31}x_1 + a_{32}x_2 + a_{33}x_3 + a_{34}x_4 = b_3 \\\\\n",
    "a_{41}x_1 + a_{42}x_2 + a_{43}x_3 + a_{44}x_4 = b_4\n",
    "\\end{cases}\n",
    "$$\n",
    "\n",
    "Cramer's rule for $ x_1 $, $ x_2 $, $ x_3 $, and $ x_4 $:\n",
    "\n",
    "$$\n",
    "x_1 = \\frac{\\det(A_1)}{\\det(A)} \\quad x_2 = \\frac{\\det(A_2)}{\\det(A)} \\quad x_3 = \\frac{\\det(A_3)}{\\det(A)} \\quad x_4 = \\frac{\\det(A_4)}{\\det(A)}\n",
    "$$\n",
    "\n",
    "Where:\n",
    "\n",
    "$$\n",
    "\\det(A) =\n",
    "\\begin{vmatrix}\n",
    "a_{11} & a_{12} & a_{13} & a_{14} \\\\\n",
    "a_{21} & a_{22} & a_{23} & a_{24} \\\\\n",
    "a_{31} & a_{32} & a_{33} & a_{34} \\\\\n",
    "a_{41} & a_{42} & a_{43} & a_{44}\n",
    "\\end{vmatrix}\n",
    "$$\n",
    "\n",
    "$$\n",
    "\\det(A_1) =\n",
    "\\begin{vmatrix}\n",
    "b_1 & a_{12} & a_{13} & a_{14} \\\\\n",
    "b_2 & a_{22} & a_{23} & a_{24} \\\\\n",
    "b_3 & a_{32} & a_{33} & a_{34} \\\\\n",
    "b_4 & a_{42} & a_{43} & a_{44}\n",
    "\\end{vmatrix}\n",
    "$$\n",
    "\n",
    "$$\n",
    "\\det(A_2) =\n",
    "\\begin{vmatrix}\n",
    "a_{11} & b_1 & a_{13} & a_{14} \\\\\n",
    "a_{21} & b_2 & a_{23} & a_{24} \\\\\n",
    "a_{31} & b_3 & a_{33} & a_{34} \\\\\n",
    "a_{41} & b_4 & a_{43} & a_{44}\n",
    "\\end{vmatrix}\n",
    "$$\n",
    "\n",
    "$$\n",
    "\\det(A_3) =\n",
    "\\begin{vmatrix}\n",
    "a_{11} & a_{12} & b_1 & a_{14} \\\\\n",
    "a_{21} & a_{22} & b_2 & a_{24} \\\\\n",
    "a_{31} & a_{32} & b_3 & a_{34} \\\\\n",
    "a_{41} & a_{42} & b_4 & a_{44}\n",
    "\\end{vmatrix}\n",
    "$$\n",
    "\n",
    "$$\n",
    "\\det(A_4) =\n",
    "\\begin{vmatrix}\n",
    "a_{11} & a_{12} & a_{13} & b_1 \\\\\n",
    "a_{21} & a_{22} & a_{23} & b_2 \\\\\n",
    "a_{31} & a_{32} & a_{33} & b_3 \\\\\n",
    "a_{41} & a_{42} & a_{43} & b_4\n",
    "\\end{vmatrix}\n",
    "$$\n",
    "\n",
    "## Example"
   ]
  },
  {
   "cell_type": "code",
   "execution_count": null,
   "metadata": {
    "id": "OzmVHyz-Pt-a"
   },
   "outputs": [],
   "source": [
    "import sympy as sp\n",
    "\n",
    "# Define symbols\n",
    "x, y, z = sp.symbols('x y z')\n",
    "\n",
    "# Define the system of equations\n",
    "eq1 = sp.Eq(2*x + 3*y + z, 1)\n",
    "eq2 = sp.Eq(3*x + 2*y + 2*z, 2)\n",
    "eq3 = sp.Eq(x + y + z, 3)\n",
    "\n",
    "# Coefficient matrix of the system\n",
    "A = sp.Matrix([[2, 3, 1], [3, 2, 2], [1, 1, 1]])\n",
    "# Free terms vector\n",
    "b = sp.Matrix([1, 2, 3])"
   ]
  },
  {
   "cell_type": "code",
   "execution_count": null,
   "metadata": {
    "id": "O0XIQQ3oPt-c",
    "outputId": "0f850d86-b9f4-4693-fad5-6396f04c13ba"
   },
   "outputs": [
    {
     "data": {
      "text/latex": [
       "$\\displaystyle \\left[\\begin{matrix}2 & 3 & 1\\\\3 & 2 & 2\\\\1 & 1 & 1\\end{matrix}\\right]$"
      ],
      "text/plain": [
       "Matrix([\n",
       "[2, 3, 1],\n",
       "[3, 2, 2],\n",
       "[1, 1, 1]])"
      ]
     },
     "execution_count": 2,
     "metadata": {},
     "output_type": "execute_result"
    }
   ],
   "source": [
    "A"
   ]
  },
  {
   "cell_type": "code",
   "execution_count": null,
   "metadata": {
    "id": "ld7DeIDOPt-e",
    "outputId": "8b03b425-6ede-41a5-fa5b-8eba0f86c23f"
   },
   "outputs": [
    {
     "data": {
      "text/latex": [
       "$\\displaystyle \\left[\\begin{matrix}1\\\\2\\\\3\\end{matrix}\\right]$"
      ],
      "text/plain": [
       "Matrix([\n",
       "[1],\n",
       "[2],\n",
       "[3]])"
      ]
     },
     "execution_count": 3,
     "metadata": {},
     "output_type": "execute_result"
    }
   ],
   "source": [
    "b"
   ]
  },
  {
   "cell_type": "code",
   "execution_count": null,
   "metadata": {
    "id": "VicLsu8WPt-f",
    "outputId": "5f011997-92a5-4114-f475-b7ae11336a3f"
   },
   "outputs": [
    {
     "data": {
      "text/latex": [
       "$\\displaystyle \\left[\\begin{matrix}1 & 3 & 1\\\\2 & 2 & 2\\\\3 & 1 & 1\\end{matrix}\\right]$"
      ],
      "text/plain": [
       "Matrix([\n",
       "[1, 3, 1],\n",
       "[2, 2, 2],\n",
       "[3, 1, 1]])"
      ]
     },
     "execution_count": 4,
     "metadata": {},
     "output_type": "execute_result"
    }
   ],
   "source": [
    "# Define matrix A_1\n",
    "A_1 = A.copy() # Copy matrix A\n",
    "A_1[:, 0] = b # Replace the first column of A with vector b\n",
    "A_1 # Check if the replacement was successful"
   ]
  },
  {
   "cell_type": "code",
   "execution_count": null,
   "metadata": {
    "id": "QWTaLd90Pt-g",
    "outputId": "d1215984-2c17-4cd6-a3fb-9f170e0fc2bd"
   },
   "outputs": [
    {
     "data": {
      "text/latex": [
       "$\\displaystyle -4$"
      ],
      "text/plain": [
       "-4"
      ]
     },
     "execution_count": 5,
     "metadata": {},
     "output_type": "execute_result"
    }
   ],
   "source": [
    "det_A_1 = A_1.det() # Calculate determinant of A_1\n",
    "sol_x = det_A_1 / A.det() # Calculate x_1\n",
    "sol_x # Calculated value of x_1"
   ]
  },
  {
   "cell_type": "code",
   "execution_count": null,
   "metadata": {
    "id": "06HxAPU_Pt-g",
    "outputId": "662df0ad-d971-4fb9-a786-7242feff3449"
   },
   "outputs": [
    {
     "data": {
      "text/latex": [
       "$\\displaystyle \\left[\\begin{matrix}2 & 1 & 1\\\\3 & 2 & 2\\\\1 & 3 & 1\\end{matrix}\\right]$"
      ],
      "text/plain": [
       "Matrix([\n",
       "[2, 1, 1],\n",
       "[3, 2, 2],\n",
       "[1, 3, 1]])"
      ]
     },
     "execution_count": 6,
     "metadata": {},
     "output_type": "execute_result"
    }
   ],
   "source": [
    "# Similarly for y\n",
    "A_2 = A.copy()\n",
    "A_2[:, 1] = b\n",
    "A_2 # Check if the replacement was successful"
   ]
  },
  {
   "cell_type": "code",
   "execution_count": null,
   "metadata": {
    "id": "-hUMbYB1Pt-g",
    "outputId": "f3abc9d5-fe10-432d-a0ab-4947cda29808"
   },
   "outputs": [
    {
     "data": {
      "text/latex": [
       "$\\displaystyle 1$"
      ],
      "text/plain": [
       "1"
      ]
     },
     "execution_count": 7,
     "metadata": {},
     "output_type": "execute_result"
    }
   ],
   "source": [
    "det_A_2 = A_2.det()\n",
    "sol_y = det_A_2 / A.det()\n",
    "sol_y"
   ]
  },
  {
   "cell_type": "code",
   "execution_count": null,
   "metadata": {
    "id": "2X6C_A59Pt-g",
    "outputId": "5b895f9b-5ec1-4681-969c-5141ba95182c"
   },
   "outputs": [
    {
     "data": {
      "text/latex": [
       "$\\displaystyle 6$"
      ],
      "text/plain": [
       "6"
      ]
     },
     "execution_count": 8,
     "metadata": {},
     "output_type": "execute_result"
    }
   ],
   "source": [
    "# Finally for z\n",
    "A_3 = A.copy()\n",
    "A_3[:, 2] = b\n",
    "det_A_3 = A_3.det()\n",
    "sol_z = det_A_3 / A.det()\n",
    "sol_z"
   ]
  },
  {
   "cell_type": "code",
   "execution_count": null,
   "metadata": {
    "id": "qK1HLsAsPt-h",
    "outputId": "edb3944b-41bc-45ab-a2df-cc5dbee2199e"
   },
   "outputs": [
    {
     "data": {
      "text/plain": [
       "{x: -4, y: 1, z: 6}"
      ]
     },
     "execution_count": 9,
     "metadata": {},
     "output_type": "execute_result"
    }
   ],
   "source": [
    "# Solve the system of equations\n",
    "sp.solve((eq1, eq2, eq3), (x, y, z))"
   ]
  },
  {
   "cell_type": "markdown",
   "metadata": {
    "id": "TC6EM9dpPt-h"
   },
   "source": [
    "---\n",
    "\n",
    "## Exercises for Students\n",
    "\n",
    "1. Solve the system of equations:\n",
    "   $$\n",
    "   \\begin{cases}\n",
    "   2x_1 - 3x_2 = 7 \\\\\n",
    "   3x_1 + 5x_2 = 2\n",
    "   \\end{cases}\n",
    "   $$\n",
    "\n",
    "2. Solve the system of equations:\n",
    "   $$\n",
    "   \\begin{cases}\n",
    "   2x + y - z = 1 \\\\\n",
    "   x - y + 2z = 4 \\\\\n",
    "   3x - 2z = -1\n",
    "   \\end{cases}\n",
    "   $$\n",
    "\n",
    "3. Solve the system of equations:\n",
    "   $$\n",
    "   \\begin{cases}\n",
    "   x + y + z - t = 2 \\\\\n",
    "   x - z + 2t = 6 \\\\\n",
    "   2x - 3y + t = 4 \\\\\n",
    "   3x + y + 3z - 4t = -2\n",
    "   \\end{cases}\n",
    "   $$\n",
    "\n",
    "4. Why can't the following system of equations be solved using Cramer's rule?\n",
    "$$\n",
    "\\begin{cases}\n",
    "x_1 + 2x_2 + 3x_3 = 3 \\\\\n",
    "4x_1 + 5x_2 + 6x_3 = 2 \\\\\n",
    "7x_1 + 8x_2 + 9x_3 = 1\n",
    "\\end{cases}\n",
    "$$"
   ]
  },
  {
   "cell_type": "markdown",
   "source": [
    "# **Solutions to the Systems of Equations**\n",
    "\n",
    "---\n",
    "\n",
    "## **1. Solve the system of equations:**\n",
    "\n",
    "$$\n",
    "\\begin{cases}\n",
    "2x_1 - 3x_2 = 7 \\\\\n",
    "3x_1 + 5x_2 = 2\n",
    "\\end{cases}\n",
    "$$\n",
    "\n",
    "This is a **2x2 system** of linear equations. We can solve this using **Cramer's Rule**, which is particularly useful for small systems like this one.\n",
    "\n",
    "### **Step 1: Express the system in matrix form**\n",
    "\n",
    "The system can be written as:\n",
    "$$\n",
    "A \\cdot \\mathbf{x} = \\mathbf{b}\n",
    "$$\n",
    "where:\n",
    "- $ A = \\begin{bmatrix} 2 & -3 \\\\ 3 & 5 \\end{bmatrix} $ is the coefficient matrix,\n",
    "- $ \\mathbf{x} = \\begin{bmatrix} x_1 \\\\ x_2 \\end{bmatrix} $ is the vector of unknowns, and\n",
    "- $ \\mathbf{b} = \\begin{bmatrix} 7 \\\\ 2 \\end{bmatrix} $ is the constant vector.\n",
    "\n",
    "### **Step 2: Calculate the determinant of the coefficient matrix $ A $**\n",
    "\n",
    "The determinant of matrix $ A $ is:\n",
    "$$\n",
    "\\text{det}(A) = 2(5) - (-3)(3) = 10 + 9 = 19\n",
    "$$\n",
    "Since the determinant is non-zero, the system has a unique solution.\n",
    "\n",
    "### **Step 3: Find $ x_1 $ and $ x_2 $ using Cramer's Rule**\n",
    "\n",
    "#### **For $ x_1 $:**\n",
    "Replace the first column of $ A $ with $ \\mathbf{b} $:\n",
    "$$\n",
    "A_1 = \\begin{bmatrix} 7 & -3 \\\\ 2 & 5 \\end{bmatrix}\n",
    "$$\n",
    "Calculate the determinant of $ A_1 $:\n",
    "$$\n",
    "\\text{det}(A_1) = 7(5) - (-3)(2) = 35 + 6 = 41\n",
    "$$\n",
    "Now, using Cramer's Rule:\n",
    "$$\n",
    "x_1 = \\frac{\\text{det}(A_1)}{\\text{det}(A)} = \\frac{41}{19}\n",
    "$$\n",
    "\n",
    "#### **For $ x_2 $:**\n",
    "Replace the second column of $ A $ with $ \\mathbf{b} $:\n",
    "$$\n",
    "A_2 = \\begin{bmatrix} 2 & 7 \\\\ 3 & 2 \\end{bmatrix}\n",
    "$$\n",
    "Calculate the determinant of $ A_2 $:\n",
    "$$\n",
    "\\text{det}(A_2) = 2(2) - 7(3) = 4 - 21 = -17\n",
    "$$\n",
    "Now, using Cramer's Rule:\n",
    "$$\n",
    "x_2 = \\frac{\\text{det}(A_2)}{\\text{det}(A)} = \\frac{-17}{19}\n",
    "$$\n",
    "\n",
    "### **Final Solution:**\n",
    "$$\n",
    "x_1 = \\frac{41}{19}, \\quad x_2 = \\frac{-17}{19}\n",
    "$$\n",
    "\n",
    "---\n",
    "\n",
    "## **2. Solve the system of equations:**\n",
    "\n",
    "$$\n",
    "\\begin{cases}\n",
    "2x + y - z = 1 \\\\\n",
    "x - y + 2z = 4 \\\\\n",
    "3x - 2z = -1\n",
    "\\end{cases}\n",
    "$$\n",
    "\n",
    "This is a **3x3 system** of equations. We'll use **Gaussian elimination** to solve this.\n",
    "\n",
    "### **Step 1: Write the system in augmented matrix form**\n",
    "\n",
    "$$\n",
    "\\begin{bmatrix}\n",
    "2 & 1 & -1 & | & 1 \\\\\n",
    "1 & -1 & 2 & | & 4 \\\\\n",
    "3 & 0 & -2 & | & -1\n",
    "\\end{bmatrix}\n",
    "$$\n",
    "\n",
    "### **Step 2: Perform row operations to transform the matrix into row echelon form**\n",
    "\n",
    "- Start by swapping row 1 and row 2 to make the leading coefficient of the first column 1:\n",
    "$$\n",
    "\\begin{bmatrix}\n",
    "1 & -1 & 2 & | & 4 \\\\\n",
    "2 & 1 & -1 & | & 1 \\\\\n",
    "3 & 0 & -2 & | & -1\n",
    "\\end{bmatrix}\n",
    "$$\n",
    "\n",
    "- Now eliminate the first column below the leading 1:\n",
    "  - Row 2 becomes: $ R_2 - 2R_1 $\n",
    "  - Row 3 becomes: $ R_3 - 3R_1 $\n",
    "$$\n",
    "\\begin{bmatrix}\n",
    "1 & -1 & 2 & | & 4 \\\\\n",
    "0 & 3 & -5 & | & -7 \\\\\n",
    "0 & 3 & -8 & | & -13\n",
    "\\end{bmatrix}\n",
    "$$\n",
    "\n",
    "### **Step 3: Continue the row reduction**\n",
    "\n",
    "- Subtract row 2 from row 3:\n",
    "$$\n",
    "R_3 - R_2 \\Rightarrow\n",
    "\\begin{bmatrix}\n",
    "1 & -1 & 2 & | & 4 \\\\\n",
    "0 & 3 & -5 & | & -7 \\\\\n",
    "0 & 0 & -3 & | & -6\n",
    "\\end{bmatrix}\n",
    "$$\n",
    "\n",
    "### **Step 4: Back substitution**\n",
    "\n",
    "- From row 3, solve for $ z $:\n",
    "$$\n",
    "-3z = -6 \\Rightarrow z = 2\n",
    "$$\n",
    "\n",
    "- From row 2, substitute $ z = 2 $:\n",
    "$$\n",
    "3y - 5(2) = -7 \\Rightarrow 3y - 10 = -7 \\Rightarrow 3y = 3 \\Rightarrow y = 1\n",
    "$$\n",
    "\n",
    "- From row 1, substitute $ y = 1 $ and $ z = 2 $:\n",
    "$$\n",
    "x - 1 + 2 = 4 \\Rightarrow x = 3\n",
    "$$\n",
    "\n",
    "### **Final Solution:**\n",
    "$$\n",
    "x = 3, \\quad y = 1, \\quad z = 2\n",
    "$$\n",
    "\n",
    "---\n",
    "\n",
    "## **3. Solve the system of equations:**\n",
    "\n",
    "$$\n",
    "\\begin{cases}\n",
    "x + y + z - t = 2 \\\\\n",
    "x - z + 2t = 6 \\\\\n",
    "2x - 3y + t = 4 \\\\\n",
    "3x + y + 3z - 4t = -2\n",
    "\\end{cases}\n",
    "$$\n",
    "\n",
    "This system involves **four unknowns**, and we will solve it using **Gaussian elimination** again.\n",
    "\n",
    "### **Step 1: Write the system in augmented matrix form**\n",
    "\n",
    "$$\n",
    "\\begin{bmatrix}\n",
    "1 & 1 & 1 & -1 & | & 2 \\\\\n",
    "1 & 0 & -1 & 2 & | & 6 \\\\\n",
    "2 & -3 & 0 & 1 & | & 4 \\\\\n",
    "3 & 1 & 3 & -4 & | & -2\n",
    "\\end{bmatrix}\n",
    "$$\n",
    "\n",
    "### **Step 2: Apply Gaussian elimination**\n",
    "\n",
    "- Eliminate the first column below the leading 1:\n",
    "  - Row 2 becomes: $ R_2 - R_1 $\n",
    "  - Row 3 becomes: $ R_3 - 2R_1 $\n",
    "  - Row 4 becomes: $ R_4 - 3R_1 $\n",
    "$$\n",
    "\\begin{bmatrix}\n",
    "1 & 1 & 1 & -1 & | & 2 \\\\\n",
    "0 & -1 & -2 & 3 & | & 4 \\\\\n",
    "0 & -5 & -2 & 3 & | & 0 \\\\\n",
    "0 & -2 & 0 & -1 & | & -8\n",
    "\\end{bmatrix}\n",
    "$$\n",
    "\n",
    "### **Step 3: Continue row reduction**\n",
    "\n",
    "- Normalize row 2 by multiplying by $ -1 $:\n",
    "$$\n",
    "\\begin{bmatrix}\n",
    "1 & 1 & 1 & -1 & | & 2 \\\\\n",
    "0 & 1 & 2 & -3 & | & -4 \\\\\n",
    "0 & -5 & -2 & 3 & | & 0 \\\\\n",
    "0 & -2 & 0 & -1 & | & -8\n",
    "\\end{bmatrix}\n",
    "$$\n",
    "\n",
    "- Eliminate the second column:\n",
    "  - Row 3 becomes: $ R_3 + 5R_2 $\n",
    "  - Row 4 becomes: $ R_4 + 2R_2 $\n",
    "$$\n",
    "\\begin{bmatrix}\n",
    "1 & 1 & 1 & -1 & | & 2 \\\\\n",
    "0 & 1 & 2 & -3 & | & -4 \\\\\n",
    "0 & 0 & 8 & -12 & | & -20 \\\\\n",
    "0 & 0 & 4 & -7 & | & -16\n",
    "\\end{bmatrix}\n",
    "$$\n",
    "\n",
    "### **Step 4: Back substitution**\n",
    "\n",
    "- From row 3, solve for $ z $:\n",
    "$$\n",
    "8z - 12t = -20 \\Rightarrow z = 2, \\quad t = 3\n",
    "$$\n",
    "\n",
    "- From row 2, solve for $ y $:\n",
    "$$\n",
    "y + 2(2) - 3(3) = -4 \\Rightarrow y = -4\n",
    "$$\n",
    "\n",
    "- From row 1, solve for $ x $:\n",
    "$$\n",
    "x + (-4) + 2 - 3 = 2 \\Rightarrow x = 7\n",
    "$$\n",
    "\n",
    "### **Final Solution:**\n",
    "$$\n",
    "x = 7, \\quad y = -4, \\quad z = 2, \\quad t = 3\n",
    "$$\n",
    "\n",
    "---\n",
    "\n",
    "## **4. Why can't the following system of equations be solved using Cramer's rule?**\n",
    "\n",
    "$$\n",
    "\\begin{cases}\n",
    "x_1 + 2x_2 + 3x_3 = 3 \\\\\n",
    "4x_1 + 5x_2 + 6x_3 = 2 \\\\\n",
    "7x_1 + 8x_2 + 9x_3 = 1\n",
    "\\end{cases}\n",
    "$$\n",
    "\n",
    "### **Reason:**\n",
    "Cramer's Rule requires that the determinant of the coefficient matrix be non-zero. Let's calculate the determinant of the coefficient matrix $ A $:\n",
    "\n",
    "$$\n",
    "A = \\begin{bmatrix}\n",
    "1 & 2 & 3 \\\\\n",
    "4 & 5 & 6 \\\\\n",
    "7 & 8 & 9\n",
    "\\end{bmatrix}\n",
    "$$\n",
    "\n",
    "The determinant of $ A $ is:\n",
    "\n",
    "$$\n",
    "\\text{det}(A) = 1(5 \\times 9 - 6 \\times 8) - 2(4 \\times 9 - 6 \\times 7) + 3(4 \\times 8 - 5 \\times 7)\n",
    "$$\n",
    "$$\n",
    "\\text{det}(A) = 1(45 - 48) - 2(36 - 42) + 3(32 - 35)\n",
    "$$\n",
    "$$\n",
    "\\text{det}(A) = 1(-3) - 2(-6) + 3(-3) = -3 + 12 - 9 = 0\n",
    "$$\n",
    "\n",
    "Since the determinant is **zero**, this system cannot be solved using Cramer's Rule. The system has either no solution or infinitely many solutions.\n",
    "\n",
    "---\n",
    "\n",
    "### **Conclusion**\n",
    "\n",
    "1. The first system is solved using Cramer's Rule, yielding $ x_1 = \\frac{41}{19} $ and $ x_2 = \\frac{-17}{19} $.\n",
    "2. The second system is solved using Gaussian elimination, yielding $ x = 3, y = 1, z = 2 $.\n",
    "3. The third system is also solved using Gaussian elimination, yielding $ x = 7, y = -4, z = 2, t = 3 $.\n",
    "4. The fourth system cannot be solved using Cramer's Rule because the determinant of the coefficient matrix is zero.\n"
   ],
   "metadata": {
    "id": "XdU_CqxUh9MO"
   }
  },
  {
   "cell_type": "code",
   "source": [
    "import sympy as sp\n",
    "\n",
    "# Define symbols\n",
    "x, y = sp.symbols('x, y')\n",
    "\n",
    "# Define the coefficient matrix A\n",
    "A = sp.Matrix([[2, -3], [3, 5]])\n",
    "\n",
    "# Define the constant matrix C\n",
    "C = sp.Matrix([7, 2])\n",
    "\n",
    "# Calculate the determinant of A\n",
    "det_A = A.det()\n",
    "\n",
    "# Calculate the inverse of A\n",
    "A_inv = A.inv()\n",
    "\n",
    "# Calculate X\n",
    "X = A_inv * C\n",
    "\n",
    "# Print the solution\n",
    "print(\"Solution:\")\n",
    "print(\"x =\", X[0])\n",
    "print(\"y =\", X[1])\n",
    "\n",
    "# Define the matrix X_matrix\n",
    "X_matrix = sp.Matrix([[5/19, 3/19], [-3/19, 2/19]])\n",
    "\n",
    "# Define the vector\n",
    "vector = sp.Matrix([7, 2])\n",
    "\n",
    "# Calculate the result\n",
    "result = X_matrix * vector\n",
    "\n",
    "# Extract x and y\n",
    "x = result[0]\n",
    "y = result[1]\n",
    "\n",
    "# Print the values\n",
    "print(\"x =\", x)\n",
    "print(\"y =\", y)"
   ],
   "metadata": {
    "id": "EesoSx-tXLEf",
    "outputId": "6dbdf72a-ade6-4a24-9510-72ab24f0e28b",
    "colab": {
     "base_uri": "https://localhost:8080/"
    }
   },
   "execution_count": 1,
   "outputs": [
    {
     "output_type": "stream",
     "name": "stdout",
     "text": [
      "Solution:\n",
      "x = 41/19\n",
      "y = -17/19\n",
      "x = 2.15789473684211\n",
      "y = -0.894736842105263\n"
     ]
    }
   ]
  },
  {
   "cell_type": "code",
   "source": [
    "import sympy as sp\n",
    "\n",
    "# Define symbols\n",
    "x, y, z = sp.symbols('x, y, z')\n",
    "\n",
    "# Define the coefficient matrix A\n",
    "A = sp.Matrix([[2, 1, -1],\n",
    "              [1, -1, 2],\n",
    "              [3, 0, -2]])\n",
    "\n",
    "# Define the constant vector b\n",
    "b = sp.Matrix([1, 4, -1])\n",
    "\n",
    "# Solve for x, y, z using sympy.solve\n",
    "solution = sp.solve(A * sp.Matrix([x, y, z]) - b, [x, y, z])\n",
    "\n",
    "# Print the solution\n",
    "print(\"x =\", solution[x])\n",
    "print(\"y =\", solution[y])\n",
    "print(\"z =\", solution[z])"
   ],
   "metadata": {
    "id": "LwttwCCYjZJ2",
    "outputId": "638013f0-bc09-4b7f-9a07-5e04153d78b5",
    "colab": {
     "base_uri": "https://localhost:8080/"
    }
   },
   "execution_count": 2,
   "outputs": [
    {
     "output_type": "stream",
     "name": "stdout",
     "text": [
      "x = 1\n",
      "y = 1\n",
      "z = 2\n"
     ]
    }
   ]
  },
  {
   "cell_type": "code",
   "source": [
    "import numpy as np\n",
    "\n",
    "# Define the coefficient matrix\n",
    "A = np.array([[1, 2, 3],\n",
    "              [4, 5, 6],\n",
    "              [7, 8, 9]])\n",
    "\n",
    "# Calculate the determinant\n",
    "det_A = np.linalg.det(A)\n",
    "\n",
    "# Print the determinant\n",
    "print(\"Determinant of A:\", det_A)  # Output: 0.0"
   ],
   "metadata": {
    "id": "pD_bSpsf66eM",
    "outputId": "d467212b-838f-426f-898d-3551ee6ae8ce",
    "colab": {
     "base_uri": "https://localhost:8080/"
    }
   },
   "execution_count": null,
   "outputs": [
    {
     "output_type": "stream",
     "name": "stdout",
     "text": [
      "Determinant of A: 0.0\n"
     ]
    }
   ]
  }
 ],
 "metadata": {
  "kernelspec": {
   "display_name": "Python 3",
   "language": "python",
   "name": "python3"
  },
  "language_info": {
   "codemirror_mode": {
    "name": "ipython",
    "version": 3
   },
   "file_extension": ".py",
   "mimetype": "text/x-python",
   "name": "python",
   "nbconvert_exporter": "python",
   "pygments_lexer": "ipython3",
   "version": "3.11.9"
  },
  "colab": {
   "provenance": [],
   "include_colab_link": true
  }
 },
 "nbformat": 4,
 "nbformat_minor": 0
}
