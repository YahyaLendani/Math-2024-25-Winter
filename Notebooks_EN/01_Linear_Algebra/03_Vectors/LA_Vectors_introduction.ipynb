{
 "cells": [
  {
   "cell_type": "markdown",
   "metadata": {
    "id": "IVXTcGe4DI7i"
   },
   "source": [
    "# Vectors - Introduction\n",
    "\n",
    "**Vectors** are quantities that have both magnitude and direction in space. They are used to describe various physical quantities such as velocity, force, or electric field intensity. Unlike scalars, which have only magnitude (e.g., mass, temperature), vectors require a direction to be specified.\n",
    "\n",
    "A vector is represented with an arrow above the symbol $\\vec{a}$ or in bold type $\\mathbf{a}$.\n",
    "- The magnitude of a vector can be written as $\\vec{a}|$ or $a$.\n",
    "- A vector of length 1 is called a unit vector and is denoted by $\\hat{\\mathbf{a}} = \\frac{\\vec{a}}{|\\vec{a}|}$.\n",
    "\n",
    "**Example:**\n",
    "\n",
    "The vector $\\mathbf{a}= [3, 4]$ has a magnitude $a = 5$, and the corresponding unit vector (unit vector along the direction of vector $\\mathbf{a}$) is expressed as $\\hat{\\mathbf{a}} = \\left[\\frac{3}{5}, \\frac{4}{5}\\right]$.\n"
   ]
  },
  {
   "cell_type": "code",
   "execution_count": null,
   "metadata": {
    "id": "WsMXgua-DI7l",
    "outputId": "c69ec54c-80a6-4c97-f3ae-5a70da3230ef",
    "colab": {
     "base_uri": "https://localhost:8080/",
     "height": 48
    }
   },
   "outputs": [
    {
     "output_type": "execute_result",
     "data": {
      "text/plain": [
       "sqrt(a_x**2 + a_y**2)"
      ],
      "text/latex": "$\\displaystyle \\sqrt{a_{x}^{2} + a_{y}^{2}}$"
     },
     "metadata": {},
     "execution_count": 1
    }
   ],
   "source": [
    "import sympy as sp  # import the sympy module\n",
    "\n",
    "# For vector $\\mathbf{a} = [a_x, a_y]$, the magnitude is given by the formula:\n",
    "# $$ |\\mathbf{a}| = a = \\sqrt{a_x^2 + a_y^2} $$\n",
    "\n",
    "a_x, a_y = sp.symbols('a_x a_y')  # Step 1: Define symbolic variables a_x and a_y\n",
    "magnitude_a = sp.sqrt(a_x**2 + a_y**2)  # Step 2: Create the formula for the magnitude of vector a\n",
    "magnitude_a  # Step 3: Display the result"
   ]
  },
  {
   "cell_type": "code",
   "execution_count": null,
   "metadata": {
    "id": "hLtiiz83DI7m",
    "outputId": "66186ee4-047a-455a-f5f2-f30b7aaecfea",
    "colab": {
     "base_uri": "https://localhost:8080/",
     "height": 37
    }
   },
   "outputs": [
    {
     "output_type": "execute_result",
     "data": {
      "text/plain": [
       "5.00000000000000"
      ],
      "text/latex": "$\\displaystyle 5.0$"
     },
     "metadata": {},
     "execution_count": 2
    }
   ],
   "source": [
    "# Assign values to a_x and a_y\n",
    "a_x = 3  # x component of the vector\n",
    "a_y = 4  # y component of the vector\n",
    "\n",
    "magnitude_a = sp.sqrt(a_x**2 + a_y**2)  # Calculate the magnitude of the vector for a_x = 3 and a_y = 4\n",
    "magnitude_a.evalf()  # Numerically calculate the magnitude of the vector (expected result: 5)"
   ]
  },
  {
   "cell_type": "markdown",
   "metadata": {
    "id": "D8zj0lAaDI7n"
   },
   "source": [
    "## Vector Addition\n",
    "\n",
    "Vector addition involves adding the corresponding components of vectors of the same length.\n",
    "\n",
    "For two vectors $\\mathbf{a}$ and $\\mathbf{b}$ in the space $\\mathbb{R}^n$, where:\n",
    "\n",
    "$$\n",
    "\\mathbf{a} = [a_1, a_2, \\dots, a_n], \\quad \\mathbf{b} = [b_1, b_2, \\dots, b_n]\n",
    "$$\n",
    "\n",
    "Vector addition is defined as follows:\n",
    "\n",
    "$$\n",
    "\\mathbf{a} + \\mathbf{b} = [a_1 + b_1, a_2 + b_2, \\dots, a_n + b_n]\n",
    "$$\n",
    "\n",
    "## Scalar Multiplication of a Vector\n",
    "\n",
    "Scalar multiplication of a vector involves multiplying each component of the vector by the same number.\n",
    "\n",
    "For a vector $\\mathbf{a}$ and a scalar $k$:\n",
    "\n",
    "$$\n",
    "k \\mathbf{a} = [k a_1, k a_2, \\dots, k a_n]\n",
    "$$\n",
    "\n",
    "## Vectors in the Plane and Space\n",
    "\n",
    "**Vectors in 2D:**\n",
    "\n",
    "If $\\mathbf{a} = [a_x, a_y]$, then the magnitude is given by the formula $|\\mathbf{a}| = a = \\sqrt{a_x^2 + a_y^2}$.\n",
    "\n",
    "**Vectors in 3D:**\n",
    "\n",
    "If $\\mathbf{a} = [a_x, a_y, a_z]$, then the magnitude of the vector is $|\\mathbf{a}| = a = \\sqrt{a_x^2 + a_y^2 + a_z^2}$.\n",
    "\n",
    "## Plotting a Vector"
   ]
  },
  {
   "cell_type": "code",
   "execution_count": null,
   "metadata": {
    "id": "G8sJZRo5DI7n",
    "outputId": "f4a76fb3-4840-413e-bcdb-7466baaaec92"
   },
   "outputs": [
    {
     "data": {
      "image/png": "[encoded data removed]",
      "text/plain": [
       "<Figure size 640x480 with 1 Axes>"
      ]
     },
     "metadata": {},
     "output_type": "display_data"
    }
   ],
   "source": [
    "import matplotlib.pyplot as plt # import the matplotlib.pyplot module\n",
    "\n",
    "plt.figure() # create a new figure\n",
    "plt.quiver(0, 0, 3, 4, angles='xy', scale_units='xy', scale=1, color='r') # quick way to plot a vector quiver(x_start, y_start, x_end, y_end)\n",
    "plt.xlim(0, 5) # set x-axis range\n",
    "plt.ylim(0, 5) # set y-axis range\n",
    "plt.grid(True) # enable grid\n",
    "plt.gca().set_aspect('equal') # set equal scaling on x and y axes\n",
    "plt.show()"
   ]
  },
  {
   "cell_type": "markdown",
   "metadata": {
    "id": "hdFjnTzbDI7n"
   },
   "source": [
    "## Example of Simple Vector Implementation in Python\n",
    "\n",
    "Given vectors $\\mathbf{a}=[1, 2]$ and $\\mathbf{b}=[3, 4]$, we want to calculate their sum $\\mathbf{c}=\\mathbf{a}+\\mathbf{b}= [1+3, 2+4] = [4, 6]$"
   ]
  },
  {
   "cell_type": "code",
   "execution_count": null,
   "metadata": {
    "id": "K4cigisnDI7n",
    "outputId": "d2940923-fc88-44e5-bccb-4b5bc723e33b"
   },
   "outputs": [
    {
     "data": {
      "text/plain": [
       "[4, 6]"
      ]
     },
     "execution_count": 5,
     "metadata": {},
     "output_type": "execute_result"
    }
   ],
   "source": [
    "import sympy as sp # import the sympy module\n",
    "\n",
    "a=[1, 2] # vector a\n",
    "b=[3, 4] # vector b\n",
    "c = [a[0] + b[0], a[1] + b[1]] # sum of vectors a and b\n",
    "c # display the result"
   ]
  },
  {
   "cell_type": "markdown",
   "metadata": {
    "id": "yb34c1PIDI7o"
   },
   "source": [
    "## Example of Better Vector Implementation in Python\n",
    "\n",
    "Vectors are represented as column matrices. Then vector addition is the same as matrix addition."
   ]
  },
  {
   "cell_type": "code",
   "execution_count": null,
   "metadata": {
    "id": "kEj5WbDIDI7o",
    "outputId": "edc0507a-39bc-4f7a-8389-4da9e02b9b3f",
    "colab": {
     "base_uri": "https://localhost:8080/",
     "height": 78
    }
   },
   "outputs": [
    {
     "output_type": "execute_result",
     "data": {
      "text/plain": [
       "Matrix([\n",
       "[12],\n",
       "[ 5],\n",
       "[18]])"
      ],
      "text/latex": "$\\displaystyle \\left[\\begin{matrix}12\\\\5\\\\18\\end{matrix}\\right]$"
     },
     "metadata": {},
     "execution_count": 3
    }
   ],
   "source": [
    "import sympy as sp\n",
    "\n",
    "# Vector definitions\n",
    "a = sp.Matrix([1, 2, 3])\n",
    "b = sp.Matrix([4, 5, 6])\n",
    "c = sp.Matrix([7, 0, 9])\n",
    "d = sp.Matrix([0, 2, 0])\n",
    "\n",
    "a + b + c - d # An operation involving addition and subtraction of vectors"
   ]
  },
  {
   "cell_type": "markdown",
   "metadata": {
    "id": "ety53FQkDI7o"
   },
   "source": [
    "## Plotting Vector Addition\n",
    "\n",
    "Example: $\\mathbf{a}=[2,1]$ and $\\mathbf{b}=[1,2]$ results in vector $\\mathbf{c}=\\mathbf{a}+\\mathbf{b}=[3,3]$."
   ]
  },
  {
   "cell_type": "code",
   "execution_count": null,
   "metadata": {
    "id": "W3cT_uM0DI7p",
    "outputId": "44b15183-c848-4915-8a3f-8c8f74595be2"
   },
   "outputs": [
    {
     "data": {
      "image/png": "[encoded data removed]",
      "text/plain": [
       "<Figure size 640x480 with 1 Axes>"
      ]
     },
     "metadata": {},
     "output_type": "display_data"
    }
   ],
   "source": [
    "import matplotlib.pyplot as plt # import the matplotlib.pyplot module #example of vector addition in two-dimensional space\n",
    "\n",
    "plt.figure() # create a new figure\n",
    "plt.quiver(0, 0, 2, 1, angles='xy', scale_units='xy', scale=1, color='r') # quick way to plot vectors quiver(x_start, y_start, x_end, y_end)\n",
    "plt.quiver(0, 0, 1, 2, angles='xy', scale_units='xy', scale=1, color='b') # quick way to plot vectors quiver(x_start, y_start, x_end, y_end)\n",
    "plt.quiver(0, 0, 3, 3, angles='xy', scale_units='xy', scale=1, color='g') # quick way to plot vectors quiver(x_start, y_start, x_end, y_end)\n",
    "plt.xlim(-1, 4) # set x-axis range\n",
    "plt.ylim(-1, 4) # set y-axis range\n",
    "plt.grid(True) # enable grid\n",
    "plt.gca().set_aspect('equal') # set equal scaling on x and y axes\n",
    "plt.show()"
   ]
  },
  {
   "cell_type": "markdown",
   "metadata": {
    "id": "dnzWhjJqDI7p"
   },
   "source": [
    "## Coordinate Systems in the Plane and Space\n",
    "\n",
    "**Cartesian Coordinate System** is the basic coordinate system in which points in space are specified by their distances from fixed axes: $x$, $y$ (for 2D) and $z$ (for 3D).\n",
    "\n",
    "- In 2D, each point can be written as $(x, y)$.\n",
    "- In 3D, points are of the form $(x, y, z)$.\n",
    "\n",
    "**Polar Coordinate System** is used in 2D and defines a point by its distance from the origin (r) and the angle (θ) relative to the reference axis.\n",
    "\n",
    "**Spherical Coordinate System** is used in 3D and defines a point by its distance from the origin (r), azimuth angle (θ), and elevation angle (φ).\n",
    "\n",
    "Vectors can be represented using components in the Cartesian coordinate system, where each component corresponds to the distance of the point from the respective coordinate axis.\n",
    "\n",
    "- For a vector in two-dimensional space: $\\mathbf{a} = [a_x, a_y] = a_x\\hat{\\mathbf{i}} + a_y\\hat{\\mathbf{j}}$\n",
    "- For a vector in three-dimensional space: $\\mathbf{a} = [a_x, a_y, a_z] = a_x\\hat{\\mathbf{i}} + a_y\\hat{\\mathbf{j}} + a_z\\hat{\\mathbf{k}}$\n",
    "\n",
    "## Basis\n",
    "\n",
    "**Basis** of vectors is a set of vectors that spans a vector space. In Cartesian space, the standard basis vectors are $\\hat{\\mathbf{i}}, \\hat{\\mathbf{j}}, \\hat{\\mathbf{k}}$.\n",
    "\n",
    "For 2D:\n",
    "\n",
    "$$\n",
    "\\hat{\\mathbf{i}} = [1, 0], \\quad \\hat{\\mathbf{j}} = [0, 1]\n",
    "$$\n",
    "\n",
    "For 3D:\n",
    "\n",
    "$$\n",
    "\\hat{\\mathbf{i}} = [1, 0, 0], \\quad \\hat{\\mathbf{j}} = [0, 1, 0], \\quad \\hat{\\mathbf{k}} = [0, 0, 1]\n",
    "$$\n",
    "\n",
    "These basis vectors are unit vectors and are perpendicular to each other.\n",
    "\n",
    "### Finding the Coordinates of a Vector in a New Basis\n",
    "\n",
    "To find the coordinates of vector $\\mathbf{v}$ in a new basis $\\{\\mathbf{b_1}, \\mathbf{b_2}, \\mathbf{b_3}\\}$, express $\\mathbf{v}$ as a linear combination of the basis vectors.\n",
    "\n",
    "$$\n",
    "\\mathbf{v} = c_1 \\mathbf{b_1} + c_2 \\mathbf{b_2} + c_3 \\mathbf{b_3}\n",
    "$$\n",
    "\n",
    "The coefficients $c_1, c_2, c_3$ are the coordinates of vector $\\mathbf{v}$ in the new basis.\n",
    "\n",
    "---\n",
    "\n",
    "## Student Exercises\n",
    "\n",
    "A. By what number should vector $\\mathbf{a} = [3, 4]$ be multiplied so that its length is equal to 1?\n",
    "\n",
    "B. Calculate the length of vector $\\mathbf{b} = [1, 1]$ and find the unit vector of this vector.\n",
    "\n",
    "C. Plot the vector and the unit vector from the previous exercise.\n",
    "\n",
    "D. Calculate the length of vector $\\mathbf{c} = [1, 2, 3]$ and find the unit vector of this vector.\n",
    "\n",
    "E. Find the Cartesian coordinates of vector $\\mathbf{v} = [2, 3, 4]$ in the basis $\\{\\mathbf{b_1} = [1, 0, 1], \\mathbf{b_2} = [0, 1, 0], \\mathbf{b_3} = [1, 0, -1]\\}$."
   ]
  },
  {
   "cell_type": "markdown",
   "source": [
    "# **Solutions to the Exercises**\n",
    "\n",
    "---\n",
    "\n",
    "## **A. By what number should vector $ \\mathbf{a} = [3, 4] $ be multiplied so that its length is equal to 1?**\n",
    "\n",
    "To make the length of the vector equal to 1, we need to normalize it. The length (or magnitude) of a vector $ \\mathbf{a} = [a_1, a_2] $ is given by the formula:\n",
    "\n",
    "$$\n",
    "\\text{Length of } \\mathbf{a} = ||\\mathbf{a}|| = \\sqrt{a_1^2 + a_2^2}\n",
    "$$\n",
    "\n",
    "For $ \\mathbf{a} = [3, 4] $, we have:\n",
    "\n",
    "$$\n",
    "||\\mathbf{a}|| = \\sqrt{3^2 + 4^2} = \\sqrt{9 + 16} = \\sqrt{25} = 5\n",
    "$$\n",
    "\n",
    "To normalize the vector so that its length is 1, we need to multiply it by a scalar $ k $ such that:\n",
    "\n",
    "$$\n",
    "k \\times ||\\mathbf{a}|| = 1\n",
    "$$\n",
    "\n",
    "Thus:\n",
    "\n",
    "$$\n",
    "k \\times 5 = 1 \\quad \\Rightarrow \\quad k = \\frac{1}{5}\n",
    "$$\n",
    "\n",
    "So, to make the length of $ \\mathbf{a} $ equal to 1, we need to multiply the vector $ \\mathbf{a} = [3, 4] $ by $ \\frac{1}{5} $\n",
    "\n",
    "---\n",
    "\n",
    "## **B. Calculate the length of vector $ \\mathbf{b} = [1, 1] $ and find the unit vector of this vector.**\n",
    "\n",
    "### **Step 1: Calculate the length of $ \\mathbf{b} $**\n",
    "\n",
    "The length of vector $ \\mathbf{b} = [1, 1] $ is given by:\n",
    "\n",
    "$$\n",
    "||\\mathbf{b}|| = \\sqrt{1^2 + 1^2} = \\sqrt{1 + 1} = \\sqrt{2}\n",
    "$\n",
    "\n",
    "### **Step 2: Find the unit vector of $ \\mathbf{b} $**\n",
    "\n",
    "The unit vector $ \\hat{\\mathbf{b}} $ of a vector $ \\mathbf{b} $ is calculated by dividing the vector by its length:\n",
    "\n",
    "$$\n",
    "\\hat{\\mathbf{b}} = \\frac{\\mathbf{b}}{||\\mathbf{b}||} = \\frac{[1, 1]}{\\sqrt{2}} = \\left[\\frac{1}{\\sqrt{2}}, \\frac{1}{\\sqrt{2}}\\right]\n",
    "$$\n",
    "\n",
    "Thus, the unit vector of $ \\mathbf{b} $ is $ \\hat{\\mathbf{b}} = \\left[\\frac{1}{\\sqrt{2}}, \\frac{1}{\\sqrt{2}}\\right] $.\n",
    "\n",
    "---\n",
    "\n",
    "## **C. Plot the vector and the unit vector from the previous exercise.**"
   ],
   "metadata": {
    "id": "wX3LRtUaXlay"
   }
  },
  {
   "cell_type": "code",
   "source": [
    "import matplotlib.pyplot as plt\n",
    "import numpy as np\n",
    "\n",
    "# Define the vectors\n",
    "b = np.array([1, 1])\n",
    "unit_b = np.array([1/np.sqrt(2), 1/np.sqrt(2)])\n",
    "\n",
    "# Plot the vectors\n",
    "plt.quiver(0, 0, b[0], b[1], angles='xy', scale_units='xy', scale=1, color='r', label=r'$\\mathbf{b}$')\n",
    "plt.quiver(0, 0, unit_b[0], unit_b[1], angles='xy', scale_units='xy', scale=1, color='g', label=r'$\\hat{\\mathbf{b}}$')\n",
    "\n",
    "# Set limits and labels\n",
    "plt.xlim(-1, 2)\n",
    "plt.ylim(-1, 2)\n",
    "plt.axhline(0, color='black',linewidth=1)\n",
    "plt.axvline(0, color='black',linewidth=1)\n",
    "plt.grid(True)\n",
    "plt.gca().set_aspect('equal', adjustable='box')\n",
    "plt.legend()\n",
    "\n",
    "# Show the plot\n",
    "plt.show()"
   ],
   "metadata": {
    "id": "mbE0z419eGHp",
    "outputId": "7e62842a-a9b3-4c5b-ddd4-9f78861863d9",
    "colab": {
     "base_uri": "https://localhost:8080/",
     "height": 435
    },
    "ExecuteTime": {
     "end_time": "2025-01-30T19:55:44.495735Z",
     "start_time": "2025-01-30T19:55:44.392477Z"
    }
   },
   "outputs": [
    {
     "data": {
      "text/plain": [
       "<Figure size 640x480 with 1 Axes>"
      ],
      "image/png": "[encoded data removed]"
     },
     "metadata": {},
     "output_type": "display_data"
    }
   ],
   "execution_count": 2
  },
  {
   "metadata": {},
   "cell_type": "markdown",
   "source": [
    "## **D. Calculate the length of vector $ \\mathbf{c} = [1, 2, 3] $ and find the unit vector of this vector.**\n",
    "\n",
    "### **Step 1: Calculate the length of $ \\mathbf{c} $**\n",
    "\n",
    "The length of vector $ \\mathbf{c} = [1, 2, 3] $ is given by:\n",
    "\n",
    "$$\n",
    "||\\mathbf{c}|| = \\sqrt{1^2 + 2^2 + 3^2} = \\sqrt{1 + 4 + 9} = \\sqrt{14}\n",
    "$$\n",
    "\n",
    "### **Step 2: Find the unit vector of $ \\mathbf{c} $**\n",
    "\n",
    "The unit vector $ \\hat{\\mathbf{c}} $ is calculated by dividing the vector by its length:\n",
    "\n",
    "$$\n",
    "\\hat{\\mathbf{c}} = \\frac{\\mathbf{c}}{||\\mathbf{c}||} = \\frac{[1, 2, 3]}{\\sqrt{14}} = \\left[\\frac{1}{\\sqrt{14}}, \\frac{2}{\\sqrt{14}}, \\frac{3}{\\sqrt{14}}\\right]\n",
    "$$\n",
    "\n",
    "Thus, the unit vector of $ \\mathbf{c} $ is $ \\hat{\\mathbf{c}} = \\left[\\frac{1}{\\sqrt{14}}, \\frac{2}{\\sqrt{14}}, \\frac{3}{\\sqrt{14}}\\right] $.\n",
    "\n",
    "---\n",
    "\n",
    "## **E. Find the Cartesian coordinates of vector $ \\mathbf{v} = [2, 3, 4] $ in the basis $ \\{ \\mathbf{b_1} = [1, 0, 1], \\mathbf{b_2} = [0, 1, 0], \\mathbf{b_3} = [1, 0, -1] \\} $.**\n",
    "\n",
    "To find the Cartesian coordinates of vector $ \\mathbf{v} $ in the given basis, we need to express $ \\mathbf{v} = [2, 3, 4] $ as a linear combination of the basis vectors $ \\mathbf{b_1}, \\mathbf{b_2}, \\mathbf{b_3} $.\n",
    "\n",
    "$$\n",
    "\\mathbf{v} = x_1 \\cdot \\mathbf{b_1} + x_2 \\cdot \\mathbf{b_2} + x_3 \\cdot \\mathbf{b_3}\n",
    "$$\n",
    "\n",
    "This leads to the following system of equations:\n",
    "\n",
    "$$\n",
    "\\begin{cases}\n",
    "x_1 + x_3 = 2 \\\\\n",
    "x_2 = 3 \\\\\n",
    "x_1 - x_3 = 4\n",
    "\\end{cases}\n",
    "$$\n",
    "\n",
    "### **Step 1: Solve the system of equations**\n",
    "\n",
    "From the second equation, we already know that $ x_2 = 3 $.\n",
    "\n",
    "Now, solve the first and third equations:\n",
    "$$\n",
    "x_1 + x_3 = 2 \\quad \\text{(1)}\n",
    "$$\n",
    "$$\n",
    "x_1 - x_3 = 4 \\quad \\text{(2)}\n",
    "$$\n",
    "\n",
    "Add equations (1) and (2):\n",
    "$$\n",
    "(x_1 + x_3) + (x_1 - x_3) = 2 + 4\n",
    "$$\n",
    "$$\n",
    "2x_1 = 6 \\quad \\Rightarrow \\quad x_1 = 3\n",
    "$$\n",
    "\n",
    "Substitute $ x_1 = 3 $ into equation (1):\n",
    "$$\n",
    "3 + x_3 = 2 \\quad \\Rightarrow \\quad x_3 = -1\n",
    "$$\n",
    "\n",
    "### **Final Answer:**\n",
    "\n",
    "The Cartesian coordinates of $ \\mathbf{v} = [2, 3, 4] $ in the basis $ \\{ \\mathbf{b_1} = [1, 0, 1], \\mathbf{b_2} = [0, 1, 0], \\mathbf{b_3} = [1, 0, -1] \\} $ are:\n",
    "\n",
    "$$\n",
    "x_1 = 3, \\quad x_2 = 3, \\quad x_3 = -1\n",
    "$$\n"
   ]
  }
 ],
 "metadata": {
  "kernelspec": {
   "display_name": ".venv",
   "language": "python",
   "name": "python3"
  },
  "language_info": {
   "codemirror_mode": {
    "name": "ipython",
    "version": 3
   },
   "file_extension": ".py",
   "mimetype": "text/x-python",
   "name": "python",
   "nbconvert_exporter": "python",
   "pygments_lexer": "ipython3",
   "version": "3.11.9"
  },
  "colab": {
   "provenance": [],
   "include_colab_link": true
  }
 },
 "nbformat": 4,
 "nbformat_minor": 0
}
