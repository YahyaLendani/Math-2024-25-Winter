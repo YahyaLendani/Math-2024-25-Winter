{
 "cells": [
  {
   "cell_type": "markdown",
   "metadata": {},
   "source": [
    "# Vectors - Introduction\n",
    "\n",
    "**Vectors** are quantities that have both magnitude and direction in space. They are used to describe various physical quantities such as velocity, force, or electric field intensity. Unlike scalars, which have only magnitude (e.g., mass, temperature), vectors require a direction to be specified.\n",
    "\n",
    "A vector is represented with an arrow above the symbol $\\vec{a}$ or in bold type $\\mathbf{a}$.\n",
    "- The magnitude of a vector can be written as $\\vec{a}|$ or $a$.\n",
    "- A vector of length 1 is called a unit vector and is denoted by $\\hat{\\mathbf{a}} = \\frac{\\vec{a}}{|\\vec{a}|}$.\n",
    "\n",
    "**Example:**\n",
    "\n",
    "The vector $\\mathbf{a}= [3, 4]$ has a magnitude $a = 5$, and the corresponding unit vector (unit vector along the direction of vector $\\mathbf{a}$) is expressed as $\\hat{\\mathbf{a}} = \\left[\\frac{3}{5}, \\frac{4}{5}\\right]$.\n"
   ]
  },
  {
   "cell_type": "code",
   "execution_count": 2,
   "metadata": {},
   "outputs": [
    {
     "data": {
      "text/latex": [
       "$\\displaystyle \\sqrt{a_{x}^{2} + a_{y}^{2}}$"
      ],
      "text/plain": [
       "sqrt(a_x**2 + a_y**2)"
      ]
     },
     "execution_count": 2,
     "metadata": {},
     "output_type": "execute_result"
    }
   ],
   "source": [
    "import sympy as sp  # import the sympy module\n",
    "\n",
    "# For vector $\\mathbf{a} = [a_x, a_y]$, the magnitude is given by the formula: \n",
    "# $$ |\\mathbf{a}| = a = \\sqrt{a_x^2 + a_y^2} $$\n",
    "\n",
    "a_x, a_y = sp.symbols('a_x a_y')  # Step 1: Define symbolic variables a_x and a_y\n",
    "magnitude_a = sp.sqrt(a_x**2 + a_y**2)  # Step 2: Create the formula for the magnitude of vector a\n",
    "magnitude_a  # Step 3: Display the result"
   ]
  },
  {
   "cell_type": "code",
   "execution_count": 3,
   "metadata": {},
   "outputs": [
    {
     "data": {
      "text/latex": [
       "$\\displaystyle 5.0$"
      ],
      "text/plain": [
       "5.00000000000000"
      ]
     },
     "execution_count": 3,
     "metadata": {},
     "output_type": "execute_result"
    }
   ],
   "source": [
    "# Assign values to a_x and a_y\n",
    "a_x = 3  # x component of the vector\n",
    "a_y = 4  # y component of the vector\n",
    "\n",
    "magnitude_a = sp.sqrt(a_x**2 + a_y**2)  # Calculate the magnitude of the vector for a_x = 3 and a_y = 4\n",
    "magnitude_a.evalf()  # Numerically calculate the magnitude of the vector (expected result: 5)"
   ]
  },
  {
   "cell_type": "markdown",
   "metadata": {},
   "source": [
    "## Vector Addition\n",
    "\n",
    "Vector addition involves adding the corresponding components of vectors of the same length.\n",
    "\n",
    "For two vectors $\\mathbf{a}$ and $\\mathbf{b}$ in the space $\\mathbb{R}^n$, where:\n",
    "\n",
    "$$\n",
    "\\mathbf{a} = [a_1, a_2, \\dots, a_n], \\quad \\mathbf{b} = [b_1, b_2, \\dots, b_n]\n",
    "$$\n",
    "\n",
    "Vector addition is defined as follows:\n",
    "\n",
    "$$\n",
    "\\mathbf{a} + \\mathbf{b} = [a_1 + b_1, a_2 + b_2, \\dots, a_n + b_n]\n",
    "$$\n",
    "\n",
    "## Scalar Multiplication of a Vector\n",
    "\n",
    "Scalar multiplication of a vector involves multiplying each component of the vector by the same number.\n",
    "\n",
    "For a vector $\\mathbf{a}$ and a scalar $k$:\n",
    "\n",
    "$$\n",
    "k \\mathbf{a} = [k a_1, k a_2, \\dots, k a_n]\n",
    "$$\n",
    "\n",
    "## Vectors in the Plane and Space\n",
    "\n",
    "**Vectors in 2D:**\n",
    "\n",
    "If $\\mathbf{a} = [a_x, a_y]$, then the magnitude is given by the formula $|\\mathbf{a}| = a = \\sqrt{a_x^2 + a_y^2}$.\n",
    "\n",
    "**Vectors in 3D:**\n",
    "\n",
    "If $\\mathbf{a} = [a_x, a_y, a_z]$, then the magnitude of the vector is $|\\mathbf{a}| = a = \\sqrt{a_x^2 + a_y^2 + a_z^2}$.\n",
    "\n",
    "## Plotting a Vector"
   ]
  },
  {
   "cell_type": "code",
   "execution_count": 4,
   "metadata": {},
   "outputs": [
    {
     "data": {
      "image/png": "[encoded data removed]",
      "text/plain": [
       "<Figure size 640x480 with 1 Axes>"
      ]
     },
     "metadata": {},
     "output_type": "display_data"
    }
   ],
   "source": [
    "import matplotlib.pyplot as plt # import the matplotlib.pyplot module\n",
    "\n",
    "plt.figure() # create a new figure\n",
    "plt.quiver(0, 0, 3, 4, angles='xy', scale_units='xy', scale=1, color='r') # quick way to plot a vector quiver(x_start, y_start, x_end, y_end)\n",
    "plt.xlim(0, 5) # set x-axis range\n",
    "plt.ylim(0, 5) # set y-axis range\n",
    "plt.grid(True) # enable grid\n",
    "plt.gca().set_aspect('equal') # set equal scaling on x and y axes\n",
    "plt.show()"
   ]
  },
  {
   "cell_type": "markdown",
   "metadata": {},
   "source": [
    "## Example of Simple Vector Implementation in Python\n",
    "\n",
    "Given vectors $\\mathbf{a}=[1, 2]$ and $\\mathbf{b}=[3, 4]$, we want to calculate their sum $\\mathbf{c}=\\mathbf{a}+\\mathbf{b}= [1+3, 2+4] = [4, 6]$"
   ]
  },
  {
   "cell_type": "code",
   "execution_count": 5,
   "metadata": {},
   "outputs": [
    {
     "data": {
      "text/plain": [
       "[4, 6]"
      ]
     },
     "execution_count": 5,
     "metadata": {},
     "output_type": "execute_result"
    }
   ],
   "source": [
    "import sympy as sp # import the sympy module\n",
    "\n",
    "a=[1, 2] # vector a\n",
    "b=[3, 4] # vector b\n",
    "c = [a[0] + b[0], a[1] + b[1]] # sum of vectors a and b\n",
    "c # display the result"
   ]
  },
  {
   "cell_type": "markdown",
   "metadata": {},
   "source": [
    "## Example of Better Vector Implementation in Python\n",
    "\n",
    "Vectors are represented as column matrices. Then vector addition is the same as matrix addition."
   ]
  },
  {
   "cell_type": "code",
   "execution_count": 6,
   "metadata": {},
   "outputs": [
    {
     "data": {
      "text/latex": [
       "$\\displaystyle \\left[\\begin{matrix}12\\\\5\\\\18\\end{matrix}\\right]$"
      ],
      "text/plain": [
       "Matrix([\n",
       "[12],\n",
       "[ 5],\n",
       "[18]])"
      ]
     },
     "execution_count": 6,
     "metadata": {},
     "output_type": "execute_result"
    }
   ],
   "source": [
    "import sympy as sp \n",
    "\n",
    "# Vector definitions\n",
    "a = sp.Matrix([1, 2, 3])\n",
    "b = sp.Matrix([4, 5, 6])\n",
    "c = sp.Matrix([7, 0, 9])\n",
    "d = sp.Matrix([0, 2, 0])\n",
    "\n",
    "a + b + c - d # An operation involving addition and subtraction of vectors"
   ]
  },
  {
   "cell_type": "markdown",
   "metadata": {},
   "source": [
    "## Plotting Vector Addition\n",
    "\n",
    "Example: $\\mathbf{a}=[2,1]$ and $\\mathbf{b}=[1,2]$ results in vector $\\mathbf{c}=\\mathbf{a}+\\mathbf{b}=[3,3]$."
   ]
  },
  {
   "cell_type": "code",
   "execution_count": 7,
   "metadata": {},
   "outputs": [
    {
     "data": {
      "image/png": "[encoded data removed]",
      "text/plain": [
       "<Figure size 640x480 with 1 Axes>"
      ]
     },
     "metadata": {},
     "output_type": "display_data"
    }
   ],
   "source": [
    "import matplotlib.pyplot as plt # import the matplotlib.pyplot module #example of vector addition in two-dimensional space\n",
    "\n",
    "plt.figure() # create a new figure\n",
    "plt.quiver(0, 0, 2, 1, angles='xy', scale_units='xy', scale=1, color='r') # quick way to plot vectors quiver(x_start, y_start, x_end, y_end)\n",
    "plt.quiver(0, 0, 1, 2, angles='xy', scale_units='xy', scale=1, color='b') # quick way to plot vectors quiver(x_start, y_start, x_end, y_end)\n",
    "plt.quiver(0, 0, 3, 3, angles='xy', scale_units='xy', scale=1, color='g') # quick way to plot vectors quiver(x_start, y_start, x_end, y_end)\n",
    "plt.xlim(-1, 4) # set x-axis range\n",
    "plt.ylim(-1, 4) # set y-axis range\n",
    "plt.grid(True) # enable grid\n",
    "plt.gca().set_aspect('equal') # set equal scaling on x and y axes\n",
    "plt.show()"
   ]
  },
  {
   "cell_type": "markdown",
   "metadata": {},
   "source": [
    "## Coordinate Systems in the Plane and Space\n",
    "\n",
    "**Cartesian Coordinate System** is the basic coordinate system in which points in space are specified by their distances from fixed axes: $x$, $y$ (for 2D) and $z$ (for 3D).\n",
    "\n",
    "- In 2D, each point can be written as $(x, y)$.\n",
    "- In 3D, points are of the form $(x, y, z)$.\n",
    "\n",
    "**Polar Coordinate System** is used in 2D and defines a point by its distance from the origin (r) and the angle (θ) relative to the reference axis.\n",
    "\n",
    "**Spherical Coordinate System** is used in 3D and defines a point by its distance from the origin (r), azimuth angle (θ), and elevation angle (φ).\n",
    "\n",
    "Vectors can be represented using components in the Cartesian coordinate system, where each component corresponds to the distance of the point from the respective coordinate axis.\n",
    "\n",
    "- For a vector in two-dimensional space: $\\mathbf{a} = [a_x, a_y] = a_x\\hat{\\mathbf{i}} + a_y\\hat{\\mathbf{j}}$\n",
    "- For a vector in three-dimensional space: $\\mathbf{a} = [a_x, a_y, a_z] = a_x\\hat{\\mathbf{i}} + a_y\\hat{\\mathbf{j}} + a_z\\hat{\\mathbf{k}}$\n",
    "\n",
    "## Basis\n",
    "\n",
    "**Basis** of vectors is a set of vectors that spans a vector space. In Cartesian space, the standard basis vectors are $\\hat{\\mathbf{i}}, \\hat{\\mathbf{j}}, \\hat{\\mathbf{k}}$.\n",
    "\n",
    "For 2D:\n",
    "\n",
    "$$\n",
    "\\hat{\\mathbf{i}} = [1, 0], \\quad \\hat{\\mathbf{j}} = [0, 1]\n",
    "$$\n",
    "\n",
    "For 3D:\n",
    "\n",
    "$$\n",
    "\\hat{\\mathbf{i}} = [1, 0, 0], \\quad \\hat{\\mathbf{j}} = [0, 1, 0], \\quad \\hat{\\mathbf{k}} = [0, 0, 1]\n",
    "$$\n",
    "\n",
    "These basis vectors are unit vectors and are perpendicular to each other.\n",
    "\n",
    "### Finding the Coordinates of a Vector in a New Basis\n",
    "\n",
    "To find the coordinates of vector $\\mathbf{v}$ in a new basis $\\{\\mathbf{b_1}, \\mathbf{b_2}, \\mathbf{b_3}\\}$, express $\\mathbf{v}$ as a linear combination of the basis vectors.\n",
    "\n",
    "$$\n",
    "\\mathbf{v} = c_1 \\mathbf{b_1} + c_2 \\mathbf{b_2} + c_3 \\mathbf{b_3}\n",
    "$$\n",
    "\n",
    "The coefficients $c_1, c_2, c_3$ are the coordinates of vector $\\mathbf{v}$ in the new basis.\n",
    "\n",
    "---\n",
    "\n",
    "## Student Exercises\n",
    "\n",
    "A. By what number should vector $\\mathbf{a} = [3, 4]$ be multiplied so that its length is equal to 1?\n",
    "\n",
    "B. Calculate the length of vector $\\mathbf{b} = [1, 1]$ and find the unit vector of this vector.\n",
    "\n",
    "C. Plot the vector and the unit vector from the previous exercise.\n",
    "\n",
    "D. Calculate the length of vector $\\mathbf{c} = [1, 2, 3]$ and find the unit vector of this vector.\n",
    "\n",
    "E. Find the Cartesian coordinates of vector $\\mathbf{v} = [2, 3, 4]$ in the basis $\\{\\mathbf{b_1} = [1, 0, 1], \\mathbf{b_2} = [0, 1, 0], \\mathbf{b_3} = [1, 0, -1]\\}$."
   ]
  },
  {
   "metadata": {
    "ExecuteTime": {
     "end_time": "2024-11-15T09:26:17.060134Z",
     "start_time": "2024-11-15T09:26:16.996671Z"
    }
   },
   "cell_type": "code",
   "source": [
    "import sympy as sp\n",
    "\n",
    "# Define symbolic variables for the components of vector a\n",
    "a_x, a_y = sp.symbols('a_x a_y')\n",
    "\n",
    "# Define vector a\n",
    "a = sp.Matrix([a_x, a_y])\n",
    "\n",
    "# Calculate the length (magnitude) of a\n",
    "length_a = sp.sqrt(a_x**2 + a_y**2)\n",
    "\n",
    "# Finding the multiplier to make the length equal to 1\n",
    "multiplier_a = 1 / length_a\n",
    "\n",
    "# Substitute the values of a_x and a_y\n",
    "length_a_value = length_a.subs({a_x: 3, a_y: 4})\n",
    "multiplier_a_value = multiplier_a.subs({a_x: 3, a_y: 4})\n",
    "\n",
    "# Display the results\n",
    "print(\"Length of vector a:\", length_a_value)\n",
    "print(\"Multiplier for vector a to have length 1:\", multiplier_a_value)"
   ],
   "outputs": [
    {
     "name": "stdout",
     "output_type": "stream",
     "text": [
      "Length of vector a: 5\n",
      "Multiplier for vector a to have length 1: 1/5\n"
     ]
    }
   ],
   "execution_count": 4
  },
  {
   "metadata": {
    "ExecuteTime": {
     "end_time": "2024-11-15T09:27:04.458289Z",
     "start_time": "2024-11-15T09:27:04.300024Z"
    }
   },
   "cell_type": "code",
   "source": [
    "#Exercise A\n",
    "import numpy as np\n",
    "\n",
    "# Define vector a\n",
    "a = np.array([3, 4])\n",
    "\n",
    "# Calculating the length (magnitude) of a\n",
    "length_a = np.linalg.norm(a)\n",
    "\n",
    "# Finding the multiplier to make the length equal to 1\n",
    "multiplier_a = 1 / length_a\n",
    "\n",
    "# Display the results\n",
    "print(\"Length of vector a:\", length_a)\n",
    "print(\"Multiplier for vector a to have length 1:\", multiplier_a)\n",
    "#%"
   ],
   "outputs": [
    {
     "name": "stdout",
     "output_type": "stream",
     "text": [
      "Length of vector a: 5.0\n",
      "Multiplier for vector a to have length 1: 0.2\n"
     ]
    }
   ],
   "execution_count": 5
  },
  {
   "metadata": {
    "ExecuteTime": {
     "end_time": "2024-11-14T23:17:31.729926Z",
     "start_time": "2024-11-14T23:17:31.723574Z"
    }
   },
   "cell_type": "code",
   "source": [
    "#Exercise B\n",
    "# Defining vector b\n",
    "b = np.array([1, 1])\n",
    "\n",
    "# Calculating the length (magnitude) of b\n",
    "length_b = np.linalg.norm(b)\n",
    "\n",
    "# Finding the unit vector of b\n",
    "unit_b = b / length_b\n",
    "\n",
    "# Displaying the results\n",
    "print(\"Length of vector b:\", length_b)\n",
    "print(\"Unit vector of b:\", unit_b)\n"
   ],
   "outputs": [
    {
     "name": "stdout",
     "output_type": "stream",
     "text": [
      "Length of vector b: 1.4142135623730951\n",
      "Unit vector of b: [0.70710678 0.70710678]\n"
     ]
    }
   ],
   "execution_count": 11
  },
  {
   "metadata": {
    "ExecuteTime": {
     "end_time": "2024-11-15T09:28:30.626988Z",
     "start_time": "2024-11-15T09:28:30.614929Z"
    }
   },
   "cell_type": "code",
   "source": [
    "import sympy as sp\n",
    "\n",
    "# Define symbolic variables for the components of vector b\n",
    "b_x, b_y = sp.symbols('b_x b_y')\n",
    "\n",
    "# Define vector b\n",
    "b = sp.Matrix([b_x, b_y])\n",
    "\n",
    "# Calculate the length (magnitude) of b\n",
    "length_b = sp.sqrt(b_x**2 + b_y**2)\n",
    "\n",
    "# Finding the unit vector of b\n",
    "unit_b = b / length_b\n",
    "\n",
    "# Substitute the values of b_x and b_y\n",
    "length_b_value = length_b.subs({b_x: 1, b_y: 1})\n",
    "unit_b_value = unit_b.subs({b_x: 1, b_y: 1})\n",
    "\n",
    "# Display the results\n",
    "print(\"Length of vector b:\", length_b_value)\n",
    "print(\"Unit vector of b:\", unit_b_value)"
   ],
   "outputs": [
    {
     "name": "stdout",
     "output_type": "stream",
     "text": [
      "Length of vector b: sqrt(2)\n",
      "Unit vector of b: Matrix([[sqrt(2)/2], [sqrt(2)/2]])\n"
     ]
    }
   ],
   "execution_count": 6
  },
  {
   "metadata": {
    "ExecuteTime": {
     "end_time": "2024-11-15T09:52:13.260219Z",
     "start_time": "2024-11-15T09:52:13.110952Z"
    }
   },
   "cell_type": "code",
   "source": [
    "#Exercise C\n",
    "import matplotlib.pyplot as plt\n",
    "\n",
    "# Plotting vector b and its unit vector\n",
    "plt.quiver(0, 0, b[0], b[1], angles='xy', scale_units='xy', scale=1, color='blue', label='Vector b')\n",
    "plt.quiver(0, 0, unit_b[0], unit_b[1], angles='xy', scale_units='xy', scale=1, color='red', label='Unit vector of b')\n",
    "\n",
    "# Setting up plot limits\n",
    "plt.xlim(-1, 2)\n",
    "plt.ylim(-1, 2)\n",
    "plt.axhline(0, color='grey', lw=0.5)\n",
    "plt.axvline(0, color='grey', lw=0.5)\n",
    "\n",
    "# Adding labels and legend\n",
    "plt.xlabel('X')\n",
    "plt.ylabel('Y')\n",
    "plt.legend()\n",
    "plt.title(\"Vector b and its Unit Vector\")\n",
    "plt.grid()\n",
    "plt.show()\n"
   ],
   "outputs": [
    {
     "ename": "TypeError",
     "evalue": "ufunc 'isfinite' not supported for the input types, and the inputs could not be safely coerced to any supported types according to the casting rule ''safe''",
     "output_type": "error",
     "traceback": [
      "\u001B[1;31m---------------------------------------------------------------------------\u001B[0m",
      "\u001B[1;31mTypeError\u001B[0m                                 Traceback (most recent call last)",
      "Cell \u001B[1;32mIn[9], line 5\u001B[0m\n\u001B[0;32m      2\u001B[0m \u001B[38;5;28;01mimport\u001B[39;00m \u001B[38;5;21;01mmatplotlib\u001B[39;00m\u001B[38;5;21;01m.\u001B[39;00m\u001B[38;5;21;01mpyplot\u001B[39;00m \u001B[38;5;28;01mas\u001B[39;00m \u001B[38;5;21;01mplt\u001B[39;00m\n\u001B[0;32m      4\u001B[0m \u001B[38;5;66;03m# Plotting vector b and its unit vector\u001B[39;00m\n\u001B[1;32m----> 5\u001B[0m \u001B[43mplt\u001B[49m\u001B[38;5;241;43m.\u001B[39;49m\u001B[43mquiver\u001B[49m\u001B[43m(\u001B[49m\u001B[38;5;241;43m0\u001B[39;49m\u001B[43m,\u001B[49m\u001B[43m \u001B[49m\u001B[38;5;241;43m0\u001B[39;49m\u001B[43m,\u001B[49m\u001B[43m \u001B[49m\u001B[43mb\u001B[49m\u001B[43m[\u001B[49m\u001B[38;5;241;43m0\u001B[39;49m\u001B[43m]\u001B[49m\u001B[43m,\u001B[49m\u001B[43m \u001B[49m\u001B[43mb\u001B[49m\u001B[43m[\u001B[49m\u001B[38;5;241;43m1\u001B[39;49m\u001B[43m]\u001B[49m\u001B[43m,\u001B[49m\u001B[43m \u001B[49m\u001B[43mangles\u001B[49m\u001B[38;5;241;43m=\u001B[39;49m\u001B[38;5;124;43m'\u001B[39;49m\u001B[38;5;124;43mxy\u001B[39;49m\u001B[38;5;124;43m'\u001B[39;49m\u001B[43m,\u001B[49m\u001B[43m \u001B[49m\u001B[43mscale_units\u001B[49m\u001B[38;5;241;43m=\u001B[39;49m\u001B[38;5;124;43m'\u001B[39;49m\u001B[38;5;124;43mxy\u001B[39;49m\u001B[38;5;124;43m'\u001B[39;49m\u001B[43m,\u001B[49m\u001B[43m \u001B[49m\u001B[43mscale\u001B[49m\u001B[38;5;241;43m=\u001B[39;49m\u001B[38;5;241;43m1\u001B[39;49m\u001B[43m,\u001B[49m\u001B[43m \u001B[49m\u001B[43mcolor\u001B[49m\u001B[38;5;241;43m=\u001B[39;49m\u001B[38;5;124;43m'\u001B[39;49m\u001B[38;5;124;43mblue\u001B[39;49m\u001B[38;5;124;43m'\u001B[39;49m\u001B[43m,\u001B[49m\u001B[43m \u001B[49m\u001B[43mlabel\u001B[49m\u001B[38;5;241;43m=\u001B[39;49m\u001B[38;5;124;43m'\u001B[39;49m\u001B[38;5;124;43mVector b\u001B[39;49m\u001B[38;5;124;43m'\u001B[39;49m\u001B[43m)\u001B[49m\n\u001B[0;32m      6\u001B[0m plt\u001B[38;5;241m.\u001B[39mquiver(\u001B[38;5;241m0\u001B[39m, \u001B[38;5;241m0\u001B[39m, unit_b[\u001B[38;5;241m0\u001B[39m], unit_b[\u001B[38;5;241m1\u001B[39m], angles\u001B[38;5;241m=\u001B[39m\u001B[38;5;124m'\u001B[39m\u001B[38;5;124mxy\u001B[39m\u001B[38;5;124m'\u001B[39m, scale_units\u001B[38;5;241m=\u001B[39m\u001B[38;5;124m'\u001B[39m\u001B[38;5;124mxy\u001B[39m\u001B[38;5;124m'\u001B[39m, scale\u001B[38;5;241m=\u001B[39m\u001B[38;5;241m1\u001B[39m, color\u001B[38;5;241m=\u001B[39m\u001B[38;5;124m'\u001B[39m\u001B[38;5;124mred\u001B[39m\u001B[38;5;124m'\u001B[39m, label\u001B[38;5;241m=\u001B[39m\u001B[38;5;124m'\u001B[39m\u001B[38;5;124mUnit vector of b\u001B[39m\u001B[38;5;124m'\u001B[39m)\n\u001B[0;32m      8\u001B[0m \u001B[38;5;66;03m# Setting up plot limits\u001B[39;00m\n",
      "File \u001B[1;32m~\\Documents\\GitHub\\Math-2024-25-Winter\\venv\\Lib\\site-packages\\matplotlib\\pyplot.py:3868\u001B[0m, in \u001B[0;36mquiver\u001B[1;34m(data, *args, **kwargs)\u001B[0m\n\u001B[0;32m   3866\u001B[0m \u001B[38;5;129m@_copy_docstring_and_deprecators\u001B[39m(Axes\u001B[38;5;241m.\u001B[39mquiver)\n\u001B[0;32m   3867\u001B[0m \u001B[38;5;28;01mdef\u001B[39;00m \u001B[38;5;21mquiver\u001B[39m(\u001B[38;5;241m*\u001B[39margs, data\u001B[38;5;241m=\u001B[39m\u001B[38;5;28;01mNone\u001B[39;00m, \u001B[38;5;241m*\u001B[39m\u001B[38;5;241m*\u001B[39mkwargs) \u001B[38;5;241m-\u001B[39m\u001B[38;5;241m>\u001B[39m Quiver:\n\u001B[1;32m-> 3868\u001B[0m     __ret \u001B[38;5;241m=\u001B[39m \u001B[43mgca\u001B[49m\u001B[43m(\u001B[49m\u001B[43m)\u001B[49m\u001B[38;5;241;43m.\u001B[39;49m\u001B[43mquiver\u001B[49m\u001B[43m(\u001B[49m\n\u001B[0;32m   3869\u001B[0m \u001B[43m        \u001B[49m\u001B[38;5;241;43m*\u001B[39;49m\u001B[43margs\u001B[49m\u001B[43m,\u001B[49m\u001B[43m \u001B[49m\u001B[38;5;241;43m*\u001B[39;49m\u001B[38;5;241;43m*\u001B[39;49m\u001B[43m(\u001B[49m\u001B[43m{\u001B[49m\u001B[38;5;124;43m\"\u001B[39;49m\u001B[38;5;124;43mdata\u001B[39;49m\u001B[38;5;124;43m\"\u001B[39;49m\u001B[43m:\u001B[49m\u001B[43m \u001B[49m\u001B[43mdata\u001B[49m\u001B[43m}\u001B[49m\u001B[43m \u001B[49m\u001B[38;5;28;43;01mif\u001B[39;49;00m\u001B[43m \u001B[49m\u001B[43mdata\u001B[49m\u001B[43m \u001B[49m\u001B[38;5;129;43;01mis\u001B[39;49;00m\u001B[43m \u001B[49m\u001B[38;5;129;43;01mnot\u001B[39;49;00m\u001B[43m \u001B[49m\u001B[38;5;28;43;01mNone\u001B[39;49;00m\u001B[43m \u001B[49m\u001B[38;5;28;43;01melse\u001B[39;49;00m\u001B[43m \u001B[49m\u001B[43m{\u001B[49m\u001B[43m}\u001B[49m\u001B[43m)\u001B[49m\u001B[43m,\u001B[49m\u001B[43m \u001B[49m\u001B[38;5;241;43m*\u001B[39;49m\u001B[38;5;241;43m*\u001B[39;49m\u001B[43mkwargs\u001B[49m\n\u001B[0;32m   3870\u001B[0m \u001B[43m    \u001B[49m\u001B[43m)\u001B[49m\n\u001B[0;32m   3871\u001B[0m     sci(__ret)\n\u001B[0;32m   3872\u001B[0m     \u001B[38;5;28;01mreturn\u001B[39;00m __ret\n",
      "File \u001B[1;32m~\\Documents\\GitHub\\Math-2024-25-Winter\\venv\\Lib\\site-packages\\matplotlib\\__init__.py:1473\u001B[0m, in \u001B[0;36m_preprocess_data.<locals>.inner\u001B[1;34m(ax, data, *args, **kwargs)\u001B[0m\n\u001B[0;32m   1470\u001B[0m \u001B[38;5;129m@functools\u001B[39m\u001B[38;5;241m.\u001B[39mwraps(func)\n\u001B[0;32m   1471\u001B[0m \u001B[38;5;28;01mdef\u001B[39;00m \u001B[38;5;21minner\u001B[39m(ax, \u001B[38;5;241m*\u001B[39margs, data\u001B[38;5;241m=\u001B[39m\u001B[38;5;28;01mNone\u001B[39;00m, \u001B[38;5;241m*\u001B[39m\u001B[38;5;241m*\u001B[39mkwargs):\n\u001B[0;32m   1472\u001B[0m     \u001B[38;5;28;01mif\u001B[39;00m data \u001B[38;5;129;01mis\u001B[39;00m \u001B[38;5;28;01mNone\u001B[39;00m:\n\u001B[1;32m-> 1473\u001B[0m         \u001B[38;5;28;01mreturn\u001B[39;00m \u001B[43mfunc\u001B[49m\u001B[43m(\u001B[49m\n\u001B[0;32m   1474\u001B[0m \u001B[43m            \u001B[49m\u001B[43max\u001B[49m\u001B[43m,\u001B[49m\n\u001B[0;32m   1475\u001B[0m \u001B[43m            \u001B[49m\u001B[38;5;241;43m*\u001B[39;49m\u001B[38;5;28;43mmap\u001B[39;49m\u001B[43m(\u001B[49m\u001B[43msanitize_sequence\u001B[49m\u001B[43m,\u001B[49m\u001B[43m \u001B[49m\u001B[43margs\u001B[49m\u001B[43m)\u001B[49m\u001B[43m,\u001B[49m\n\u001B[0;32m   1476\u001B[0m \u001B[43m            \u001B[49m\u001B[38;5;241;43m*\u001B[39;49m\u001B[38;5;241;43m*\u001B[39;49m\u001B[43m{\u001B[49m\u001B[43mk\u001B[49m\u001B[43m:\u001B[49m\u001B[43m \u001B[49m\u001B[43msanitize_sequence\u001B[49m\u001B[43m(\u001B[49m\u001B[43mv\u001B[49m\u001B[43m)\u001B[49m\u001B[43m \u001B[49m\u001B[38;5;28;43;01mfor\u001B[39;49;00m\u001B[43m \u001B[49m\u001B[43mk\u001B[49m\u001B[43m,\u001B[49m\u001B[43m \u001B[49m\u001B[43mv\u001B[49m\u001B[43m \u001B[49m\u001B[38;5;129;43;01min\u001B[39;49;00m\u001B[43m \u001B[49m\u001B[43mkwargs\u001B[49m\u001B[38;5;241;43m.\u001B[39;49m\u001B[43mitems\u001B[49m\u001B[43m(\u001B[49m\u001B[43m)\u001B[49m\u001B[43m}\u001B[49m\u001B[43m)\u001B[49m\n\u001B[0;32m   1478\u001B[0m     bound \u001B[38;5;241m=\u001B[39m new_sig\u001B[38;5;241m.\u001B[39mbind(ax, \u001B[38;5;241m*\u001B[39margs, \u001B[38;5;241m*\u001B[39m\u001B[38;5;241m*\u001B[39mkwargs)\n\u001B[0;32m   1479\u001B[0m     auto_label \u001B[38;5;241m=\u001B[39m (bound\u001B[38;5;241m.\u001B[39marguments\u001B[38;5;241m.\u001B[39mget(label_namer)\n\u001B[0;32m   1480\u001B[0m                   \u001B[38;5;129;01mor\u001B[39;00m bound\u001B[38;5;241m.\u001B[39mkwargs\u001B[38;5;241m.\u001B[39mget(label_namer))\n",
      "File \u001B[1;32m~\\Documents\\GitHub\\Math-2024-25-Winter\\venv\\Lib\\site-packages\\matplotlib\\axes\\_axes.py:5379\u001B[0m, in \u001B[0;36mAxes.quiver\u001B[1;34m(self, *args, **kwargs)\u001B[0m\n\u001B[0;32m   5377\u001B[0m \u001B[38;5;66;03m# Make sure units are handled for x and y values\u001B[39;00m\n\u001B[0;32m   5378\u001B[0m args \u001B[38;5;241m=\u001B[39m \u001B[38;5;28mself\u001B[39m\u001B[38;5;241m.\u001B[39m_quiver_units(args, kwargs)\n\u001B[1;32m-> 5379\u001B[0m q \u001B[38;5;241m=\u001B[39m \u001B[43mmquiver\u001B[49m\u001B[38;5;241;43m.\u001B[39;49m\u001B[43mQuiver\u001B[49m\u001B[43m(\u001B[49m\u001B[38;5;28;43mself\u001B[39;49m\u001B[43m,\u001B[49m\u001B[43m \u001B[49m\u001B[38;5;241;43m*\u001B[39;49m\u001B[43margs\u001B[49m\u001B[43m,\u001B[49m\u001B[43m \u001B[49m\u001B[38;5;241;43m*\u001B[39;49m\u001B[38;5;241;43m*\u001B[39;49m\u001B[43mkwargs\u001B[49m\u001B[43m)\u001B[49m\n\u001B[0;32m   5380\u001B[0m \u001B[38;5;28mself\u001B[39m\u001B[38;5;241m.\u001B[39madd_collection(q, autolim\u001B[38;5;241m=\u001B[39m\u001B[38;5;28;01mTrue\u001B[39;00m)\n\u001B[0;32m   5381\u001B[0m \u001B[38;5;28mself\u001B[39m\u001B[38;5;241m.\u001B[39m_request_autoscale_view()\n",
      "File \u001B[1;32m~\\Documents\\GitHub\\Math-2024-25-Winter\\venv\\Lib\\site-packages\\matplotlib\\quiver.py:502\u001B[0m, in \u001B[0;36mQuiver.__init__\u001B[1;34m(self, ax, scale, headwidth, headlength, headaxislength, minshaft, minlength, units, scale_units, angles, width, color, pivot, *args, **kwargs)\u001B[0m\n\u001B[0;32m    499\u001B[0m \u001B[38;5;28msuper\u001B[39m()\u001B[38;5;241m.\u001B[39m\u001B[38;5;21m__init__\u001B[39m([], offsets\u001B[38;5;241m=\u001B[39m\u001B[38;5;28mself\u001B[39m\u001B[38;5;241m.\u001B[39mXY, offset_transform\u001B[38;5;241m=\u001B[39m\u001B[38;5;28mself\u001B[39m\u001B[38;5;241m.\u001B[39mtransform,\n\u001B[0;32m    500\u001B[0m                  closed\u001B[38;5;241m=\u001B[39m\u001B[38;5;28;01mFalse\u001B[39;00m, \u001B[38;5;241m*\u001B[39m\u001B[38;5;241m*\u001B[39mkwargs)\n\u001B[0;32m    501\u001B[0m \u001B[38;5;28mself\u001B[39m\u001B[38;5;241m.\u001B[39mpolykw \u001B[38;5;241m=\u001B[39m kwargs\n\u001B[1;32m--> 502\u001B[0m \u001B[38;5;28;43mself\u001B[39;49m\u001B[38;5;241;43m.\u001B[39;49m\u001B[43mset_UVC\u001B[49m\u001B[43m(\u001B[49m\u001B[43mU\u001B[49m\u001B[43m,\u001B[49m\u001B[43m \u001B[49m\u001B[43mV\u001B[49m\u001B[43m,\u001B[49m\u001B[43m \u001B[49m\u001B[43mC\u001B[49m\u001B[43m)\u001B[49m\n\u001B[0;32m    503\u001B[0m \u001B[38;5;28mself\u001B[39m\u001B[38;5;241m.\u001B[39m_dpi_at_last_init \u001B[38;5;241m=\u001B[39m \u001B[38;5;28;01mNone\u001B[39;00m\n",
      "File \u001B[1;32m~\\Documents\\GitHub\\Math-2024-25-Winter\\venv\\Lib\\site-packages\\matplotlib\\quiver.py:546\u001B[0m, in \u001B[0;36mQuiver.set_UVC\u001B[1;34m(self, U, V, C)\u001B[0m\n\u001B[0;32m    543\u001B[0m \u001B[38;5;28;01mdef\u001B[39;00m \u001B[38;5;21mset_UVC\u001B[39m(\u001B[38;5;28mself\u001B[39m, U, V, C\u001B[38;5;241m=\u001B[39m\u001B[38;5;28;01mNone\u001B[39;00m):\n\u001B[0;32m    544\u001B[0m     \u001B[38;5;66;03m# We need to ensure we have a copy, not a reference\u001B[39;00m\n\u001B[0;32m    545\u001B[0m     \u001B[38;5;66;03m# to an array that might change before draw().\u001B[39;00m\n\u001B[1;32m--> 546\u001B[0m     U \u001B[38;5;241m=\u001B[39m \u001B[43mma\u001B[49m\u001B[38;5;241;43m.\u001B[39;49m\u001B[43mmasked_invalid\u001B[49m\u001B[43m(\u001B[49m\u001B[43mU\u001B[49m\u001B[43m,\u001B[49m\u001B[43m \u001B[49m\u001B[43mcopy\u001B[49m\u001B[38;5;241;43m=\u001B[39;49m\u001B[38;5;28;43;01mTrue\u001B[39;49;00m\u001B[43m)\u001B[49m\u001B[38;5;241m.\u001B[39mravel()\n\u001B[0;32m    547\u001B[0m     V \u001B[38;5;241m=\u001B[39m ma\u001B[38;5;241m.\u001B[39mmasked_invalid(V, copy\u001B[38;5;241m=\u001B[39m\u001B[38;5;28;01mTrue\u001B[39;00m)\u001B[38;5;241m.\u001B[39mravel()\n\u001B[0;32m    548\u001B[0m     \u001B[38;5;28;01mif\u001B[39;00m C \u001B[38;5;129;01mis\u001B[39;00m \u001B[38;5;129;01mnot\u001B[39;00m \u001B[38;5;28;01mNone\u001B[39;00m:\n",
      "File \u001B[1;32m~\\Documents\\GitHub\\Math-2024-25-Winter\\venv\\Lib\\site-packages\\numpy\\ma\\core.py:2415\u001B[0m, in \u001B[0;36mmasked_invalid\u001B[1;34m(a, copy)\u001B[0m\n\u001B[0;32m   2387\u001B[0m \u001B[38;5;250m\u001B[39m\u001B[38;5;124;03m\"\"\"\u001B[39;00m\n\u001B[0;32m   2388\u001B[0m \u001B[38;5;124;03mMask an array where invalid values occur (NaNs or infs).\u001B[39;00m\n\u001B[0;32m   2389\u001B[0m \n\u001B[1;32m   (...)\u001B[0m\n\u001B[0;32m   2412\u001B[0m \n\u001B[0;32m   2413\u001B[0m \u001B[38;5;124;03m\"\"\"\u001B[39;00m\n\u001B[0;32m   2414\u001B[0m a \u001B[38;5;241m=\u001B[39m np\u001B[38;5;241m.\u001B[39marray(a, copy\u001B[38;5;241m=\u001B[39m\u001B[38;5;28;01mNone\u001B[39;00m, subok\u001B[38;5;241m=\u001B[39m\u001B[38;5;28;01mTrue\u001B[39;00m)\n\u001B[1;32m-> 2415\u001B[0m res \u001B[38;5;241m=\u001B[39m masked_where(\u001B[38;5;241m~\u001B[39m(\u001B[43mnp\u001B[49m\u001B[38;5;241;43m.\u001B[39;49m\u001B[43misfinite\u001B[49m\u001B[43m(\u001B[49m\u001B[43ma\u001B[49m\u001B[43m)\u001B[49m), a, copy\u001B[38;5;241m=\u001B[39mcopy)\n\u001B[0;32m   2416\u001B[0m \u001B[38;5;66;03m# masked_invalid previously never returned nomask as a mask and doing so\u001B[39;00m\n\u001B[0;32m   2417\u001B[0m \u001B[38;5;66;03m# threw off matplotlib (gh-22842).  So use shrink=False:\u001B[39;00m\n\u001B[0;32m   2418\u001B[0m \u001B[38;5;28;01mif\u001B[39;00m res\u001B[38;5;241m.\u001B[39m_mask \u001B[38;5;129;01mis\u001B[39;00m nomask:\n",
      "\u001B[1;31mTypeError\u001B[0m: ufunc 'isfinite' not supported for the input types, and the inputs could not be safely coerced to any supported types according to the casting rule ''safe''"
     ]
    },
    {
     "data": {
      "text/plain": [
       "<Figure size 640x480 with 1 Axes>"
      ],
      "image/png": "[encoded data removed]"
     },
     "metadata": {},
     "output_type": "display_data"
    }
   ],
   "execution_count": 9
  },
  {
   "metadata": {
    "ExecuteTime": {
     "end_time": "2024-11-14T23:17:15.759104Z",
     "start_time": "2024-11-14T23:17:15.751028Z"
    }
   },
   "cell_type": "code",
   "source": [
    "#Exercise D\n",
    "# Define vector c\n",
    "c = np.array([1, 2, 3])\n",
    "\n",
    "# Calculate the length (magnitude) of c\n",
    "length_c = np.linalg.norm(c)\n",
    "\n",
    "# Find the unit vector of c\n",
    "unit_c = c / length_c\n",
    "\n",
    "# Display the results\n",
    "print(\"Length of vector c:\", length_c)\n",
    "print(\"Unit vector of c:\", unit_c)\n"
   ],
   "outputs": [
    {
     "name": "stdout",
     "output_type": "stream",
     "text": [
      "Length of vector c: 3.7416573867739413\n",
      "Unit vector of c: [0.26726124 0.53452248 0.80178373]\n"
     ]
    }
   ],
   "execution_count": 8
  },
  {
   "metadata": {
    "ExecuteTime": {
     "end_time": "2024-11-14T23:17:18.411335Z",
     "start_time": "2024-11-14T23:17:18.405669Z"
    }
   },
   "cell_type": "code",
   "source": [
    "#Exercise E\n",
    "# Define vector v and the basis vectors\n",
    "v = np.array([2, 3, 4])\n",
    "b1 = np.array([1, 0, 1])\n",
    "b2 = np.array([0, 1, 0])\n",
    "b3 = np.array([1, 0, -1])\n",
    "\n",
    "# Create the basis matrix\n",
    "B = np.column_stack((b1, b2, b3))\n",
    "\n",
    "# Solve for the coordinates of v in the basis {b1, b2, b3}\n",
    "coordinates_v = np.linalg.solve(B, v)\n",
    "\n",
    "# Display the results\n",
    "print(\"Coordinates of vector v in the given basis:\", coordinates_v)\n"
   ],
   "outputs": [
    {
     "name": "stdout",
     "output_type": "stream",
     "text": [
      "Coordinates of vector v in the given basis: [ 3.  3. -1.]\n"
     ]
    }
   ],
   "execution_count": 9
  }
 ],
 "metadata": {
  "kernelspec": {
   "display_name": ".venv",
   "language": "python",
   "name": "python3"
  },
  "language_info": {
   "codemirror_mode": {
    "name": "ipython",
    "version": 3
   },
   "file_extension": ".py",
   "mimetype": "text/x-python",
   "name": "python",
   "nbconvert_exporter": "python",
   "pygments_lexer": "ipython3",
   "version": "3.11.9"
  }
 },
 "nbformat": 4,
 "nbformat_minor": 4
}
