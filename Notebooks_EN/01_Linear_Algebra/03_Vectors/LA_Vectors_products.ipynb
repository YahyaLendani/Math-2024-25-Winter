{
 "cells": [
  {
   "cell_type": "markdown",
   "metadata": {},
   "source": [
    "# Vectors - Scalar, Vector, Mixed Products\n",
    "\n",
    "## Scalar Product\n",
    "\n",
    "The scalar product (also called the dot product) of two vectors is an operation that returns a scalar value. It is defined as the sum of the products of the corresponding components of two vectors.\n",
    "\n",
    "For two vectors $\\mathbf{a}$ and $\\mathbf{b}$ in the space $\\mathbb{R}^n$, where:\n",
    "\n",
    "$$\n",
    "\\mathbf{a} = [a_1, a_2, \\dots, a_n], \\quad \\mathbf{b} = [b_1, b_2, \\dots, b_n]\n",
    "$$\n",
    "\n",
    "The scalar product is defined as follows:\n",
    "\n",
    "$$\n",
    "\\mathbf{a} \\cdot \\mathbf{b} = a_1b_1 + a_2b_2 + \\dots + a_nb_n = \\sum_{i=1}^{n} a_i b_i\n",
    "$$\n",
    "\n",
    "Example for three-dimensional space ($ \\mathbb{R}^3 $):\n",
    "\n",
    "For vectors $\\mathbf{a} = [a_1, a_2, a_3]$ and $\\mathbf{b} = [b_1, b_2, b_3]$, the scalar product is:\n",
    "\n",
    "$$ \n",
    "\\mathbf{a} \\cdot \\mathbf{b} = a_1b_1 + a_2b_2 + a_3b_3\n",
    "$$\n",
    "\n",
    "The scalar product returns a number that measures the \"similarity of direction\" between two vectors. If $\\mathbf{a} \\cdot \\mathbf{b} = 0$, the vectors are perpendicular.\n",
    "\n",
    "Alternatively, the scalar product can be expressed as:\n",
    "\n",
    "$$\n",
    "\\mathbf{a} \\cdot \\mathbf{b} = \\|\\mathbf{a}\\| \\|\\mathbf{b}\\| \\cos(\\theta),\n",
    "$$\n",
    "which is the product of the magnitudes of vectors $\\mathbf{a}$ and $\\mathbf{b}$ multiplied by the cosine of the angle between them.\n",
    "\n",
    "## Vector Product\n",
    "\n",
    "The vector product (also called the cross product) is an operation that returns a new vector perpendicular to the two input vectors. It is defined only in three-dimensional space $ \\mathbb{R}^3 $.\n",
    "\n",
    "For two vectors $ \\mathbf{a} = [a_1, a_2, a_3] $ and $ \\mathbf{b} = [b_1, b_2, b_3] $, the vector product $ \\mathbf{a} \times \\mathbf{b} $ is defined as:\n",
    "\n",
    "$$ \\mathbf{a} \t\\times \\mathbf{b} =\n",
    "\\begin{vmatrix}\n",
    "\\mathbf{i} & \\mathbf{j} & \\mathbf{k} \\\\\n",
    "a_1 & a_2 & a_3 \\\\\n",
    "b_1 & b_2 & b_3\n",
    "\\end{vmatrix}\n",
    "$$\n",
    "\n",
    "Where $ \\mathbf{i}, \\mathbf{j}, \\mathbf{k} $ are unit vectors along the $ x, y, z $ axes. Interestingly, to calculate the vector product and obtain the resulting vector, we use the determinant (a scalar) of the matrix (a second-order tensor) whose rows are the basis vectors (vectors) and the components of the vectors (scalars).\n",
    "\n",
    "The vector product can be expressed in expanded form:\n",
    "\n",
    "$$ \\mathbf{a} \t\\times \\mathbf{b} = \\left( a_2b_3 - a_3b_2 \\right)\\mathbf{i} - \\left( a_1b_3 - a_3b_1 \\right)\\mathbf{j} + \\left( a_1b_2 - a_2b_1 \\right)\\mathbf{k} $$\n",
    "\n",
    "The result of the vector product is a new vector:\n",
    "\n",
    "$$ \\mathbf{c} = \\mathbf{a} \t\\times \\mathbf{b} = [a_2b_3 - a_3b_2, a_3b_1 - a_1b_3, a_1b_2 - a_2b_1] $$\n",
    "\n",
    "The vector product returns a vector $\\mathbf{c}$ perpendicular to the plane defined by $ \\mathbf{a} $ and $ \\mathbf{b} $, and its magnitude is equal to the area of the parallelogram whose sides are defined by the vectors $ \\mathbf{a} $ and $ \\mathbf{b} $\n",
    "$$\n",
    "|\\mathbf{c}| = |\\mathbf{a}| |\\mathbf{b}| \\sin \\theta\n",
    "$$\n",
    "\n",
    "where $\theta$ is the angle between the vectors. The direction of vector $\\vec{c}$ is determined by the right-hand rule.\n",
    "\n",
    "## Mixed Product\n",
    "\n",
    "The mixed product of three vectors $\\mathbf{a}, \\mathbf{b}, \\mathbf{c}$ is defined as:\n",
    "\n",
    "$$\n",
    "\\mathbf{a} \\cdot \\left( \\mathbf{b} \\times \\mathbf{c} \\right)\n",
    "$$\n",
    "\n",
    "This is equivalent to the scalar product $\\mathbf{a} \\times \\left( \\mathbf{b} \\times \\mathbf{c} \\right)$.\n",
    "\n",
    "The mixed product is equal to zero if the vectors $\\mathbf{a}, \\mathbf{b}, \\mathbf{c}$ are collinear or parallel.\n",
    "\n",
    "The volume of the parallelepiped defined by three vectors $\\mathbf{a}, \\mathbf{b}, \\mathbf{c}$ is equal to the absolute value of the mixed product of these vectors.\n",
    "\n",
    "## Implementation"
   ]
  },
  {
   "cell_type": "code",
   "execution_count": null,
   "metadata": {},
   "outputs": [],
   "source": [
    "import sympy as sp \n",
    "# Vector definitions\n",
    "a = sp.Matrix([1, 2, 3])\n",
    "b = sp.Matrix([4, 5, 6])\n",
    "c = sp.Matrix([7, 0, 9])\n",
    "d = sp.Matrix([0, 2, 0])"
   ]
  },
  {
   "cell_type": "code",
   "execution_count": null,
   "metadata": {},
   "outputs": [],
   "source": [
    "# Display vector c\n",
    "c"
   ]
  },
  {
   "cell_type": "code",
   "execution_count": null,
   "metadata": {},
   "outputs": [],
   "source": [
    "# Adding vectors a and b\n",
    "a + b"
   ]
  },
  {
   "cell_type": "code",
   "execution_count": null,
   "metadata": {},
   "outputs": [],
   "source": [
    "# Dot product of a and b\n",
    "(1*4 + 2*5 + 3*6) == a.dot(b)"
   ]
  },
  {
   "cell_type": "code",
   "execution_count": null,
   "metadata": {},
   "outputs": [],
   "source": [
    "# Cross product of a and c\n",
    "# a = [1, 2, 3]\n",
    "# c = [7, 0, 9]\n",
    "\n",
    "# As an aid, write the vectors as 3x3 matrices\n",
    "# i, j, k\n",
    "# 1, 2, 3\n",
    "# 7, 0, 9\n",
    "\n",
    "# Now\n",
    "comp1 = (2*9 - 3*0)\n",
    "comp2 = -(1*9 - 3*7)\n",
    "comp3 = (1*0 - 2*7)\n",
    "\n",
    "# Result\n",
    "sp.Matrix([comp1, comp2, comp3]) == a.cross(c)"
   ]
  },
  {
   "cell_type": "code",
   "execution_count": null,
   "metadata": {},
   "outputs": [],
   "source": [
    "# Perpendicularity of vectors\n",
    "# c = [7, 0, 9]\n",
    "# d = [0, 2, 0]\n",
    "\n",
    "# If the dot product of vectors is equal to 0, they are perpendicular\n",
    "dot_product = 7*0 + 0*2 + 9*0\n",
    "dot_product == 0"
   ]
  },
  {
   "cell_type": "markdown",
   "metadata": {},
   "source": [
    "## Applications\n",
    "\n",
    "### Calculating the Angle Between Vectors\n",
    "\n",
    "$$\n",
    "\\cos \\theta = \\frac{\\mathbf{a} \\cdot \\mathbf{b}}{\\|\\mathbf{a}\\| \\|\\mathbf{b}\\|}\n",
    "$$\n",
    "\n",
    "### Checking Vector Perpendicularity\n",
    "\n",
    "Vectors $\\mathbf{a}$ and $\\mathbf{b}$ are perpendicular if their dot product is zero:\n",
    "$$\n",
    "\\mathbf{a} \\cdot \\mathbf{b} = 0 \n",
    "\\quad \\Leftrightarrow \\quad\n",
    " \\mathbf{a} \\perp \\mathbf{b}\n",
    "$$\n",
    "\n",
    "### Finding Projections of Vectors onto Other Vectors\n",
    "\n",
    "$$\n",
    "\\text{Projection} = \\frac{\\mathbf{a} \\cdot \\mathbf{b}}{\\|\\mathbf{b}\\|}\n",
    "$$\n",
    "\n",
    "### Calculating Work Done by a Force in Physics\n",
    "\n",
    "For a force $\\mathbf{F} = (F_x, F_y, F_z)$ acting along a displacement $\\mathbf{d} = (d_x, d_y, d_z)$, work is calculated as:\n",
    "\n",
    "$$\n",
    "W = \\mathbf{F} \\cdot \\mathbf{d} = |\\mathbf{F}| |\\mathbf{d}| \\cos \\theta = F_x d_x + F_y d_y + F_z d_z\n",
    "$$\n",
    "\n",
    "### Torque\n",
    "\n",
    "In physics: torque is the vector product of the force vector and the arm of the force:\n",
    "\n",
    "$$\n",
    "\\mathbf{M} = \\mathbf{r} \\times \\mathbf{F}\n",
    "$$\n",
    "\n",
    "### Calculating the Area of a Parallelogram\n",
    "\n",
    "The area of a parallelogram spanned by two vectors:\n",
    "\n",
    "$$\n",
    "\\text{Area}_{r} = \\mathbf{a} \\times \\mathbf{b} = |\\mathbf{a}| |\\mathbf{b}| \\sin \\theta\n",
    "$$\n",
    "\n",
    "### Calculating the Area of a Triangle\n",
    "\n",
    "The area of a triangle spanned by two vectors $\\mathbf{a}$ and $\\mathbf{b}$:\n",
    "\n",
    "$$\n",
    "\\text{Area}_{t} = \\frac{1}{2} |\\mathbf{a} \\times \\mathbf{b}|\n",
    "$$\n",
    "\n",
    "### Calculating the Volume of Parallelepipeds and Tetrahedrons\n",
    "\n",
    "The mixed product of vectors is used to calculate the volume of parallelepipeds and tetrahedrons. For three vectors **$\\mathbf{a}$**, **$\\mathbf{b}$**, and **$\\mathbf{c}$**, the volume of the parallelepiped is given by:\n",
    "\n",
    "$$\n",
    "V = |\\mathbf{a} \\cdot (\\mathbf{b} \\times \\mathbf{c})|\n",
    "$$\n",
    "(Note: **| |** here denotes the absolute value, not the magnitude!)\n",
    "\n",
    "### Checking Coplanarity of Three Vectors\n",
    "\n",
    "If the mixed product of three vectors is equal to zero, it means that the vectors are coplanar. Otherwise, they form a tetrahedron.\n",
    "\n",
    "---\n",
    "\n",
    "## Student Exercises\n",
    "\n",
    "A. Perform the addition of vector $[2, 1]$ to vector $[-1, 1]$. Plot both vectors and their sum on a graph.\n",
    "\n",
    "B. Calculate the area of the triangle spanned by vectors $[2, 1]$ and $[-1, 1]$.\n",
    "\n",
    "C. Calculate the volume of the parallelepiped spanned by vectors $[2, 1]$, $[-1, 1]$, and $[1, 2]$.\n",
    "\n",
    "D. Check if vectors $[2, 1]$ and $[-1, 1]$ are perpendicular.\n",
    "\n",
    "E. Calculate the angle in degrees between vectors $[4,2,1]$ and $[1,3,2]$.\n",
    "\n",
    "F. For three-dimensional vectors: $\\mathbf{a}=[a_x, a_y, a_z]$, $\\mathbf{b}=[b_x, b_y, b_z]$, $\\mathbf{c}=[c_x, c_y, c_z]$, prove that the following identity is satisfied:\n",
    "\n",
    "$$\n",
    "\\mathbf{a} \\times (\\mathbf{b} \\times \\mathbf{c}) = (\\mathbf{a} \\cdot \\mathbf{c}) \\mathbf{b} - (\\mathbf{a} \\cdot \\mathbf{b}) \\mathbf{c}.\n",
    "$$"
   ]
  },
  {
   "metadata": {
    "ExecuteTime": {
     "end_time": "2024-11-14T23:16:21.743456Z",
     "start_time": "2024-11-14T23:16:20.299975Z"
    }
   },
   "cell_type": "code",
   "source": [
    "#Exercise A\n",
    "import numpy as np\n",
    "import matplotlib.pyplot as plt\n",
    "\n",
    "# Define vectors\n",
    "vector1 = np.array([2, 1])\n",
    "vector2 = np.array([-1, 1])\n",
    "\n",
    "# Perform vector addition\n",
    "vector_sum = vector1 + vector2\n",
    "\n",
    "# Plot vectors\n",
    "plt.quiver(0, 0, vector1[0], vector1[1], angles='xy', scale_units='xy', scale=1, color='blue', label='[2, 1]')\n",
    "plt.quiver(0, 0, vector2[0], vector2[1], angles='xy', scale_units='xy', scale=1, color='green', label='[-1, 1]')\n",
    "plt.quiver(0, 0, vector_sum[0], vector_sum[1], angles='xy', scale_units='xy', scale=1, color='red', label='Sum')\n",
    "\n",
    "# Set up plot limits\n",
    "plt.xlim(-2, 4)\n",
    "plt.ylim(-2, 4)\n",
    "plt.axhline(0, color='grey', lw=0.5)\n",
    "plt.axvline(0, color='grey', lw=0.5)\n",
    "\n",
    "# Add labels and legend\n",
    "plt.xlabel('X')\n",
    "plt.ylabel('Y')\n",
    "plt.legend()\n",
    "plt.title(\"Vector Addition\")\n",
    "plt.grid()\n",
    "plt.show()\n"
   ],
   "outputs": [
    {
     "data": {
      "text/plain": [
       "<Figure size 640x480 with 1 Axes>"
      ],
      "image/png": "[encoded data removed]"
     },
     "metadata": {},
     "output_type": "display_data"
    }
   ],
   "execution_count": 5
  },
  {
   "metadata": {
    "ExecuteTime": {
     "end_time": "2024-11-14T23:17:09.538181Z",
     "start_time": "2024-11-14T23:17:09.532121Z"
    }
   },
   "cell_type": "code",
   "source": [
    "#Exercise B\n",
    "# Define vectors\n",
    "u = np.array([2, 1])\n",
    "v = np.array([-1, 1])\n",
    "\n",
    "# Calculate the area of the triangle (half of the magnitude of the cross product)\n",
    "area_triangle = 0.5 * np.abs(np.cross(u, v))\n",
    "\n",
    "# Display the result\n",
    "print(\"Area of the triangle:\", area_triangle)\n"
   ],
   "outputs": [
    {
     "name": "stdout",
     "output_type": "stream",
     "text": [
      "Area of the triangle: 1.5\n"
     ]
    },
    {
     "name": "stderr",
     "output_type": "stream",
     "text": [
      "C:\\Users\\yahya\\AppData\\Local\\Temp\\ipykernel_35124\\3630040752.py:7: DeprecationWarning: Arrays of 2-dimensional vectors are deprecated. Use arrays of 3-dimensional vectors instead. (deprecated in NumPy 2.0)\n",
      "  area_triangle = 0.5 * np.abs(np.cross(u, v))\n"
     ]
    }
   ],
   "execution_count": 14
  },
  {
   "metadata": {
    "ExecuteTime": {
     "end_time": "2024-11-14T23:16:44.226527Z",
     "start_time": "2024-11-14T23:16:44.221414Z"
    }
   },
   "cell_type": "code",
   "source": [
    "#Exercise C\n",
    "# Define vectors\n",
    "u = np.array([2, 1, 0])\n",
    "v = np.array([-1, 1, 0])\n",
    "w = np.array([1, 2, 0])\n",
    "\n",
    "# Calculate the volume of the parallelepiped\n",
    "volume = np.abs(np.dot(u, np.cross(v, w)))\n",
    "\n",
    "# Display the result\n",
    "print(\"Volume of the parallelepiped:\", volume)\n"
   ],
   "outputs": [
    {
     "name": "stdout",
     "output_type": "stream",
     "text": [
      "Volume of the parallelepiped: 0\n"
     ]
    }
   ],
   "execution_count": 10
  },
  {
   "metadata": {
    "ExecuteTime": {
     "end_time": "2024-11-14T23:16:46.601754Z",
     "start_time": "2024-11-14T23:16:46.596073Z"
    }
   },
   "cell_type": "code",
   "source": [
    "#Exercise D\n",
    "# Define vectors\n",
    "v1 = np.array([2, 1])\n",
    "v2 = np.array([-1, 1])\n",
    "\n",
    "# Calculate the dot product\n",
    "dot_product = np.dot(v1, v2)\n",
    "\n",
    "# Checking if perpendicular\n",
    "is_perpendicular = dot_product == 0\n",
    "\n",
    "# Display the result\n",
    "print(\"Dot product:\", dot_product)\n",
    "print(\"Are the vectors perpendicular?\", is_perpendicular)\n"
   ],
   "outputs": [
    {
     "name": "stdout",
     "output_type": "stream",
     "text": [
      "Dot product: -1\n",
      "Are the vectors perpendicular? False\n"
     ]
    }
   ],
   "execution_count": 11
  },
  {
   "metadata": {
    "ExecuteTime": {
     "end_time": "2024-11-14T23:16:55.457554Z",
     "start_time": "2024-11-14T23:16:55.449808Z"
    }
   },
   "cell_type": "code",
   "source": [
    "#Exercise E\n",
    "# Define vectors\n",
    "u = np.array([4, 2, 1])\n",
    "v = np.array([1, 3, 2])\n",
    "\n",
    "# Calculate the dot product and magnitudes\n",
    "dot_product = np.dot(u, v)\n",
    "magnitude_u = np.linalg.norm(u)\n",
    "magnitude_v = np.linalg.norm(v)\n",
    "\n",
    "# Calculate the angle in radians and then convert to degrees\n",
    "angle_radians = np.arccos(dot_product / (magnitude_u * magnitude_v))\n",
    "angle_degrees = np.degrees(angle_radians)\n",
    "\n",
    "# Display the result\n",
    "print(\"Angle between the vectors (degrees):\", angle_degrees)\n"
   ],
   "outputs": [
    {
     "name": "stdout",
     "output_type": "stream",
     "text": [
      "Angle between the vectors (degrees): 45.58469140280702\n"
     ]
    }
   ],
   "execution_count": 12
  },
  {
   "metadata": {
    "ExecuteTime": {
     "end_time": "2024-11-14T23:17:01.392315Z",
     "start_time": "2024-11-14T23:17:01.383386Z"
    }
   },
   "cell_type": "code",
   "source": [
    "#Exercise F\n",
    "# Define vectors a, b, c\n",
    "a = np.array([1, 2, 3])\n",
    "b = np.array([4, 5, 6])\n",
    "c = np.array([7, 8, 9])\n",
    "\n",
    "# Calculate both sides of the identity\n",
    "left_side = np.cross(a, np.cross(b, c))\n",
    "right_side = (np.dot(a, c) * b) - (np.dot(a, b) * c)\n",
    "\n",
    "# Checking if the identity holds\n",
    "identity_holds = np.allclose(left_side, right_side)\n",
    "\n",
    "# Display the results\n",
    "print(\"Left side of the identity:\", left_side)\n",
    "print(\"Right side of the identity:\", right_side)\n",
    "print(\"Does the identity hold?\", identity_holds)\n"
   ],
   "outputs": [
    {
     "name": "stdout",
     "output_type": "stream",
     "text": [
      "Left side of the identity: [-24  -6  12]\n",
      "Right side of the identity: [-24  -6  12]\n",
      "Does the identity hold? True\n"
     ]
    }
   ],
   "execution_count": 13
  }
 ],
 "metadata": {
  "kernelspec": {
   "display_name": "Python 3 (ipykernel)",
   "language": "python",
   "name": "python3",
   "path": "/media/dch/Disk2/Vizja/Math-2024-25-Winter/.venv/share/jupyter/kernels/python3"
  }
 },
 "nbformat": 4,
 "nbformat_minor": 4
}
