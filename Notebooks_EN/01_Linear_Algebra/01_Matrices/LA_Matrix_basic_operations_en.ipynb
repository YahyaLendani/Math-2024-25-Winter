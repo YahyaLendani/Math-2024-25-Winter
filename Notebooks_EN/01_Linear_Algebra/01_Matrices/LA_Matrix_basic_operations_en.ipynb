{
 "cells": [
  {
   "cell_type": "markdown",
<<<<<<< HEAD
   "metadata": {
    "id": "B-NubnOf67re"
   },
=======
   "metadata": {},
>>>>>>> main²
   "source": [
    "# Basic Matrix Operations\n",
    "\n",
    "### Matrix Addition\n",
    "\n",
    "Let $A=[a_{ij}]$ and $B=[b_{ij}]$ be two matrices of dimensions $m \\times n$. Then the sum of matrices $A$ and $B$ is the matrix $C=[c_{ij}]$ of dimensions $m \\times n$, where $c_{ij}=a_{ij}+b_{ij}$.\n",
    "\n",
    "### Matrix Scalar Multiplication\n",
    "\n",
    "Let $A=[a_{ij}]$ be a matrix of dimensions $m \\times n$, and let $k$ be a scalar. Then the product of matrix $A$ and scalar $k$ is the matrix $B=[b_{ij}]$ of dimensions $m \\times n$, where $b_{ij}=k \\cdot a_{ij}$.\n",
    "\n",
    "### Matrix Multiplication\n",
    "\n",
    "Let $A=[a_{ij}]$ be a matrix of dimensions $m \\times n$, and $B=[b_{ij}]$ be a matrix of dimensions $n \\times p$. Then the product of matrices $A$ and $B$ is the matrix $C=[c_{ij}]$ of dimensions $m \\times p$, where $c_{ij}=\\sum_{k=1}^{n} a_{ik} \\cdot b_{kj}$.\n",
    "\n",
    "\n",
    "### Example 1\n",
    "\n",
<<<<<<< HEAD
    "Let $A=\\begin{bmatrix} 1 & 2 \\\\ 3 & 4 \\end{bmatrix}$ and $B=\\begin{bmatrix} 5 & 6 \\\\ 7 & 8 \\end{bmatrix}$.\n",
    "Then the sum of matrices $A$ and $B$ is\n",
=======
    "Let $A=\\begin{bmatrix} 1 & 2 \\\\ 3 & 4 \\end{bmatrix}$ and $B=\\begin{bmatrix} 5 & 6 \\\\ 7 & 8 \\end{bmatrix}$. \n",
    "Then the sum of matrices $A$ and $B$ is \n",
>>>>>>> main²
    "\n",
    "$$\n",
    "C=\n",
    "A+B=\\begin{bmatrix} 1+5 & 2+6 \\\\ 3+7 & 4+8 \\end{bmatrix}=\\begin{bmatrix} 6 & 8 \\\\ 10 & 12 \\end{bmatrix}.\n",
    "$$\n",
    "\n",
    "### Example 2\n",
    "\n",
    "Let $A=\\begin{bmatrix} 1 & 2 \\\\ 3 & 4 \\end{bmatrix}$ and $k=2$.\n",
    "\n",
    "Then the product of matrix $A$ and scalar $k$ is\n",
    "\n",
    "$$\n",
    "B=\n",
    "k \\cdot A=2 \\cdot \\begin{bmatrix} 1 & 2 \\\\ 3 & 4 \\end{bmatrix}=\\begin{bmatrix} 2*1 & 2*2 \\\\ 2*3 & 2*4 \\end{bmatrix}=\\begin{bmatrix} 2 & 4 \\\\ 6 & 8 \\end{bmatrix}.\n",
    "$$\n",
    "\n",
    "### Example 3\n",
    "\n",
<<<<<<< HEAD
    "Let\n",
    "$A=\\begin{bmatrix} 1 & 2 \\\\ 3 & 4 \\end{bmatrix}$\n",
    "and\n",
=======
    "Let \n",
    "$A=\\begin{bmatrix} 1 & 2 \\\\ 3 & 4 \\end{bmatrix}$ \n",
    "and \n",
>>>>>>> main²
    "$B=\\begin{bmatrix} 5 & 6 \\\\ 7 & 8 \\end{bmatrix}$.\n",
    "\n",
    "Then the product of matrices $A$ and $B$ is\n",
    "\n",
    "$$\n",
    "C=\n",
    "A \\cdot B=\\begin{bmatrix} 1*5+2*7 & 1*6+2*8 \\\\ 3*5+4*7 & 3*6+4*8 \\end{bmatrix}=\\begin{bmatrix} 19 & 22 \\\\ 43 & 50 \\end{bmatrix}.\n",
    "$$"
   ]
  },
  {
   "cell_type": "code",
<<<<<<< HEAD
   "execution_count": 4,
   "metadata": {
    "colab": {
     "base_uri": "https://localhost:8080/",
     "height": 58
    },
    "id": "SJgtbjdY67rh",
    "outputId": "55024c20-c39a-4862-fc56-6b9bab260a50"
   },
   "outputs": [
    {
     "data": {
      "text/latex": [
       "$\\displaystyle \\left[\\begin{matrix}1 & 2\\\\3 & 4\\end{matrix}\\right]$"
      ],
      "text/plain": [
       "Matrix([\n",
       "[1, 2],\n",
       "[3, 4]])"
      ]
     },
     "execution_count": 4,
     "metadata": {},
     "output_type": "execute_result"
    }
   ],
=======
   "execution_count": null,
   "metadata": {},
   "outputs": [],
>>>>>>> main²
   "source": [
    "# Example 1: Matrix addition in sympy\n",
    "import sympy as sp\n",
    "\n",
    "A=sp.Matrix([[1,2],[3,4]])\n",
    "B=sp.Matrix([[5,6],[7,8]])\n",
    "A # display matrix A"
   ]
  },
  {
   "cell_type": "code",
   "execution_count": null,
<<<<<<< HEAD
   "metadata": {
    "id": "jvcWewkd67rh"
   },
=======
   "metadata": {},
>>>>>>> main²
   "outputs": [],
   "source": [
    "B # display matrix B"
   ]
  },
  {
   "cell_type": "code",
   "execution_count": null,
<<<<<<< HEAD
   "metadata": {
    "id": "OzDGPX9167ri"
   },
=======
   "metadata": {},
>>>>>>> main²
   "outputs": [],
   "source": [
    "sp.Matrix([[6,8],[10,12]])==A+B # verify matrix addition"
   ]
  },
  {
   "cell_type": "code",
   "execution_count": null,
<<<<<<< HEAD
   "metadata": {
    "id": "soL490-U67ri"
   },
=======
   "metadata": {},
>>>>>>> main²
   "outputs": [],
   "source": [
    "# Example 2: Scalar multiplication\n",
    "A=sp.Matrix([[1,2],[3,4]]) # define matrix A\n",
    "\n",
    "sp.Matrix([[2,4],[6,8]])==2*A # verify scalar multiplication"
   ]
  },
  {
   "cell_type": "code",
   "execution_count": null,
<<<<<<< HEAD
   "metadata": {
    "id": "hQg43J7Y67rj"
   },
=======
   "metadata": {},
>>>>>>> main²
   "outputs": [],
   "source": [
    "# Example 3: Multiplication of two matrices\n",
    "\n",
    "A=sp.Matrix([[1,2],[3,4]]) # define matrix A\n",
    "B=sp.Matrix([[5,6],[7,8]]) # define matrix B\n",
    "\n",
    "sp.Matrix([[19,22],[43,50]])==A*B # verify matrix multiplication"
   ]
  },
  {
   "cell_type": "markdown",
<<<<<<< HEAD
   "metadata": {
    "id": "9K7pQLgN67rj"
   },
=======
   "metadata": {},
>>>>>>> main²
   "source": [
    "### Necessary Condition for Matrix Multiplication\n",
    "\n",
    "Remember that matrices can have different numbers of rows and columns.\n",
    "\n",
<<<<<<< HEAD
    "To multiply two matrices $A_{m \\times n}$ and $B_{n \\times k}$, where $A$ has dimensions $m \\times n$ and $B$ has dimensions $n \\times k$, the number of columns of matrix $A$ must equal the number of rows of matrix $B$. Otherwise, matrix multiplication is not possible.\n",
=======
    "To multiply two matrices $A_{m \\times n}$ and $B_{n \\times k}$, where $A$ has dimensions $m \\times n$ and $B$ has dimensions $n \\times k$, the number of columns of matrix $A$ must equal the number of rows of matrix $B$. Otherwise, matrix multiplication is not possible. \n",
>>>>>>> main²
    "\n",
    "$$\n",
    "A_{m \\times n} \\cdot B_{n \\times k} = C_{m \\times k}\n",
    "$$\n",
    "\n",
    "For example, if $A_{3 \\times 3}$ and $B_{3 \\times 3}$, then the resulting matrix $C_{3 \\times 3}$.\n",
    "\n",
    "<img src=\"https://www.mscroggs.co.uk/img/full/multiply_matrices.gif\" alt=\"Matrix Multiplication GIF\" width=\"400\">\n",
    "\n",
    "### Matrix Multiplication is Not Commutative\n",
    "\n",
    "Matrix multiplication is not commutative, i.e., in general $A \\cdot B \\neq B \\cdot A$."
   ]
  },
  {
   "cell_type": "code",
<<<<<<< HEAD
   "metadata": {
    "id": "NkBCBngH67rj",
    "ExecuteTime": {
     "end_time": "2024-10-22T19:30:41.040528Z",
     "start_time": "2024-10-22T19:30:40.287177Z"
    }
   },
=======
   "execution_count": null,
   "metadata": {},
   "outputs": [],
>>>>>>> main²
   "source": [
    "# Example of multiplying rectangular matrices\n",
    "import sympy as sp\n",
    "A=sp.Matrix([[1,2],[3,4],[5,6]]) # define matrix A_{3 x 2}\n",
    "B=sp.Matrix([[1,2,3],[4,5,6]]) # define matrix B_{2 x 3}\n",
    "C=sp.Matrix([[9,12,15],[19,26,33],[29,40,51]]) # define matrix C_{3 x 3}\n",
    "\n",
    "A*B # multiply matrices A and B to get a 3x3 matrix"
<<<<<<< HEAD
   ],
   "outputs": [
    {
     "data": {
      "text/plain": [
       "Matrix([\n",
       "[ 9, 12, 15],\n",
       "[19, 26, 33],\n",
       "[29, 40, 51]])"
      ],
      "text/latex": "$\\displaystyle \\left[\\begin{matrix}9 & 12 & 15\\\\19 & 26 & 33\\\\29 & 40 & 51\\end{matrix}\\right]$"
     },
     "execution_count": 1,
     "metadata": {},
     "output_type": "execute_result"
    }
   ],
   "execution_count": 1
=======
   ]
>>>>>>> main²
  },
  {
   "cell_type": "code",
   "execution_count": null,
<<<<<<< HEAD
   "metadata": {
    "id": "s045ec0g67rk"
   },
=======
   "metadata": {},
>>>>>>> main²
   "outputs": [],
   "source": [
    "B*A # multiply matrices B and A to get a 2x2 matrix"
   ]
  },
  {
   "cell_type": "code",
<<<<<<< HEAD
   "metadata": {
    "id": "SH3LEtjl67rk",
    "ExecuteTime": {
     "end_time": "2024-10-22T18:40:02.322104Z",
     "start_time": "2024-10-22T18:40:02.035369Z"
    }
   },
   "source": [
    "B*C # multiply matrices B and C to get a 2x3 matrix"
   ],
   "outputs": [
    {
     "ename": "NameError",
     "evalue": "name 'B' is not defined",
     "output_type": "error",
     "traceback": [
      "\u001B[1;31m---------------------------------------------------------------------------\u001B[0m",
      "\u001B[1;31mNameError\u001B[0m                                 Traceback (most recent call last)",
      "Cell \u001B[1;32mIn[1], line 1\u001B[0m\n\u001B[1;32m----> 1\u001B[0m \u001B[43mB\u001B[49m\u001B[38;5;241m*\u001B[39mC \u001B[38;5;66;03m# multiply matrices B and C to get a 2x3 matrix\u001B[39;00m\n",
      "\u001B[1;31mNameError\u001B[0m: name 'B' is not defined"
     ]
    }
   ],
   "execution_count": 1
  },
  {
   "cell_type": "markdown",
   "metadata": {
    "id": "5y6cXXhm67rk"
   },
   "source": [
    "---\n",
    "## Exercises for Students\n",
=======
   "execution_count": null,
   "metadata": {},
   "outputs": [],
   "source": [
    "B*C # multiply matrices B and C to get a 2x3 matrix"
   ]
  },
  {
   "cell_type": "markdown",
   "metadata": {},
   "source": [
    "---\n",
    "## Exercises for Students (old version)\n",
>>>>>>> main²
    "\n",
    "1. Calculate the sum of matrices $A=\\begin{bmatrix} 1 & 2 \\\\ 3 & 4 \\end{bmatrix}$ and $B=\\begin{bmatrix} 5 & 6 \\\\ 7 & 8 \\end{bmatrix}$.\n",
    "\n",
    "2. Calculate the product of matrix $A=\\begin{bmatrix} 4 & 2 \\\\ 12 & 4 \\end{bmatrix}$ and scalar $k=\\frac{1}{4}$.\n",
    "\n",
    "3. Calculate the products $A\\cdot B$ and $B \\cdot A$ for matrices $A=\\begin{bmatrix} 3 & 2 \\\\ 2 & 4 \\end{bmatrix}$ and $B=\\begin{bmatrix} 4 & 1 \\\\ 6 & 4 \\end{bmatrix}$."
   ]
  },
  {
<<<<<<< HEAD
   "cell_type": "code",
   "execution_count": 2,
   "metadata": {
    "colab": {
     "base_uri": "https://localhost:8080/",
     "height": 58
    },
    "id": "tCso1N_-7egA",
    "outputId": "013ab4e3-dc5f-4cc7-9fd8-378b4d8d8e58"
   },
   "outputs": [
    {
     "data": {
      "text/latex": [
       "$\\displaystyle \\left[\\begin{matrix}6 & 8\\\\10 & 12\\end{matrix}\\right]$"
      ],
      "text/plain": [
       "Matrix([\n",
       "[ 6,  8],\n",
       "[10, 12]])"
      ]
     },
     "execution_count": 2,
     "metadata": {},
     "output_type": "execute_result"
    }
   ],
   "source": [
    "# First Question\n",
    "import sympy as sp\n",
    "\n",
    "# Define matrices A and B using sympy Matrix\n",
    "A = sp.Matrix([[1, 2], [3, 4]])\n",
    "B = sp.Matrix([[5, 6], [7, 8]])\n",
    "\n",
    "# Manually calculate the expected sum\n",
    "expected_sum = sp.Matrix([[1+5, 2+6], [3+7, 4+8]])\n",
    "\n",
    "# Verify if the calculated sum matches the expected sum\n",
    "verification = sum_result = expected_sum\n",
    "\n",
    "# Calculate the sum of matrices A and B\n",
    "sum_result = A + B\n",
    "\n",
    "# Display the result\n",
    "sum_result"
   ]
  },
  {
   "metadata": {},
   "cell_type": "markdown",
   "source": ""
  },
  {
   "cell_type": "code",
   "metadata": {
    "colab": {
     "base_uri": "https://localhost:8080/",
     "height": 58
    },
    "id": "ytmg8nUp7ubi",
    "outputId": "9073fd40-ea03-4470-f4cc-0544d0dc4521",
    "ExecuteTime": {
     "end_time": "2024-10-22T18:40:14.107165Z",
     "start_time": "2024-10-22T18:40:12.864434Z"
    }
   },
   "source": [
    "# Second Question\n",
    "import sympy as sp\n",
    "\n",
    "# Define matrix A and scalar k, then calculate the product\n",
    "A = sp.Matrix([[4, 2], [12, 4]])\n",
    "k = 1/4\n",
    "\n",
    "# Manually calculate the expected product\n",
    "expected_product = sp.Matrix([[4 * k, 2 * k], [12 * k, 4 * k]])\n",
    "\n",
    "# Verify if the calculated product matches the expected product\n",
    "verification = product_result = expected_product\n",
    "\n",
    "# Calculate the product of matrix A and scalar k\n",
    "product_result = A * k\n",
    "\n",
    "# Display the result\n",
    "product_result"
   ],
   "outputs": [
    {
     "data": {
      "text/plain": [
       "Matrix([\n",
       "[1.0, 0.5],\n",
       "[3.0, 1.0]])"
      ],
      "text/latex": "$\\displaystyle \\left[\\begin{matrix}1.0 & 0.5\\\\3.0 & 1.0\\end{matrix}\\right]$"
     },
     "execution_count": 2,
     "metadata": {},
     "output_type": "execute_result"
    }
   ],
   "execution_count": 2
  },
  {
   "cell_type": "code",
   "execution_count": 4,
   "metadata": {
    "colab": {
     "base_uri": "https://localhost:8080/"
    },
    "id": "vdPAA8ue779t",
    "outputId": "bdeaa276-98a8-42d3-9baf-82eff251ba0e"
   },
   "outputs": [
    {
     "data": {
      "text/plain": [
       "(Matrix([\n",
       " [24, 11],\n",
       " [32, 18]]),\n",
       " Matrix([\n",
       " [14, 12],\n",
       " [26, 28]]))"
      ]
     },
     "execution_count": 4,
     "metadata": {},
     "output_type": "execute_result"
    }
   ],
   "source": [
    "# Third Question\n",
    "# Define matrices A and B using sympy Matrix\n",
    "A3 = sp.Matrix([[3, 2], [2, 4]])\n",
    "B3 = sp.Matrix([[4, 1], [6, 4]])\n",
    "\n",
    "# Calculate A·B and B·A\n",
    "AB_result = A3 * B3\n",
    "BA_result = B3 * A3\n",
    "\n",
    "# Manually calculate the expected results for A3 * B3 and B3 * A3\n",
    "expected_AB_result = sp.Matrix([[3*4 + 2*6, 3*1 + 2*4], [2*4 + 4*6, 2*1 + 4*4]])\n",
    "expected_BA_result = sp.Matrix([[4*3 + 1*2, 4*2 + 1*4], [6*3 + 4*2, 6*2 + 4*4]])\n",
    "\n",
    "# Verify if the calculated products match the expected results\n",
    "verification_AB = AB_result == expected_AB_result\n",
    "verification_BA = BA_result == expected_BA_result\n",
    "\n",
    "# Display the results\n",
    "AB_result, BA_result"
   ]
  }
 ],
 "metadata": {
  "colab": {
   "provenance": []
  },
=======
   "cell_type": "markdown",
   "metadata": {},
   "source": [
    "\n",
    "## Exercises for Students (new version)\n",
    "\n",
    "For follwing matrices \n",
    "\n",
    "$$\n",
    "\\mathbf{A}=\n",
    "\\begin{pmatrix}\n",
    "1 & 2 \\\\\n",
    "3 & 4 \n",
    "\\end{pmatrix}\n",
    "\\qquad\n",
    "\\mathbf{B}=\n",
    "\\begin{pmatrix}\n",
    "5 & 6 \\\\\n",
    "7 & 8\n",
    "\\end{pmatrix}\n",
    "\\quad\n",
    "\\mathbf{C}=\n",
    "\\begin{pmatrix}\n",
    "-1 & 2 \\\\\n",
    "3 & 0\n",
    "\\end{pmatrix}\n",
    "\\qquad\n",
    "\\mathbf{D}=\n",
    "\\begin{pmatrix}\n",
    "-1 & 2 & 3 \\\\\n",
    "4 & 0 & 6 \n",
    "\\end{pmatrix}\n",
    "\\qquad\n",
    "\\mathbf{E}=\n",
    "\\begin{pmatrix}\n",
    "1 & 2\\\\\n",
    "4 & 5\\\\\n",
    "7 & 8\n",
    "\\end{pmatrix}\n",
    "$$\n",
    "\n",
    "1. Calculate: $\\mathbf{A}+\\mathbf{B}$;  $\\mathbf{B}-\\mathbf{A}$;  $\\mathbf{A}+\\mathbf{C}$; $\\mathbf{D}+\\mathbf{E}$. \n",
    "\n",
    "2. Calculate $\\frac{1}{2}\\mathbf{A}$, $2\\mathbf{B}$, $-3\\mathbf{C}$, and $4\\mathbf{D}$.\n",
    "\n",
    "3. Calculate the products $\\mathbf{A}\\cdot \\mathbf{B}$; $\\mathbf{B} \\cdot \\mathbf{A}$; $\\mathbf{A} \\cdot \\mathbf{D}$; $\\mathbf{D} \\cdot \\mathbf{E}$."
   ]
  },
  {
   "cell_type": "markdown",
   "metadata": {},
   "source": []
  }
 ],
 "metadata": {
>>>>>>> main²
  "kernelspec": {
   "display_name": "Python 3",
   "language": "python",
   "name": "python3"
  },
  "language_info": {
<<<<<<< HEAD
   "codemirror_mode": {
    "name": "ipython",
    "version": 3
   },
   "file_extension": ".py",
   "mimetype": "text/x-python",
   "name": "python",
   "nbconvert_exporter": "python",
   "pygments_lexer": "ipython3",
   "version": "3.12.7"
  }
 },
 "nbformat": 4,
 "nbformat_minor": 0
=======
   "name": "python",
   "version": "3.11.9"
  }
 },
 "nbformat": 4,
 "nbformat_minor": 4
>>>>>>> main²
}
