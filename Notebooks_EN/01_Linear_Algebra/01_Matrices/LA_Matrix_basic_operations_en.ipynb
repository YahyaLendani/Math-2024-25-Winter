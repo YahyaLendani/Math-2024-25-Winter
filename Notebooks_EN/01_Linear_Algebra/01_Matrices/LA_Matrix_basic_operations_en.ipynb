{
  "cells": [
    {
      "cell_type": "markdown",
      "metadata": {
        "id": "B-NubnOf67re"
      },
      "source": [
        "# Basic Matrix Operations\n",
        "\n",
        "### Matrix Addition\n",
        "\n",
        "Let $A=[a_{ij}]$ and $B=[b_{ij}]$ be two matrices of dimensions $m \\times n$. Then the sum of matrices $A$ and $B$ is the matrix $C=[c_{ij}]$ of dimensions $m \\times n$, where $c_{ij}=a_{ij}+b_{ij}$.\n",
        "\n",
        "### Matrix Scalar Multiplication\n",
        "\n",
        "Let $A=[a_{ij}]$ be a matrix of dimensions $m \\times n$, and let $k$ be a scalar. Then the product of matrix $A$ and scalar $k$ is the matrix $B=[b_{ij}]$ of dimensions $m \\times n$, where $b_{ij}=k \\cdot a_{ij}$.\n",
        "\n",
        "### Matrix Multiplication\n",
        "\n",
        "Let $A=[a_{ij}]$ be a matrix of dimensions $m \\times n$, and $B=[b_{ij}]$ be a matrix of dimensions $n \\times p$. Then the product of matrices $A$ and $B$ is the matrix $C=[c_{ij}]$ of dimensions $m \\times p$, where $c_{ij}=\\sum_{k=1}^{n} a_{ik} \\cdot b_{kj}$.\n",
        "\n",
        "\n",
        "### Example 1\n",
        "\n",
        "Let $A=\\begin{bmatrix} 1 & 2 \\\\ 3 & 4 \\end{bmatrix}$ and $B=\\begin{bmatrix} 5 & 6 \\\\ 7 & 8 \\end{bmatrix}$.\n",
        "Then the sum of matrices $A$ and $B$ is\n",
        "\n",
        "$$\n",
        "C=\n",
        "A+B=\\begin{bmatrix} 1+5 & 2+6 \\\\ 3+7 & 4+8 \\end{bmatrix}=\\begin{bmatrix} 6 & 8 \\\\ 10 & 12 \\end{bmatrix}.\n",
        "$$\n",
        "\n",
        "### Example 2\n",
        "\n",
        "Let $A=\\begin{bmatrix} 1 & 2 \\\\ 3 & 4 \\end{bmatrix}$ and $k=2$.\n",
        "\n",
        "Then the product of matrix $A$ and scalar $k$ is\n",
        "\n",
        "$$\n",
        "B=\n",
        "k \\cdot A=2 \\cdot \\begin{bmatrix} 1 & 2 \\\\ 3 & 4 \\end{bmatrix}=\\begin{bmatrix} 2*1 & 2*2 \\\\ 2*3 & 2*4 \\end{bmatrix}=\\begin{bmatrix} 2 & 4 \\\\ 6 & 8 \\end{bmatrix}.\n",
        "$$\n",
        "\n",
        "### Example 3\n",
        "\n",
        "Let\n",
        "$A=\\begin{bmatrix} 1 & 2 \\\\ 3 & 4 \\end{bmatrix}$\n",
        "and\n",
        "$B=\\begin{bmatrix} 5 & 6 \\\\ 7 & 8 \\end{bmatrix}$.\n",
        "\n",
        "Then the product of matrices $A$ and $B$ is\n",
        "\n",
        "$$\n",
        "C=\n",
        "A \\cdot B=\\begin{bmatrix} 1*5+2*7 & 1*6+2*8 \\\\ 3*5+4*7 & 3*6+4*8 \\end{bmatrix}=\\begin{bmatrix} 19 & 22 \\\\ 43 & 50 \\end{bmatrix}.\n",
        "$$"
      ]
    },
    {
      "cell_type": "code",
      "execution_count": null,
      "metadata": {
        "id": "SJgtbjdY67rh"
      },
      "outputs": [],
      "source": [
        "# Example 1: Matrix addition in sympy\n",
        "import sympy as sp\n",
        "\n",
        "A=sp.Matrix([[1,2],[3,4]])\n",
        "B=sp.Matrix([[5,6],[7,8]])\n",
        "A # display matrix A"
      ]
    },
    {
      "cell_type": "code",
      "execution_count": null,
      "metadata": {
        "id": "jvcWewkd67rh"
      },
      "outputs": [],
      "source": [
        "B # display matrix B"
      ]
    },
    {
      "cell_type": "code",
      "execution_count": null,
      "metadata": {
        "id": "OzDGPX9167ri"
      },
      "outputs": [],
      "source": [
        "sp.Matrix([[6,8],[10,12]])==A+B # verify matrix addition"
      ]
    },
    {
      "cell_type": "code",
      "execution_count": null,
      "metadata": {
        "id": "soL490-U67ri"
      },
      "outputs": [],
      "source": [
        "# Example 2: Scalar multiplication\n",
        "A=sp.Matrix([[1,2],[3,4]]) # define matrix A\n",
        "\n",
        "sp.Matrix([[2,4],[6,8]])==2*A # verify scalar multiplication"
      ]
    },
    {
      "cell_type": "code",
      "execution_count": null,
      "metadata": {
        "id": "hQg43J7Y67rj"
      },
      "outputs": [],
      "source": [
        "# Example 3: Multiplication of two matrices\n",
        "\n",
        "A=sp.Matrix([[1,2],[3,4]]) # define matrix A\n",
        "B=sp.Matrix([[5,6],[7,8]]) # define matrix B\n",
        "\n",
        "sp.Matrix([[19,22],[43,50]])==A*B # verify matrix multiplication"
      ]
    },
    {
      "cell_type": "markdown",
      "metadata": {
        "id": "9K7pQLgN67rj"
      },
      "source": [
        "### Necessary Condition for Matrix Multiplication\n",
        "\n",
        "Remember that matrices can have different numbers of rows and columns.\n",
        "\n",
        "To multiply two matrices $A_{m \\times n}$ and $B_{n \\times k}$, where $A$ has dimensions $m \\times n$ and $B$ has dimensions $n \\times k$, the number of columns of matrix $A$ must equal the number of rows of matrix $B$. Otherwise, matrix multiplication is not possible.\n",
        "\n",
        "$$\n",
        "A_{m \\times n} \\cdot B_{n \\times k} = C_{m \\times k}\n",
        "$$\n",
        "\n",
        "For example, if $A_{3 \\times 3}$ and $B_{3 \\times 3}$, then the resulting matrix $C_{3 \\times 3}$.\n",
        "\n",
        "<img src=\"https://www.mscroggs.co.uk/img/full/multiply_matrices.gif\" alt=\"Matrix Multiplication GIF\" width=\"400\">\n",
        "\n",
        "### Matrix Multiplication is Not Commutative\n",
        "\n",
        "Matrix multiplication is not commutative, i.e., in general $A \\cdot B \\neq B \\cdot A$."
      ]
    },
    {
      "cell_type": "code",
      "execution_count": null,
      "metadata": {
        "id": "NkBCBngH67rj"
      },
      "outputs": [],
      "source": [
        "# Example of multiplying rectangular matrices\n",
        "import sympy as sp\n",
        "A=sp.Matrix([[1,2],[3,4],[5,6]]) # define matrix A_{3 x 2}\n",
        "B=sp.Matrix([[1,2,3],[4,5,6]]) # define matrix B_{2 x 3}\n",
        "C=sp.Matrix([[9,12,15],[19,26,33],[29,40,51]]) # define matrix C_{3 x 3}\n",
        "\n",
        "A*B # multiply matrices A and B to get a 3x3 matrix"
      ]
    },
    {
      "cell_type": "code",
      "execution_count": null,
      "metadata": {
        "id": "s045ec0g67rk"
      },
      "outputs": [],
      "source": [
        "B*A # multiply matrices B and A to get a 2x2 matrix"
      ]
    },
    {
      "cell_type": "code",
      "execution_count": null,
      "metadata": {
        "id": "SH3LEtjl67rk"
      },
      "outputs": [],
      "source": [
        "B*C # multiply matrices B and C to get a 2x3 matrix"
      ]
    },
    {
      "cell_type": "markdown",
      "metadata": {
        "id": "5y6cXXhm67rk"
      },
      "source": [
        "---\n",
        "## Exercises for Students\n",
        "\n",
        "1. Calculate the sum of matrices $A=\\begin{bmatrix} 1 & 2 \\\\ 3 & 4 \\end{bmatrix}$ and $B=\\begin{bmatrix} 5 & 6 \\\\ 7 & 8 \\end{bmatrix}$.\n",
        "\n",
        "2. Calculate the product of matrix $A=\\begin{bmatrix} 4 & 2 \\\\ 12 & 4 \\end{bmatrix}$ and scalar $k=\\frac{1}{4}$.\n",
        "\n",
        "3. Calculate the products $A\\cdot B$ and $B \\cdot A$ for matrices $A=\\begin{bmatrix} 3 & 2 \\\\ 2 & 4 \\end{bmatrix}$ and $B=\\begin{bmatrix} 4 & 1 \\\\ 6 & 4 \\end{bmatrix}$."
      ]
    },
    {
      "cell_type": "code",
      "source": [
        "# First Question\n",
        "import numpy as np\n",
        "\n",
        "# Define matrices A and B\n",
        "A1 = np.array([[1, 2], [3, 4]])\n",
        "B1 = np.array([[5, 6], [7, 8]])\n",
        "\n",
        "# Calculate the sum of matrices A and B\n",
        "sum_result = A1 + B1\n",
        "\n",
        "# Display the result\n",
        "print(\"Sum of matrices A and B is:\")\n",
        "print(sum_result)\n"
      ],
      "metadata": {
        "id": "tCso1N_-7egA",
        "outputId": "eadb1843-9644-4a3f-e52a-5a72c4553256",
        "colab": {
          "base_uri": "https://localhost:8080/"
        }
      },
      "execution_count": 1,
      "outputs": [
        {
          "output_type": "stream",
          "name": "stdout",
          "text": [
            "Sum of matrices A and B is:\n",
            "[[ 6  8]\n",
            " [10 12]]\n"
          ]
        }
      ]
    },
    {
      "cell_type": "code",
      "source": [
        "# Second Question\n",
        "# Define matrix A and scalar k\n",
        "A2 = np.array([[4, 2], [12, 4]])\n",
        "k = 1/4\n",
        "\n",
        "# Calculate the product of matrix A and scalar k\n",
        "product_result = k * A2\n",
        "\n",
        "# Display the result\n",
        "print(\"Product of matrix A and scalar k is:\")\n",
        "print(product_result)\n"
      ],
      "metadata": {
        "id": "ytmg8nUp7ubi",
        "outputId": "0ee0b16c-0ba4-4f09-ffe6-67073cd121ee",
        "colab": {
          "base_uri": "https://localhost:8080/"
        }
      },
      "execution_count": 2,
      "outputs": [
        {
          "output_type": "stream",
          "name": "stdout",
          "text": [
            "Product of matrix A and scalar k is:\n",
            "[[1.  0.5]\n",
            " [3.  1. ]]\n"
          ]
        }
      ]
    },
    {
      "cell_type": "code",
      "source": [
        "# Third Question\n",
        "# Define matrices A and B\n",
        "A3 = np.array([[3, 2], [2, 4]])\n",
        "B3 = np.array([[4, 1], [6, 4]])\n",
        "\n",
        "# Calculate A·B and B·A\n",
        "AB_result = np.dot(A3, B3)\n",
        "BA_result = np.dot(B3, A3)\n",
        "\n",
        "# Display the results\n",
        "print(\"Product of A·B is:\")\n",
        "print(AB_result)\n",
        "\n",
        "print(\"Product of B·A is:\")\n",
        "print(BA_result)\n"
      ],
      "metadata": {
        "id": "vdPAA8ue779t",
        "outputId": "153ea674-6e75-4c55-f76e-bebd93da3d3e",
        "colab": {
          "base_uri": "https://localhost:8080/"
        }
      },
      "execution_count": 3,
      "outputs": [
        {
          "output_type": "stream",
          "name": "stdout",
          "text": [
            "Product of A·B is:\n",
            "[[24 11]\n",
            " [32 18]]\n",
            "Product of B·A is:\n",
            "[[14 12]\n",
            " [26 28]]\n"
          ]
        }
      ]
    }
  ],
  "metadata": {
    "kernelspec": {
      "display_name": "Python 3",
      "language": "python",
      "name": "python3"
    },
    "language_info": {
      "name": "python",
      "version": "3.11.9"
    },
    "colab": {
      "provenance": []
    }
  },
  "nbformat": 4,
  "nbformat_minor": 0
}