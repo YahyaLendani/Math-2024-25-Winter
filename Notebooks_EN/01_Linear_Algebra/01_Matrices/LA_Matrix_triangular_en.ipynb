{
 "cells": [
  {
   "cell_type": "markdown",
   "metadata": {},
   "source": [
    "# Triangular Matrices and determinant calculation"
   ]
  },
  {
   "cell_type": "code",
   "execution_count": 1,
   "metadata": {},
   "outputs": [
    {
     "data": {
      "text/markdown": [
       "**Initial Matrix:**"
      ],
      "text/plain": [
       "<IPython.core.display.Markdown object>"
      ]
     },
     "metadata": {},
     "output_type": "display_data"
    },
    {
     "data": {
      "text/latex": [
       "$\\displaystyle \\left[\\begin{matrix}1 & 2 & 3\\\\2 & 5 & 3\\\\3 & 2 & 1\\end{matrix}\\right]$"
      ],
      "text/plain": [
       "Matrix([\n",
       "[1, 2, 3],\n",
       "[2, 5, 3],\n",
       "[3, 2, 1]])"
      ]
     },
     "metadata": {},
     "output_type": "display_data"
    }
   ],
   "source": [
    "import sympy as sp\n",
    "from sympy import Matrix, symbols, Rational\n",
    "from IPython.display import display, Markdown\n",
    "\n",
    "class SymbolicMatrix:\n",
    "    def __init__(self, matrix):\n",
    "        self.matrix = Matrix(matrix).applyfunc(Rational)\n",
    "        self.operations = []\n",
    "        display(Markdown(\"**Initial Matrix:**\"))\n",
    "        display(self.matrix)  # Display the matrix upon initialization\n",
    "\n",
    "    def __repr__(self):\n",
    "        return repr(self.matrix)  # Use Matrix's repr\n",
    "\n",
    "    def __str__(self):\n",
    "        return str(self.matrix)  # Use Matrix's str\n",
    "\n",
    "    def _repr_latex_(self):\n",
    "        return self.matrix._repr_latex_()  # Delegate LaTeX display\n",
    "\n",
    "    def _validate_row_number(self, row):\n",
    "        if not isinstance(row, int):\n",
    "            raise TypeError(\"Row number must be an integer.\")\n",
    "        if row < 1 or row > self.matrix.rows:\n",
    "            raise IndexError(f\"Row number must be in the range from 1 to {self.matrix.rows}.\")\n",
    "        return row - 1\n",
    "\n",
    "    def _validate_col_number(self, col):\n",
    "        if not isinstance(col, int):\n",
    "            raise TypeError(\"Column number must be an integer.\")\n",
    "        if col < 1 or col > self.matrix.cols:\n",
    "            raise IndexError(f\"Column number must be in the range from 1 to {self.matrix.cols}.\")\n",
    "        return col - 1\n",
    "\n",
    "    # Row operations\n",
    "    def add_row(self, target_row, source_row, coefficient):\n",
    "        target_idx = self._validate_row_number(target_row)\n",
    "        source_idx = self._validate_row_number(source_row)\n",
    "        coefficient = Rational(coefficient)\n",
    "\n",
    "        self.matrix.row_op(target_idx, lambda v, j: v + coefficient * self.matrix[source_idx, j])\n",
    "        operation_str = f\"r{target_row} = r{target_row} + {coefficient}*r{source_row}\"\n",
    "        self.operations.append(operation_str)\n",
    "        display(Markdown(f\"**Operation:** {operation_str}\"))\n",
    "        display(self.matrix)\n",
    "\n",
    "    def multiply_row(self, row, coefficient):\n",
    "        row_idx = self._validate_row_number(row)\n",
    "        coefficient = Rational(coefficient)\n",
    "        self.matrix.row_op(row_idx, lambda v, _: coefficient * v)\n",
    "        operation_str = f\"r{row} = {coefficient}*r{row}\"\n",
    "        self.operations.append(operation_str)\n",
    "        display(Markdown(f\"**Operation:** {operation_str}\"))\n",
    "        display(self.matrix)\n",
    "\n",
    "    def swap_rows(self, row1, row2):\n",
    "        row1_idx = self._validate_row_number(row1)\n",
    "        row2_idx = self._validate_row_number(row2)\n",
    "        self.matrix.row_swap(row1_idx, row2_idx)\n",
    "        operation_str = f\"Swap r{row1} <-> r{row2}\"\n",
    "        self.operations.append(operation_str)\n",
    "        display(Markdown(f\"**Operation:** {operation_str}\"))\n",
    "        display(self.matrix)\n",
    "\n",
    "    # Column operations\n",
    "    def add_col(self, target_col, source_col, coefficient):\n",
    "        target_idx = self._validate_col_number(target_col)\n",
    "        source_idx = self._validate_col_number(source_col)\n",
    "        self.matrix.col_op(target_idx, lambda v, i: v + coefficient * self.matrix[i, source_idx])\n",
    "        operation_str = f\"c{target_col} = c{target_col} + {coefficient}*c{source_col}\"\n",
    "        self.operations.append(operation_str)\n",
    "        display(Markdown(f\"**Operation:** {operation_str}\"))\n",
    "        display(self.matrix)\n",
    "\n",
    "    def multiply_col(self, col, coefficient):\n",
    "        col_idx = self._validate_col_number(col)\n",
    "        self.matrix.col_op(col_idx, lambda v, _: coefficient * v)\n",
    "        operation_str = f\"c{col} = {coefficient}*c{col}\"\n",
    "        self.operations.append(operation_str)\n",
    "        display(Markdown(f\"**Operation:** {operation_str}\"))\n",
    "        display(self.matrix)\n",
    "\n",
    "    def swap_cols(self, col1, col2):\n",
    "        col1_idx = self._validate_col_number(col1)\n",
    "        col2_idx = self._validate_col_number(col2)\n",
    "        self.matrix.col_swap(col1_idx, col2_idx)\n",
    "        operation_str = f\"Swap c{col1} <-> c{col2}\"\n",
    "        self.operations.append(operation_str)\n",
    "        display(Markdown(f\"**Operation:** {operation_str}\"))\n",
    "        display(self.matrix)\n",
    "\n",
    "    # Display the operations performed\n",
    "    def print_operations(self):\n",
    "        display(Markdown(\"**Performed Operations:**\"))\n",
    "        for op in self.operations:\n",
    "            print(op)\n",
    "\n",
    "# Example usage\n",
    "mat = [[1, 2, 3], [2, 5, 3], [3, 2, 1]]\n",
    "\n",
    "m = SymbolicMatrix(mat) # instance of SymbolicMatrix class\n",
    "\n",
    "# define the same matrix for computation check\n",
    "original_matrix = sp.Matrix(mat)"
   ]
  },
  {
   "cell_type": "code",
   "execution_count": 2,
   "metadata": {},
   "outputs": [
    {
     "data": {
      "text/markdown": [
       "**Operation:** r2 = r2 + -2*r1"
      ],
      "text/plain": [
       "<IPython.core.display.Markdown object>"
      ]
     },
     "metadata": {},
     "output_type": "display_data"
    },
    {
     "data": {
      "text/latex": [
       "$\\displaystyle \\left[\\begin{matrix}1 & 2 & 3\\\\0 & 1 & -3\\\\3 & 2 & 1\\end{matrix}\\right]$"
      ],
      "text/plain": [
       "Matrix([\n",
       "[1, 2,  3],\n",
       "[0, 1, -3],\n",
       "[3, 2,  1]])"
      ]
     },
     "metadata": {},
     "output_type": "display_data"
    }
   ],
   "source": [
    "m.add_row(2, 1, -2)"
   ]
  },
  {
   "cell_type": "code",
   "execution_count": 3,
   "metadata": {},
   "outputs": [
    {
     "data": {
      "text/markdown": [
       "**Operation:** r3 = r3 + -3*r1"
      ],
      "text/plain": [
       "<IPython.core.display.Markdown object>"
      ]
     },
     "metadata": {},
     "output_type": "display_data"
    },
    {
     "data": {
      "text/latex": [
       "$\\displaystyle \\left[\\begin{matrix}1 & 2 & 3\\\\0 & 1 & -3\\\\0 & -4 & -8\\end{matrix}\\right]$"
      ],
      "text/plain": [
       "Matrix([\n",
       "[1,  2,  3],\n",
       "[0,  1, -3],\n",
       "[0, -4, -8]])"
      ]
     },
     "metadata": {},
     "output_type": "display_data"
    }
   ],
   "source": [
    "m.add_row(3, 1, -3)"
   ]
  },
  {
   "cell_type": "code",
   "execution_count": 4,
   "metadata": {},
   "outputs": [
    {
     "data": {
      "text/markdown": [
       "**Operation:** r3 = r3 + 4*r2"
      ],
      "text/plain": [
       "<IPython.core.display.Markdown object>"
      ]
     },
     "metadata": {},
     "output_type": "display_data"
    },
    {
     "data": {
      "text/latex": [
       "$\\displaystyle \\left[\\begin{matrix}1 & 2 & 3\\\\0 & 1 & -3\\\\0 & 0 & -20\\end{matrix}\\right]$"
      ],
      "text/plain": [
       "Matrix([\n",
       "[1, 2,   3],\n",
       "[0, 1,  -3],\n",
       "[0, 0, -20]])"
      ]
     },
     "metadata": {},
     "output_type": "display_data"
    }
   ],
   "source": [
    "m.add_row(3, 2, 4)"
   ]
  },
  {
   "cell_type": "markdown",
   "metadata": {},
   "source": [
    "The resulting matrix is an upper triangular matrix.\n",
    "\n",
    "### Determinant of a Triangular Matrix\n",
    "\n",
    "For a triangular matrix, the determinant is equal to the product of the elements on its diagonal."
   ]
  },
  {
   "cell_type": "code",
   "execution_count": 5,
   "metadata": {},
   "outputs": [
    {
     "data": {
      "text/plain": [
       "True"
      ]
     },
     "execution_count": 5,
     "metadata": {},
     "output_type": "execute_result"
    }
   ],
   "source": [
    "# The determinant of a triangular matrix is the product of the diagonal elements!\n",
    "original_matrix.det() == 1 * 1 * (-20)"
   ]
  },
  {
   "cell_type": "markdown",
   "metadata": {},
   "source": [
    "---\n",
    "\n",
    "## Exercises for Students\n",
    "\n",
    "Perform row and column operations to reduce the following matrices to an upper triangular form and calculate their determinants by taking the product of the diagonal elements.\n",
    "\n",
    "1. \n",
    "$$\n",
    "A = \\begin{bmatrix}\n",
    "12 & 3 \\\\\n",
    "-18 & -4\n",
    "\\end{bmatrix}\n",
    "$$\n",
    "\n",
    "2.\n",
    "\n",
    "$$\n",
    "B = \\begin{bmatrix} \n",
    "1 & 2 & 3 \\\\\n",
    "4 & 5 & 6 \\\\\n",
    "7 & 8 & 9 \n",
    "\\end{bmatrix}\n",
    "$$"
   ]
  },
  {
   "cell_type": "markdown",
   "metadata": {},
   "source": "\n"
  },
  {
   "metadata": {
    "ExecuteTime": {
     "end_time": "2024-11-14T22:37:38.429141Z",
     "start_time": "2024-11-14T22:37:38.419124Z"
    }
   },
   "cell_type": "code",
   "source": [
    "# Exercise 1\n",
    "import numpy as np\n",
    "\n",
    "# Define matrix A\n",
    "A = np.array([[12, 3], [-18, -4]], dtype=float)\n",
    "\n",
    "print(\"Original Matrix A:\")\n",
    "print(A)\n",
    "\n",
    "# R2 = R2 + (18/12) * R1\n",
    "A[1] = A[1] + (18 / 12) * A[0]\n",
    "print(\"\\nAfter making the first column below the pivot 0:\")\n",
    "print(A)\n",
    "\n",
    "# Product of diagonal elements\n",
    "det_A = np.prod(np.diag(A))  \n",
    "print(\"\\nDeterminant of A:\", det_A)\n",
    "\n"
   ],
   "outputs": [
    {
     "name": "stdout",
     "output_type": "stream",
     "text": [
      "Original Matrix A:\n",
      "[[ 12.   3.]\n",
      " [-18.  -4.]]\n",
      "\n",
      "After making the first column below the pivot 0:\n",
      "[[12.   3. ]\n",
      " [ 0.   0.5]]\n",
      "\n",
      "Determinant of A: 6.0\n"
     ]
    }
   ],
   "execution_count": 4
  },
  {
   "metadata": {
    "ExecuteTime": {
     "end_time": "2024-11-14T22:37:31.050587Z",
     "start_time": "2024-11-14T22:37:30.961160Z"
    }
   },
   "cell_type": "code",
   "source": [
    "# Exercise 2\n",
    "import numpy as np\n",
    "# Define matrix B\n",
    "B = np.array([[1, 2, 3], [4, 5, 6], [7, 8, 9]], dtype=float)\n",
    "\n",
    "print(\"\\nOriginal Matrix B:\")\n",
    "print(B)\n",
    "\n",
    "# R2 = R2 - 4 * R1\n",
    "B[1] = B[1] - 4 * B[0]\n",
    "# R3 = R3 - 7 * R1\n",
    "B[2] = B[2] - 7 * B[0]\n",
    "print(\"\\nAfter making the first column below the pivot 0:\")\n",
    "print(B)\n",
    "\n",
    "# Make the second element in the second row a pivot of 1 by row scaling \n",
    "if B[1, 1] != 0:\n",
    "    B[1] = B[1] / B[1, 1]\n",
    "\n",
    "# Make the element below the second pivot in the second column zero by row operations\n",
    "# R3 = R3 - B[2, 1] * R2\n",
    "B[2] = B[2] - B[2, 1] * B[1]\n",
    "print(\"\\nAfter making the second column below the pivot 0:\")\n",
    "print(B)\n",
    "\n",
    "# Product of diagonal elements\n",
    "det_B = np.prod(np.diag(B))  # Product of diagonal elements\n",
    "print(\"\\nDeterminant of B:\", det_B)\n"
   ],
   "outputs": [
    {
     "name": "stdout",
     "output_type": "stream",
     "text": [
      "\n",
      "Original Matrix B:\n",
      "[[1. 2. 3.]\n",
      " [4. 5. 6.]\n",
      " [7. 8. 9.]]\n",
      "\n",
      "After making the first column below the pivot 0:\n",
      "[[  1.   2.   3.]\n",
      " [  0.  -3.  -6.]\n",
      " [  0.  -6. -12.]]\n",
      "\n",
      "After making the second column below the pivot 0:\n",
      "[[ 1.  2.  3.]\n",
      " [-0.  1.  2.]\n",
      " [ 0.  0.  0.]]\n",
      "\n",
      "Determinant of B: 0.0\n"
     ]
    }
   ],
   "execution_count": 3
  }
 ],
 "metadata": {
  "kernelspec": {
   "display_name": "Python 3",
   "language": "python",
   "name": "python3"
  },
  "language_info": {
   "codemirror_mode": {
    "name": "ipython",
    "version": 3
   },
   "file_extension": ".py",
   "mimetype": "text/x-python",
   "name": "python",
   "nbconvert_exporter": "python",
   "pygments_lexer": "ipython3",
   "version": "3.11.9"
  }
 },
 "nbformat": 4,
 "nbformat_minor": 4
}
